{
  "nbformat": 4,
  "nbformat_minor": 0,
  "metadata": {
    "colab": {
      "name": "arviointipohjien_luonti.ipynb",
      "provenance": [],
      "collapsed_sections": [],
      "include_colab_link": true
    },
    "kernelspec": {
      "name": "python3",
      "display_name": "Python 3"
    }
  },
  "cells": [
    {
      "cell_type": "markdown",
      "metadata": {
        "id": "view-in-github",
        "colab_type": "text"
      },
      "source": [
        "<a href=\"https://colab.research.google.com/github/NatLibFi/Annif/blob/kvp2019-workshop/arviointipohjien_luonti.ipynb\" target=\"_parent\"><img src=\"https://colab.research.google.com/assets/colab-badge.svg\" alt=\"Open In Colab\"/></a>"
      ]
    },
    {
      "cell_type": "code",
      "metadata": {
        "id": "uzbbqCiOwOW2",
        "colab_type": "code",
        "outputId": "800f59bd-4152-4572-ceab-3f925666b9d9",
        "colab": {
          "base_uri": "https://localhost:8080/",
          "height": 513
        }
      },
      "source": [
        "! pip install gspread-pandas gspread-formatting"
      ],
      "execution_count": 0,
      "outputs": [
        {
          "output_type": "stream",
          "text": [
            "Collecting gspread-pandas\n",
            "  Downloading https://files.pythonhosted.org/packages/e7/9f/2d2240473b006b21977238d0bc88699fb15fd520a2ed52f799b30ea2adbf/gspread_pandas-2.1.3-py2.py3-none-any.whl\n",
            "Collecting gspread-formatting\n",
            "  Downloading https://files.pythonhosted.org/packages/a0/c0/eeda413d0ca4355227705d59126075abd127aec2b5e85b16e0b03f56616f/gspread_formatting-0.0.7-py2.py3-none-any.whl\n",
            "Requirement already satisfied: decorator in /usr/local/lib/python3.6/dist-packages (from gspread-pandas) (4.4.0)\n",
            "Requirement already satisfied: future in /usr/local/lib/python3.6/dist-packages (from gspread-pandas) (0.16.0)\n",
            "Requirement already satisfied: google-auth in /usr/local/lib/python3.6/dist-packages (from gspread-pandas) (1.4.2)\n",
            "Requirement already satisfied: pandas>=0.20.0 in /usr/local/lib/python3.6/dist-packages (from gspread-pandas) (0.24.2)\n",
            "Requirement already satisfied: google-auth-oauthlib in /usr/local/lib/python3.6/dist-packages (from gspread-pandas) (0.4.1)\n",
            "Requirement already satisfied: gspread>=3.0.0 in /usr/local/lib/python3.6/dist-packages (from gspread-pandas) (3.0.1)\n",
            "Requirement already satisfied: rsa>=3.1.4 in /usr/local/lib/python3.6/dist-packages (from google-auth->gspread-pandas) (4.0)\n",
            "Requirement already satisfied: six>=1.9.0 in /usr/local/lib/python3.6/dist-packages (from google-auth->gspread-pandas) (1.12.0)\n",
            "Requirement already satisfied: cachetools>=2.0.0 in /usr/local/lib/python3.6/dist-packages (from google-auth->gspread-pandas) (3.1.1)\n",
            "Requirement already satisfied: pyasn1-modules>=0.2.1 in /usr/local/lib/python3.6/dist-packages (from google-auth->gspread-pandas) (0.2.6)\n",
            "Requirement already satisfied: pytz>=2011k in /usr/local/lib/python3.6/dist-packages (from pandas>=0.20.0->gspread-pandas) (2018.9)\n",
            "Requirement already satisfied: python-dateutil>=2.5.0 in /usr/local/lib/python3.6/dist-packages (from pandas>=0.20.0->gspread-pandas) (2.5.3)\n",
            "Requirement already satisfied: numpy>=1.12.0 in /usr/local/lib/python3.6/dist-packages (from pandas>=0.20.0->gspread-pandas) (1.16.5)\n",
            "Requirement already satisfied: requests-oauthlib>=0.7.0 in /usr/local/lib/python3.6/dist-packages (from google-auth-oauthlib->gspread-pandas) (1.2.0)\n",
            "Requirement already satisfied: requests>=2.2.1 in /usr/local/lib/python3.6/dist-packages (from gspread>=3.0.0->gspread-pandas) (2.21.0)\n",
            "Requirement already satisfied: pyasn1>=0.1.3 in /usr/local/lib/python3.6/dist-packages (from rsa>=3.1.4->google-auth->gspread-pandas) (0.4.7)\n",
            "Requirement already satisfied: oauthlib>=3.0.0 in /usr/local/lib/python3.6/dist-packages (from requests-oauthlib>=0.7.0->google-auth-oauthlib->gspread-pandas) (3.1.0)\n",
            "Requirement already satisfied: idna<2.9,>=2.5 in /usr/local/lib/python3.6/dist-packages (from requests>=2.2.1->gspread>=3.0.0->gspread-pandas) (2.8)\n",
            "Requirement already satisfied: chardet<3.1.0,>=3.0.2 in /usr/local/lib/python3.6/dist-packages (from requests>=2.2.1->gspread>=3.0.0->gspread-pandas) (3.0.4)\n",
            "Requirement already satisfied: certifi>=2017.4.17 in /usr/local/lib/python3.6/dist-packages (from requests>=2.2.1->gspread>=3.0.0->gspread-pandas) (2019.9.11)\n",
            "Requirement already satisfied: urllib3<1.25,>=1.21.1 in /usr/local/lib/python3.6/dist-packages (from requests>=2.2.1->gspread>=3.0.0->gspread-pandas) (1.24.3)\n",
            "Installing collected packages: gspread-pandas, gspread-formatting\n",
            "Successfully installed gspread-formatting-0.0.7 gspread-pandas-2.1.3\n"
          ],
          "name": "stdout"
        }
      ]
    },
    {
      "cell_type": "code",
      "metadata": {
        "id": "ccHXoGc8wQaI",
        "colab_type": "code",
        "colab": {}
      },
      "source": [
        "! mkdir -p  /root/.config/gspread_pandas/\n",
        "! echo '{\"installed\":{\"client_id\":\"257572009167-uai362klp88kr3hluabtoujf2hnd7fr6.apps.googleusercontent.com\",\"project_id\":\"formal-archive-254810\",\"auth_uri\":\"https://accounts.google.com/o/oauth2/auth\",\"token_uri\":\"https://oauth2.googleapis.com/token\",\"auth_provider_x509_cert_url\":\"https://www.googleapis.com/oauth2/v1/certs\",\"client_secret\":\"x554t-fVXmFDrENKrXu8GuKy\",\"redirect_uris\":[\"urn:ietf:wg:oauth:2.0:oob\",\"http://localhost\"]}}' > /root/.config/gspread_pandas/google_secret.json"
      ],
      "execution_count": 0,
      "outputs": []
    },
    {
      "cell_type": "code",
      "metadata": {
        "id": "B3y_qT1vwZ2f",
        "colab_type": "code",
        "colab": {}
      },
      "source": [
        "import pandas as pd\n",
        "import random\n",
        "from gspread_pandas import Spread, Client\n",
        "from gspread_formatting import cellFormat, format_cell_range, set_frozen, color, textFormat\n",
        "\n",
        "pd.set_option('display.width', 1000)\n",
        "pd.set_option('display.max_rows', 500)\n",
        "pd.set_option('max_colwidth', 100) "
      ],
      "execution_count": 0,
      "outputs": []
    },
    {
      "cell_type": "code",
      "metadata": {
        "id": "3sDThQdvapBH",
        "colab_type": "code",
        "outputId": "8f1e0d8c-8a3f-4a1c-fa32-07799ea59d22",
        "colab": {
          "base_uri": "https://localhost:8080/",
          "height": 1000
        }
      },
      "source": [
        "# Fetch kuvailut\n",
        "\n",
        "client = Client()\n",
        "spreads = client.find_spreadsheet_files_in_folders('Dokumenttien kuvailut')\n",
        "\n",
        "df_kuvailut1 = pd.DataFrame()\n",
        "df_kuvailut2 = pd.DataFrame()\n",
        "df_kuvailut3 = pd.DataFrame()\n",
        "\n",
        "for kuvailu_id, spread in enumerate(spreads['Dokumenttien kuvailut']):\n",
        "  print(spread['name'])\n",
        "  # Tietokirjat:\n",
        "  if spread['name'].startswith(\"Kuvailut Annif\"):\n",
        "      df_sheet = Spread(spread['id'], sheet=0).sheet_to_df(index=None)\n",
        "      df_sheet['kid'] = kuvailu_id\n",
        "      df_sheet['tiedostonimi'] = spread['name']\n",
        "      df_sheet.columns = df_sheet.columns.str.lower()\n",
        "      df_kuvailut1 = df_kuvailut1.append(df_sheet)\n",
        "  elif spread['name'].startswith(\"kuvailut_tieto\"):\n",
        "      df_sheet = Spread(spread['id'], sheet=0).sheet_to_df(index=None)\n",
        "      df_sheet['kid'] = kuvailu_id\n",
        "      df_sheet['tiedostonimi'] = spread['name']\n",
        "      df_sheet.rename(columns={'isbn': 'url kokotekstiin'}, inplace=True)\n",
        "      df_sheet.columns = df_sheet.columns.str.lower()\n",
        "      df_kuvailut2 = df_kuvailut2.append(df_sheet)\n",
        "  else:\n",
        "      df_sheet = Spread(spread['id'], sheet=0).sheet_to_df(index=None)\n",
        "      df_sheet['kid'] = kuvailu_id\n",
        "      df_sheet['tiedostonimi'] = spread['name']\n",
        "      df_sheet.columns = df_sheet.columns.str.lower()\n",
        "      df_kuvailut3 = df_kuvailut3.append(df_sheet)    \n",
        "  "
      ],
      "execution_count": 111,
      "outputs": [
        {
          "output_type": "stream",
          "text": [
            "Copy of Kuvailut Fennica\n",
            "Copy of Kuvailut K27\n",
            "Kuvailut Annif-FastText\n",
            "Kuvailut Annif-PAV\n",
            "Kuvailut Annif-TFIDF\n",
            "Kuvailut Annif-Maui\n",
            "jyx_kuvailut Juho\n",
            "SKT1 KL Copy of Kuvailut\n"
          ],
          "name": "stdout"
        },
        {
          "output_type": "stream",
          "text": [
            "/usr/local/lib/python3.6/dist-packages/pandas/core/frame.py:6692: FutureWarning: Sorting because non-concatenation axis is not aligned. A future version\n",
            "of pandas will change to not sort by default.\n",
            "\n",
            "To accept the future behavior, pass 'sort=False'.\n",
            "\n",
            "To retain the current behavior and silence the warning, pass 'sort=True'.\n",
            "\n",
            "  sort=sort)\n"
          ],
          "name": "stderr"
        },
        {
          "output_type": "stream",
          "text": [
            "jyx_kuvailut Mona\n",
            "jyx_kuvailut Osma\n",
            "jyx_kuvailut_orig\n",
            "kuvailut_tieto Osma\n",
            "Copy of Kuvailut K07\n",
            "Copy of Kuvailut K16\n",
            "Copy of Kuvailut K31\n",
            "kuvailut_tieto Mona\n",
            "kuvailut_tieto Fennica\n",
            "kuvailut_tieto Juho\n",
            "SKT4 VL Copy of Kuvailut \n",
            "SKT3 JM Kuvailut Copy of \n",
            "SKT2 PM Copy of Kuvailut \n",
            "Copy of Kuvailut K02\n",
            "Copy of Kuvailut K17\n",
            "Copy of Kuvailut K05\n",
            "Copy of Kuvailut K14\n",
            "Copy of Kuvailut K11\n",
            "Copy of Kuvailut K08\n",
            "Copy of Kuvailut K32\n",
            "Copy of Kuvailut K23\n",
            "Copy of Kuvailut K29\n",
            "Copy of Kuvailut K20\n",
            "Copy of Kuvailut K26\n",
            "Copy of Kuvailut K19\n",
            "Copy of Kuvailut K10\n",
            "Copy of Kuvailut K38\n",
            "Copy of Kuvailut K13\n",
            "Copy of Kuvailut K35\n",
            "Copy of Kuvailut K40\n",
            "Copy of Kuvailut K28\n",
            "Copy of Kuvailut K25\n",
            "Copy of Kuvailut K37\n",
            "Copy of Kuvailut K22\n",
            "Copy of Kuvailut K18\n",
            "Copy of Kuvailut K06\n",
            "Copy of Kuvailut K12\n",
            "Copy of Kuvailut K03\n",
            "Copy of Kuvailut K09\n",
            "Copy of Kuvailut K33\n",
            "Copy of Kuvailut K39\n",
            "Copy of Kuvailut K21\n",
            "Copy of Kuvailut K36\n",
            "Copy of Kuvailut K04\n",
            "Copy of Kuvailut K01\n",
            "Copy of Kuvailut K34\n",
            "Copy of Kuvailut K24\n",
            "Copy of Kuvailut K15\n",
            "Copy of Kuvailut K30\n"
          ],
          "name": "stdout"
        }
      ]
    },
    {
      "cell_type": "code",
      "metadata": {
        "id": "inElSu2NNxpm",
        "colab_type": "code",
        "outputId": "a6437a2e-ef6a-4a09-f616-871098a164b3",
        "colab": {
          "base_uri": "https://localhost:8080/",
          "height": 311
        }
      },
      "source": [
        "# Preprocess 1\n",
        "\n",
        "df_kuvailut = pd.concat([df_kuvailut2, df_kuvailut3])\n",
        "cols_to_keep = ['id', 'nimeke', 'url kokotekstiin', 'aiheet', 'kid', 'tiedostonimi']\n",
        "df_kuvailut = df_kuvailut[cols_to_keep]\n",
        "df_kuvailut.rename(columns={'id': 'did'}, inplace=True)\n",
        "df_kuvailut[['did', 'nimeke', 'url kokotekstiin']] = df_kuvailut[['did', 'nimeke', 'url kokotekstiin']].mask(df_kuvailut[['did', 'nimeke', 'url kokotekstiin']]=='', None).ffill()\n",
        "\n",
        "# Append Annif indexed\n",
        "df_kuvailut1.rename(columns={'id': 'did'}, inplace=True)\n",
        "df_kuvailut1['did'] = df_kuvailut1['did'].mask(df_kuvailut1['did']=='', None).ffill()\n",
        "df_kuvailut = df_kuvailut.append(\n",
        "    df_kuvailut1.merge(\n",
        "        df_kuvailut[['did', 'nimeke', 'url kokotekstiin']].drop_duplicates(),\n",
        "        on='did'\n",
        "    ))\n"
      ],
      "execution_count": 113,
      "outputs": [
        {
          "output_type": "stream",
          "text": [
            "/usr/local/lib/python3.6/dist-packages/ipykernel_launcher.py:2: FutureWarning: Sorting because non-concatenation axis is not aligned. A future version\n",
            "of pandas will change to not sort by default.\n",
            "\n",
            "To accept the future behavior, pass 'sort=False'.\n",
            "\n",
            "To retain the current behavior and silence the warning, pass 'sort=True'.\n",
            "\n",
            "  \n",
            "/usr/local/lib/python3.6/dist-packages/pandas/core/frame.py:6692: FutureWarning: Sorting because non-concatenation axis is not aligned. A future version\n",
            "of pandas will change to not sort by default.\n",
            "\n",
            "To accept the future behavior, pass 'sort=False'.\n",
            "\n",
            "To retain the current behavior and silence the warning, pass 'sort=True'.\n",
            "\n",
            "  sort=sort)\n"
          ],
          "name": "stderr"
        }
      ]
    },
    {
      "cell_type": "code",
      "metadata": {
        "id": "2issbMKK2wZF",
        "colab_type": "code",
        "colab": {}
      },
      "source": [
        "# Set types of index source method\n",
        "#ihminen = ['kuvailut_tieto Mona', 'jyx_kuvailut Mona', 'jyx_kuvailut Juho', 'Copy of Kuvailut K']\n",
        "annif_avusteiset = ['kuvailut_tieto Osma', 'kuvailut_tieto Juho', 'jyx_kuvailut_orig']\n",
        "annif = 'Kuvailut Annif-'\n",
        "fennica = ['kuvailut_tieto Fennica', 'Copy of Kuvailut Fennica']\n",
        "\n",
        "df_kuvailut['tyyppi'] = df_kuvailut['tiedostonimi'].apply(lambda x:\n",
        "                                                          'annif_avusteinen' if x in annif_avusteiset\n",
        "                                                          else (\n",
        "                                                              'fennica' if x in fennica\n",
        "                                                              else (\n",
        "                                                                  'annif' if 'Kuvailut Annif-' in x \n",
        "                                                                  else 'ihminen'\n",
        "                                                            )))\n",
        "\n",
        "# Remove example:\n",
        "df_kuvailut = df_kuvailut[df_kuvailut.did != 'D00']\n",
        "\n",
        "# Correct url for document D20:\n",
        "df_kuvailut.loc[df_kuvailut.did == 'D20', 'url kokotekstiin'] = 'https://www.doria.fi/bitstream/handle/10024/130803/yyti_stv_201600_2016_net_p2.pdf?sequence=2&isAllowed=y'\n",
        "#df_kuvailut1[df_kuvailut1.did == 'D01']"
      ],
      "execution_count": 0,
      "outputs": []
    },
    {
      "cell_type": "code",
      "metadata": {
        "id": "Sm9eYcMtl6rx",
        "colab_type": "code",
        "outputId": "2bcd7a34-3233-4af5-9f71-cf80f5a435a8",
        "colab": {
          "base_uri": "https://localhost:8080/",
          "height": 511
        }
      },
      "source": [
        "# Create header and footer to insert around kuvailu \n",
        "\n",
        "df_ylaosa = pd.DataFrame({'did': [''], 'kid': [''], 'aiheet': ['aiheet'], 'poistettavat': ['poista = x'], 'empty1': [''], 'empty2': ['']})\n",
        "\n",
        "df_alaosa0 = pd.DataFrame({'did': [''], 'aiheet': [''], 'kid': ['']})\n",
        "df_alaosa1 = pd.DataFrame({'did': [''], 'empty2': ['arvosana'], 'kid': ['']})\n",
        "df_alaosa2 = pd.DataFrame({'did': ['']*4, 'empty1': ['Kuvailu on kattava', 'Käytetyt asiasanat ovat sisällön kannalta merkityksellisiä', 'Kuvailu on laadukas', 'Vapaa kenttä'], 'kid': ['']*4})\n",
        "df_alaosa = pd.concat([df_alaosa0, df_alaosa1, df_alaosa2, df_alaosa0, df_alaosa0])\n",
        "\n",
        "\n",
        "display(df_ylaosa)\n",
        "display(df_alaosa)\n",
        "\n",
        "# Formatting\n",
        "fmt = cellFormat(\n",
        "    horizontalAlignment='RIGHT'\n",
        "    )\n",
        "fmt_header = cellFormat(\n",
        "    backgroundColor=color(144/256., 238/256., 144/256.),\n",
        "    textFormat=textFormat(bold=True) #, foregroundColor=color(1, 0, 1)),\n",
        "    )\n"
      ],
      "execution_count": 118,
      "outputs": [
        {
          "output_type": "stream",
          "text": [
            "/usr/local/lib/python3.6/dist-packages/ipykernel_launcher.py:7: FutureWarning: Sorting because non-concatenation axis is not aligned. A future version\n",
            "of pandas will change to not sort by default.\n",
            "\n",
            "To accept the future behavior, pass 'sort=False'.\n",
            "\n",
            "To retain the current behavior and silence the warning, pass 'sort=True'.\n",
            "\n",
            "  import sys\n"
          ],
          "name": "stderr"
        },
        {
          "output_type": "display_data",
          "data": {
            "text/html": [
              "<div>\n",
              "<style scoped>\n",
              "    .dataframe tbody tr th:only-of-type {\n",
              "        vertical-align: middle;\n",
              "    }\n",
              "\n",
              "    .dataframe tbody tr th {\n",
              "        vertical-align: top;\n",
              "    }\n",
              "\n",
              "    .dataframe thead th {\n",
              "        text-align: right;\n",
              "    }\n",
              "</style>\n",
              "<table border=\"1\" class=\"dataframe\">\n",
              "  <thead>\n",
              "    <tr style=\"text-align: right;\">\n",
              "      <th></th>\n",
              "      <th>did</th>\n",
              "      <th>kid</th>\n",
              "      <th>aiheet</th>\n",
              "      <th>poistettavat</th>\n",
              "      <th>empty1</th>\n",
              "      <th>empty2</th>\n",
              "    </tr>\n",
              "  </thead>\n",
              "  <tbody>\n",
              "    <tr>\n",
              "      <th>0</th>\n",
              "      <td></td>\n",
              "      <td></td>\n",
              "      <td>aiheet</td>\n",
              "      <td>poista = x</td>\n",
              "      <td></td>\n",
              "      <td></td>\n",
              "    </tr>\n",
              "  </tbody>\n",
              "</table>\n",
              "</div>"
            ],
            "text/plain": [
              "  did kid  aiheet poistettavat empty1 empty2\n",
              "0          aiheet   poista = x              "
            ]
          },
          "metadata": {
            "tags": []
          }
        },
        {
          "output_type": "display_data",
          "data": {
            "text/html": [
              "<div>\n",
              "<style scoped>\n",
              "    .dataframe tbody tr th:only-of-type {\n",
              "        vertical-align: middle;\n",
              "    }\n",
              "\n",
              "    .dataframe tbody tr th {\n",
              "        vertical-align: top;\n",
              "    }\n",
              "\n",
              "    .dataframe thead th {\n",
              "        text-align: right;\n",
              "    }\n",
              "</style>\n",
              "<table border=\"1\" class=\"dataframe\">\n",
              "  <thead>\n",
              "    <tr style=\"text-align: right;\">\n",
              "      <th></th>\n",
              "      <th>aiheet</th>\n",
              "      <th>did</th>\n",
              "      <th>empty1</th>\n",
              "      <th>empty2</th>\n",
              "      <th>kid</th>\n",
              "    </tr>\n",
              "  </thead>\n",
              "  <tbody>\n",
              "    <tr>\n",
              "      <th>0</th>\n",
              "      <td></td>\n",
              "      <td></td>\n",
              "      <td>NaN</td>\n",
              "      <td>NaN</td>\n",
              "      <td></td>\n",
              "    </tr>\n",
              "    <tr>\n",
              "      <th>0</th>\n",
              "      <td>NaN</td>\n",
              "      <td></td>\n",
              "      <td>NaN</td>\n",
              "      <td>arvosana</td>\n",
              "      <td></td>\n",
              "    </tr>\n",
              "    <tr>\n",
              "      <th>0</th>\n",
              "      <td>NaN</td>\n",
              "      <td></td>\n",
              "      <td>Kuvailu on kattava</td>\n",
              "      <td>NaN</td>\n",
              "      <td></td>\n",
              "    </tr>\n",
              "    <tr>\n",
              "      <th>1</th>\n",
              "      <td>NaN</td>\n",
              "      <td></td>\n",
              "      <td>Käytetyt asiasanat ovat sisällön kannalta merkityksellisiä</td>\n",
              "      <td>NaN</td>\n",
              "      <td></td>\n",
              "    </tr>\n",
              "    <tr>\n",
              "      <th>2</th>\n",
              "      <td>NaN</td>\n",
              "      <td></td>\n",
              "      <td>Kuvailu on laadukas</td>\n",
              "      <td>NaN</td>\n",
              "      <td></td>\n",
              "    </tr>\n",
              "    <tr>\n",
              "      <th>3</th>\n",
              "      <td>NaN</td>\n",
              "      <td></td>\n",
              "      <td>Vapaa kenttä</td>\n",
              "      <td>NaN</td>\n",
              "      <td></td>\n",
              "    </tr>\n",
              "    <tr>\n",
              "      <th>0</th>\n",
              "      <td></td>\n",
              "      <td></td>\n",
              "      <td>NaN</td>\n",
              "      <td>NaN</td>\n",
              "      <td></td>\n",
              "    </tr>\n",
              "    <tr>\n",
              "      <th>0</th>\n",
              "      <td></td>\n",
              "      <td></td>\n",
              "      <td>NaN</td>\n",
              "      <td>NaN</td>\n",
              "      <td></td>\n",
              "    </tr>\n",
              "  </tbody>\n",
              "</table>\n",
              "</div>"
            ],
            "text/plain": [
              "  aiheet did  ...    empty2 kid\n",
              "0             ...       NaN    \n",
              "0    NaN      ...  arvosana    \n",
              "0    NaN      ...       NaN    \n",
              "1    NaN      ...       NaN    \n",
              "2    NaN      ...       NaN    \n",
              "3    NaN      ...       NaN    \n",
              "0             ...       NaN    \n",
              "0             ...       NaN    \n",
              "\n",
              "[8 rows x 5 columns]"
            ]
          },
          "metadata": {
            "tags": []
          }
        }
      ]
    },
    {
      "cell_type": "code",
      "metadata": {
        "id": "IqiKJVk-oEYy",
        "colab_type": "code",
        "outputId": "9998d787-de6d-4fbc-a8c1-431269b69c0a",
        "colab": {
          "base_uri": "https://localhost:8080/",
          "height": 1000
        }
      },
      "source": [
        "# Create files and sheets\n",
        "\n",
        "min_num_aiheet = 1\n",
        "max_num_ihmiskuvailut = 3\n",
        "num_arvioija = 5\n",
        "num_sheets = 10  # One sheet for one document\n",
        "\n",
        "include_types = ['fennica', 'annif', 'annif_avusteinen']\n",
        "columns = ['did', 'kid', 'aiheet'] #, 'tiedostonimi']\n",
        "\n",
        "dokumentit = [(did, df_dokumentti) for did, df_dokumentti in df_kuvailut.groupby('did')]\n",
        "\n",
        "for arvioija_ind in range(num_arvioija):\n",
        "    print('arvioija_ind: ', arvioija_ind)\n",
        "    spread = Spread('arvioija_' + str(arvioija_ind) , create_spread=True)\n",
        "    spread.move('Kivepa2019 Aaveita koneessa (kivepa-aaveita)/Arvioijakohtaiset taulukot')\n",
        "    #random.shuffle(dokumentit)\n",
        "\n",
        "    cnt_sheet = 0\n",
        "    for did, df_dokumentti in dokumentit:\n",
        "        spread.open_sheet(did, create=True)\n",
        "        df_pohja = pd.DataFrame(columns=columns)\n",
        "        print('document_id: ', did)\n",
        "        kuvailut = [df_dokumentti_kuvailu \n",
        "                    for _, df_dokumentti_kuvailu \n",
        "                    in df_dokumentti.groupby('kid')\n",
        "                    if df_dokumentti_kuvailu.tyyppi.iloc[0] in include_types\n",
        "                    and len(df_dokumentti_kuvailu.aiheet[df_dokumentti_kuvailu.aiheet != '']) >= min_num_aiheet\n",
        "                    ]\n",
        "        ihmiskuvailut = [df_dokumentti_kuvailu \n",
        "                    for _, df_dokumentti_kuvailu \n",
        "                    in df_dokumentti.groupby('kid')\n",
        "                    if df_dokumentti_kuvailu.tyyppi.iloc[0] == 'ihminen'\n",
        "                    and len(df_dokumentti_kuvailu.aiheet[df_dokumentti_kuvailu.aiheet != '']) >= min_num_aiheet\n",
        "                    ]\n",
        "        random.shuffle(ihmiskuvailut)\n",
        "        ihmiskuvailut = ihmiskuvailut[:max_num_ihmiskuvailut]\n",
        "        kuvailut.extend(ihmiskuvailut)\n",
        "        random.shuffle(kuvailut)\n",
        "        \n",
        "        df_header = df_dokumentti.iloc[0][['did', 'nimeke', 'url kokotekstiin']].to_frame()\n",
        "        spread.df_to_sheet(df_header, headers=False, index=False)\n",
        "\n",
        "        for df_dokumentti_kuvailu in kuvailut:\n",
        "            df_pohja = df_pohja.append(df_ylaosa.append(df_dokumentti_kuvailu[columns], sort=False).append(df_alaosa, sort=False).fillna(''), sort=False)\n",
        "\n",
        "        spread.df_to_sheet(df_pohja, index=False, headers=False, start=(4, 1))\n",
        "        format_cell_range(spread.sheet, 'D1:E' + str(len(df_pohja)), fmt)\n",
        "        set_frozen(spread.sheet, rows=3)\n",
        "        format_cell_range(spread.sheet, 'A1:F3', fmt_header)\n",
        "        \n",
        "        cnt_sheet += 1\n",
        "        if cnt_sheet >= num_sheets:\n",
        "            break\n",
        "    spread.delete_sheet('Sheet1')\n",
        "    dokumentit = dokumentit[1:] + [dokumentit[0]]  # Rotate order from front to back\n"
      ],
      "execution_count": 122,
      "outputs": [
        {
          "output_type": "stream",
          "text": [
            "arvioija_ind:  0\n",
            "document_id:  D01\n",
            "document_id:  D02\n",
            "document_id:  D03\n",
            "document_id:  D04\n",
            "document_id:  D05\n",
            "document_id:  D06\n",
            "document_id:  D07\n",
            "document_id:  D08\n",
            "document_id:  D09\n",
            "document_id:  D10\n",
            "arvioija_ind:  1\n",
            "document_id:  D02\n",
            "document_id:  D03\n",
            "document_id:  D04\n",
            "document_id:  D05\n",
            "document_id:  D06\n",
            "document_id:  D07\n",
            "document_id:  D08\n",
            "document_id:  D09\n",
            "document_id:  D10\n",
            "document_id:  D11\n",
            "arvioija_ind:  2\n",
            "document_id:  D03\n",
            "document_id:  D04\n",
            "document_id:  D05\n",
            "document_id:  D06\n",
            "document_id:  D07\n",
            "document_id:  D08\n",
            "document_id:  D09\n",
            "document_id:  D10\n",
            "document_id:  D11\n",
            "document_id:  D12\n",
            "arvioija_ind:  3\n",
            "document_id:  D04\n",
            "document_id:  D05\n",
            "document_id:  D06\n",
            "document_id:  D07\n",
            "document_id:  D08\n",
            "document_id:  D09\n",
            "document_id:  D10\n",
            "document_id:  D11\n",
            "document_id:  D12\n",
            "document_id:  D13\n",
            "arvioija_ind:  4\n",
            "document_id:  D05\n",
            "document_id:  D06\n",
            "document_id:  D07\n",
            "document_id:  D08\n",
            "document_id:  D09\n",
            "document_id:  D10\n",
            "document_id:  D11\n",
            "document_id:  D12\n",
            "document_id:  D13\n",
            "document_id:  D14\n"
          ],
          "name": "stdout"
        }
      ]
    },
    {
      "cell_type": "code",
      "metadata": {
        "id": "Sv1C7j5YKZyu",
        "colab_type": "code",
        "outputId": "83fe0fff-99b1-4c9a-fb14-d69fe843090a",
        "colab": {
          "base_uri": "https://localhost:8080/",
          "height": 35
        }
      },
      "source": [
        "# Save kuvailut data for use in analysis\n",
        "\n",
        "from google.colab import drive\n",
        "drive.mount('drive')\n",
        "\n",
        "# Drop rows without aihe (corresponds to min_num_aiheet = 1)\n",
        "df_kuvailut[df_kuvailut.aiheet != ''].to_csv('kuvailut.csv')\n",
        "!cp kuvailut.csv drive/My\\ Drive/Kivepa2019\\ Aaveita\\ koneessa\\ \\(kivepa-aaveita\\)/\n"
      ],
      "execution_count": 132,
      "outputs": [
        {
          "output_type": "stream",
          "text": [
            "Drive already mounted at drive; to attempt to forcibly remount, call drive.mount(\"drive\", force_remount=True).\n"
          ],
          "name": "stdout"
        }
      ]
    },
    {
      "cell_type": "code",
      "metadata": {
        "id": "71AeQrxorZHJ",
        "colab_type": "code",
        "colab": {}
      },
      "source": [
        ""
      ],
      "execution_count": 0,
      "outputs": []
    }
  ]
}