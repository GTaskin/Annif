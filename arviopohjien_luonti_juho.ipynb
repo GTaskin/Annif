{
  "nbformat": 4,
  "nbformat_minor": 0,
  "metadata": {
    "colab": {
      "name": "arviopohjien_luonti_juho.ipynb",
      "provenance": [],
      "collapsed_sections": [],
      "include_colab_link": true
    },
    "kernelspec": {
      "name": "python3",
      "display_name": "Python 3"
    }
  },
  "cells": [
    {
      "cell_type": "markdown",
      "metadata": {
        "id": "view-in-github",
        "colab_type": "text"
      },
      "source": [
        "<a href=\"https://colab.research.google.com/github/NatLibFi/Annif/blob/kvp2019-workshop/arviopohjien_luonti_juho.ipynb\" target=\"_parent\"><img src=\"https://colab.research.google.com/assets/colab-badge.svg\" alt=\"Open In Colab\"/></a>"
      ]
    },
    {
      "cell_type": "code",
      "metadata": {
        "id": "uzbbqCiOwOW2",
        "colab_type": "code",
        "outputId": "7d3f13d8-0888-4c21-c8af-ab22b0fe3620",
        "colab": {
          "base_uri": "https://localhost:8080/",
          "height": 476
        }
      },
      "source": [
        "! pip install gspread-pandas"
      ],
      "execution_count": 1,
      "outputs": [
        {
          "output_type": "stream",
          "text": [
            "Collecting gspread-pandas\n",
            "  Downloading https://files.pythonhosted.org/packages/e7/9f/2d2240473b006b21977238d0bc88699fb15fd520a2ed52f799b30ea2adbf/gspread_pandas-2.1.3-py2.py3-none-any.whl\n",
            "Requirement already satisfied: google-auth in /usr/local/lib/python3.6/dist-packages (from gspread-pandas) (1.4.2)\n",
            "Requirement already satisfied: decorator in /usr/local/lib/python3.6/dist-packages (from gspread-pandas) (4.4.0)\n",
            "Requirement already satisfied: future in /usr/local/lib/python3.6/dist-packages (from gspread-pandas) (0.16.0)\n",
            "Requirement already satisfied: pandas>=0.20.0 in /usr/local/lib/python3.6/dist-packages (from gspread-pandas) (0.24.2)\n",
            "Requirement already satisfied: gspread>=3.0.0 in /usr/local/lib/python3.6/dist-packages (from gspread-pandas) (3.0.1)\n",
            "Requirement already satisfied: google-auth-oauthlib in /usr/local/lib/python3.6/dist-packages (from gspread-pandas) (0.4.0)\n",
            "Requirement already satisfied: rsa>=3.1.4 in /usr/local/lib/python3.6/dist-packages (from google-auth->gspread-pandas) (4.0)\n",
            "Requirement already satisfied: cachetools>=2.0.0 in /usr/local/lib/python3.6/dist-packages (from google-auth->gspread-pandas) (3.1.1)\n",
            "Requirement already satisfied: pyasn1-modules>=0.2.1 in /usr/local/lib/python3.6/dist-packages (from google-auth->gspread-pandas) (0.2.6)\n",
            "Requirement already satisfied: six>=1.9.0 in /usr/local/lib/python3.6/dist-packages (from google-auth->gspread-pandas) (1.12.0)\n",
            "Requirement already satisfied: python-dateutil>=2.5.0 in /usr/local/lib/python3.6/dist-packages (from pandas>=0.20.0->gspread-pandas) (2.5.3)\n",
            "Requirement already satisfied: pytz>=2011k in /usr/local/lib/python3.6/dist-packages (from pandas>=0.20.0->gspread-pandas) (2018.9)\n",
            "Requirement already satisfied: numpy>=1.12.0 in /usr/local/lib/python3.6/dist-packages (from pandas>=0.20.0->gspread-pandas) (1.16.5)\n",
            "Requirement already satisfied: requests>=2.2.1 in /usr/local/lib/python3.6/dist-packages (from gspread>=3.0.0->gspread-pandas) (2.21.0)\n",
            "Requirement already satisfied: requests-oauthlib>=0.7.0 in /usr/local/lib/python3.6/dist-packages (from google-auth-oauthlib->gspread-pandas) (1.2.0)\n",
            "Requirement already satisfied: pyasn1>=0.1.3 in /usr/local/lib/python3.6/dist-packages (from rsa>=3.1.4->google-auth->gspread-pandas) (0.4.7)\n",
            "Requirement already satisfied: certifi>=2017.4.17 in /usr/local/lib/python3.6/dist-packages (from requests>=2.2.1->gspread>=3.0.0->gspread-pandas) (2019.9.11)\n",
            "Requirement already satisfied: idna<2.9,>=2.5 in /usr/local/lib/python3.6/dist-packages (from requests>=2.2.1->gspread>=3.0.0->gspread-pandas) (2.8)\n",
            "Requirement already satisfied: urllib3<1.25,>=1.21.1 in /usr/local/lib/python3.6/dist-packages (from requests>=2.2.1->gspread>=3.0.0->gspread-pandas) (1.24.3)\n",
            "Requirement already satisfied: chardet<3.1.0,>=3.0.2 in /usr/local/lib/python3.6/dist-packages (from requests>=2.2.1->gspread>=3.0.0->gspread-pandas) (3.0.4)\n",
            "Requirement already satisfied: oauthlib>=3.0.0 in /usr/local/lib/python3.6/dist-packages (from requests-oauthlib>=0.7.0->google-auth-oauthlib->gspread-pandas) (3.1.0)\n",
            "Installing collected packages: gspread-pandas\n",
            "Successfully installed gspread-pandas-2.1.3\n"
          ],
          "name": "stdout"
        }
      ]
    },
    {
      "cell_type": "code",
      "metadata": {
        "id": "ccHXoGc8wQaI",
        "colab_type": "code",
        "colab": {}
      },
      "source": [
        "! mkdir -p  /root/.config/gspread_pandas/\n",
        "! echo '{\"installed\":{\"client_id\":\"257572009167-uai362klp88kr3hluabtoujf2hnd7fr6.apps.googleusercontent.com\",\"project_id\":\"formal-archive-254810\",\"auth_uri\":\"https://accounts.google.com/o/oauth2/auth\",\"token_uri\":\"https://oauth2.googleapis.com/token\",\"auth_provider_x509_cert_url\":\"https://www.googleapis.com/oauth2/v1/certs\",\"client_secret\":\"x554t-fVXmFDrENKrXu8GuKy\",\"redirect_uris\":[\"urn:ietf:wg:oauth:2.0:oob\",\"http://localhost\"]}}' > /root/.config/gspread_pandas/google_secret.json"
      ],
      "execution_count": 0,
      "outputs": []
    },
    {
      "cell_type": "code",
      "metadata": {
        "id": "B3y_qT1vwZ2f",
        "colab_type": "code",
        "colab": {}
      },
      "source": [
        "import pandas as pd\n",
        "import random\n",
        "from gspread_pandas import Spread, Client"
      ],
      "execution_count": 0,
      "outputs": []
    },
    {
      "cell_type": "code",
      "metadata": {
        "id": "3sDThQdvapBH",
        "colab_type": "code",
        "outputId": "37d49afc-d97a-437d-b5f5-fefe1250c32a",
        "colab": {
          "base_uri": "https://localhost:8080/",
          "height": 1000
        }
      },
      "source": [
        "client = Client()\n",
        "spreads = client.find_spreadsheet_files_in_folders('Dokumenttien kuvailut')\n",
        "\n",
        "df_kuvailut1 = pd.DataFrame()\n",
        "df_kuvailut2 = pd.DataFrame()\n",
        "df_kuvailut3 = pd.DataFrame()\n",
        "df_kuvailut4 = pd.DataFrame()\n",
        "\n",
        "#kuvailu_id = 0\n",
        "#cols_to_keep = ['id', 'nimeke', 'url kokotekstiin', 'aiheet', 'kid', 'tiedostonimi']\n",
        "\n",
        "for kuvailu_id, spread in enumerate(spreads['Dokumenttien kuvailut']):\n",
        "  print(spread)\n",
        "  # Tietokirjat:\n",
        "  if spread['name'].startswith(\"kuvailut_tieto\"):\n",
        "      df_sheet = Spread(spread['id'], sheet=0).sheet_to_df(index=None)\n",
        "      df_sheet['kid'] = kuvailu_id\n",
        "      df_sheet['tiedostonimi'] = spread['name']\n",
        "      df_sheet.rename(columns={'isbn': 'url kokotekstiin'}, inplace=True)\n",
        "      df_kuvailut1 = df_kuvailut1.append(df_sheet) #[cols_to_keep])\n",
        "  else:\n",
        "      df_sheet = Spread(spread['id'], sheet=0).sheet_to_df(index=None)\n",
        "      df_sheet['kid'] = kuvailu_id\n",
        "      df_sheet['tiedostonimi'] = spread['name']\n",
        "      df_sheet.columns = df_sheet.columns.str.lower()\n",
        "      df_kuvailut2 = df_kuvailut2.append(df_sheet) #[cols_to_keep])    \n",
        "  \n",
        "  #kuvailu_id += 1\n",
        "  #if kuvailu_id > 10: \n",
        "  #  break\n",
        "\n"
      ],
      "execution_count": 80,
      "outputs": [
        {
          "output_type": "stream",
          "text": [
            "{'id': '1agJ885Wj2Q1XgEiVgb_V2BVLbjVNhk0EyyFAmO1sEVI', 'name': 'kuvailut_tieto Osma', 'path': '/'}\n",
            "{'id': '1C9K8zR3iMJyIxaq8dVRJmH5mWhuWqmhX32KCQZsmOIE', 'name': 'Copy of Kuvailut K31', 'path': '/'}\n",
            "{'id': '1VTUr0Jf6juzq60RzfoC6EytMBveHNbOAxAMXu7AJik8', 'name': 'kuvailut_tieto Mona', 'path': '/'}\n",
            "{'id': '1rAcq6aVROxabfSJTwWk0-E8gnhigKLSjhH7Sua_vA_E', 'name': 'kuvailut_tieto Fennica', 'path': '/'}\n",
            "{'id': '1FnGNyuDkJ-5MazzCQ2u5FQC_0ZL7Q634RsKo0XHxXwU', 'name': 'jyx_kuvailut Osma', 'path': '/'}\n",
            "{'id': '1UBqhyh_MYhs2Ff5PK9jxsoEI9ptKvyEwYj2LoYEYFRY', 'name': 'kuvailut_tieto Juho', 'path': '/'}\n",
            "{'id': '1Tt0BWLBDePCaptQGy60CPsmQDhdR41Ji0uAbGhPkZnM', 'name': 'jyx_kuvailut Juho', 'path': '/'}\n",
            "{'id': '1kWeqCTs4klgUqMTm6stna4bYTa9meZEBzR0N6-gLV5c', 'name': 'jyx_kuvailut Mona', 'path': '/'}\n",
            "{'id': '1ag-r8VKbzL63iut_oMpXnUqM_X3-XmeUrOZQbyHiDdo', 'name': 'jyx_kuvailut_orig', 'path': '/'}\n"
          ],
          "name": "stdout"
        },
        {
          "output_type": "stream",
          "text": [
            "/usr/local/lib/python3.6/dist-packages/pandas/core/frame.py:6692: FutureWarning: Sorting because non-concatenation axis is not aligned. A future version\n",
            "of pandas will change to not sort by default.\n",
            "\n",
            "To accept the future behavior, pass 'sort=False'.\n",
            "\n",
            "To retain the current behavior and silence the warning, pass 'sort=True'.\n",
            "\n",
            "  sort=sort)\n"
          ],
          "name": "stderr"
        },
        {
          "output_type": "stream",
          "text": [
            "{'id': '1eF1P_xfRFXjSzJ71zi1_aqEzlouyqfKmxCYEPKYXi5k', 'name': 'SKT4 VL Copy of Kuvailut ', 'path': '/'}\n",
            "{'id': '1V09_YiPfIPLQd0edJ1sr8i9Ap1gdXJx8ynYOF8SD8zU', 'name': 'SKT3 JM Kuvailut Copy of ', 'path': '/'}\n",
            "{'id': '19InLOfKZQE-O7_lFjKDCmf9xNnOGQLQVzgXGlnjjVIA', 'name': ' SKT1 KL Copy of Kuvailut', 'path': '/'}\n",
            "{'id': '1HoV2mpTqRY9iFXvOT8aQPe0Tw_3E5pZTDl-RzGzGa98', 'name': 'SKT2 PM Copy of Kuvailut ', 'path': '/'}\n",
            "{'id': '1YWecQyMlreLKNH-4e1wHLGVzWmkuZyV1RZnP96mqeJU', 'name': 'Copy of Kuvailut Fennica', 'path': '/'}\n",
            "{'id': '12Nq-Bn7QTdTE7uih4LMb2lXw7J7W3ww-Abx9p5VXd1s', 'name': 'Copy of Kuvailut K02', 'path': '/'}\n",
            "{'id': '1kKfJT9-trzMsBZdESwEYmw6Ztj4TtgtCv31zk3fqIno', 'name': 'Copy of Kuvailut K17', 'path': '/'}\n",
            "{'id': '1hZrWVAO-w72Q43NtDRmTNKBocZ1zGTNO_-Bn07dkhK0', 'name': 'Copy of Kuvailut K05', 'path': '/'}\n",
            "{'id': '16A5uFilo0cxK97tSBHlDLi-ujUh8ay9PQ__U6g_P1t4', 'name': 'Copy of Kuvailut K14', 'path': '/'}\n",
            "{'id': '1BTqoU4Hb27Io5CY-TdYA6AaBuRFOSU9vdvJV_KaqSy0', 'name': 'Copy of Kuvailut K11', 'path': '/'}\n",
            "{'id': '1c8nLQimeFBgrmGHzwMN0dxqkQDY8LnpuxcxXEedlGZc', 'name': 'Copy of Kuvailut K08', 'path': '/'}\n",
            "{'id': '1o3zp7igLKqoXA_bUkbNZzCMAk94cvgn_Kd9ecZ8rj7Q', 'name': 'Copy of Kuvailut K32', 'path': '/'}\n",
            "{'id': '1-NCRQtf2BNLV9HlxP3juPYvnUR8nBeesPwHdW0y0yVA', 'name': 'Copy of Kuvailut K23', 'path': '/'}\n",
            "{'id': '1BgOhbzsrifJLNkwYTF8L7LB02WnziTidLabsCR3PfQ0', 'name': 'Copy of Kuvailut K29', 'path': '/'}\n",
            "{'id': '1gpbv5-BA970KWcuFd-XwGt5r5ZCqesaWTZjx3VBvsFo', 'name': 'Copy of Kuvailut K20', 'path': '/'}\n",
            "{'id': '1b_omDfWqiRnkXV-J5qJcfTvFuwPokuc_fb3DdBSA-6c', 'name': 'Copy of Kuvailut K26', 'path': '/'}\n",
            "{'id': '1YVYbRIEtUed-dZrZo4_XVJQM24laQToKpwcL-X7NKnU', 'name': 'Copy of Kuvailut K19', 'path': '/'}\n",
            "{'id': '1rfrVBrLiTogbqACPcvRJm87Tvqpyx2YHkFyDzQkfih0', 'name': 'Copy of Kuvailut K10', 'path': '/'}\n",
            "{'id': '1jKOXjdupL-xC4N6tt5Gtw3EobEe3xW0AxTRFzPIcTdQ', 'name': 'Copy of Kuvailut K38', 'path': '/'}\n",
            "{'id': '1oNM7HTbSeeGb8yn-o78FWf4UI-Dm_mAIZQt0HCmi54Q', 'name': 'Copy of Kuvailut K13', 'path': '/'}\n",
            "{'id': '1fDMaRjmeQAGgcU84H2EdMHRz9nkYngtf4lDJePjrOeg', 'name': 'Copy of Kuvailut K35', 'path': '/'}\n",
            "{'id': '1VJuMHaRKeQTX1lJ7KxP0pow4TpBz3iiM_Tsrb6VPqV8', 'name': 'Copy of Kuvailut K40', 'path': '/'}\n",
            "{'id': '1u7bblXj6mp8McM4Ld4vLKZ3IjllRAX9bFXyWNLGSTxw', 'name': 'Copy of Kuvailut K28', 'path': '/'}\n",
            "{'id': '1PJ-pgc0WUPL5MpRjE7LE6xXeFtKCQv1fTbwIVGvksqQ', 'name': 'Copy of Kuvailut K25', 'path': '/'}\n"
          ],
          "name": "stdout"
        },
        {
          "output_type": "error",
          "ename": "APIError",
          "evalue": "ignored",
          "traceback": [
            "\u001b[0;31m---------------------------------------------------------------------------\u001b[0m",
            "\u001b[0;31mAPIError\u001b[0m                                  Traceback (most recent call last)",
            "\u001b[0;32m<ipython-input-80-3541c7235d68>\u001b[0m in \u001b[0;36m<module>\u001b[0;34m()\u001b[0m\n\u001b[1;32m     20\u001b[0m       \u001b[0mdf_kuvailut4\u001b[0m \u001b[0;34m=\u001b[0m \u001b[0mdf_kuvailut4\u001b[0m\u001b[0;34m.\u001b[0m\u001b[0mappend\u001b[0m\u001b[0;34m(\u001b[0m\u001b[0mdf_sheet\u001b[0m\u001b[0;34m)\u001b[0m \u001b[0;31m#[cols_to_keep])\u001b[0m\u001b[0;34m\u001b[0m\u001b[0;34m\u001b[0m\u001b[0m\n\u001b[1;32m     21\u001b[0m   \u001b[0;32melse\u001b[0m\u001b[0;34m:\u001b[0m\u001b[0;34m\u001b[0m\u001b[0;34m\u001b[0m\u001b[0m\n\u001b[0;32m---> 22\u001b[0;31m       \u001b[0mdf_sheet\u001b[0m \u001b[0;34m=\u001b[0m \u001b[0mSpread\u001b[0m\u001b[0;34m(\u001b[0m\u001b[0mspread\u001b[0m\u001b[0;34m[\u001b[0m\u001b[0;34m'id'\u001b[0m\u001b[0;34m]\u001b[0m\u001b[0;34m,\u001b[0m \u001b[0msheet\u001b[0m\u001b[0;34m=\u001b[0m\u001b[0;36m0\u001b[0m\u001b[0;34m)\u001b[0m\u001b[0;34m.\u001b[0m\u001b[0msheet_to_df\u001b[0m\u001b[0;34m(\u001b[0m\u001b[0mindex\u001b[0m\u001b[0;34m=\u001b[0m\u001b[0;32mNone\u001b[0m\u001b[0;34m)\u001b[0m\u001b[0;34m\u001b[0m\u001b[0;34m\u001b[0m\u001b[0m\n\u001b[0m\u001b[1;32m     23\u001b[0m       \u001b[0mdf_sheet\u001b[0m\u001b[0;34m[\u001b[0m\u001b[0;34m'kid'\u001b[0m\u001b[0;34m]\u001b[0m \u001b[0;34m=\u001b[0m \u001b[0mkuvailu_id\u001b[0m\u001b[0;34m\u001b[0m\u001b[0;34m\u001b[0m\u001b[0m\n\u001b[1;32m     24\u001b[0m       \u001b[0mdf_sheet\u001b[0m\u001b[0;34m[\u001b[0m\u001b[0;34m'tiedostonimi'\u001b[0m\u001b[0;34m]\u001b[0m \u001b[0;34m=\u001b[0m \u001b[0mspread\u001b[0m\u001b[0;34m[\u001b[0m\u001b[0;34m'name'\u001b[0m\u001b[0;34m]\u001b[0m\u001b[0;34m\u001b[0m\u001b[0;34m\u001b[0m\u001b[0m\n",
            "\u001b[0;32m/usr/local/lib/python3.6/dist-packages/gspread_pandas/spread.py\u001b[0m in \u001b[0;36m__init__\u001b[0;34m(self, spread, sheet, config, create_spread, create_sheet, scope, user, creds, client, permissions)\u001b[0m\n\u001b[1;32m    129\u001b[0m         \u001b[0mmonkey_patch_request\u001b[0m\u001b[0;34m(\u001b[0m\u001b[0mself\u001b[0m\u001b[0;34m.\u001b[0m\u001b[0mclient\u001b[0m\u001b[0;34m)\u001b[0m\u001b[0;34m\u001b[0m\u001b[0;34m\u001b[0m\u001b[0m\n\u001b[1;32m    130\u001b[0m \u001b[0;34m\u001b[0m\u001b[0m\n\u001b[0;32m--> 131\u001b[0;31m         \u001b[0mself\u001b[0m\u001b[0;34m.\u001b[0m\u001b[0mopen\u001b[0m\u001b[0;34m(\u001b[0m\u001b[0mspread\u001b[0m\u001b[0;34m,\u001b[0m \u001b[0msheet\u001b[0m\u001b[0;34m,\u001b[0m \u001b[0mcreate_sheet\u001b[0m\u001b[0;34m,\u001b[0m \u001b[0mcreate_spread\u001b[0m\u001b[0;34m)\u001b[0m\u001b[0;34m\u001b[0m\u001b[0;34m\u001b[0m\u001b[0m\n\u001b[0m\u001b[1;32m    132\u001b[0m \u001b[0;34m\u001b[0m\u001b[0m\n\u001b[1;32m    133\u001b[0m         \u001b[0;32mif\u001b[0m \u001b[0mpermissions\u001b[0m\u001b[0;34m:\u001b[0m\u001b[0;34m\u001b[0m\u001b[0;34m\u001b[0m\u001b[0m\n",
            "\u001b[0;32m/usr/local/lib/python3.6/dist-packages/gspread_pandas/spread.py\u001b[0m in \u001b[0;36mopen\u001b[0;34m(self, spread, sheet, create_sheet, create_spread)\u001b[0m\n\u001b[1;32m    199\u001b[0m         \u001b[0;32mNone\u001b[0m\u001b[0;34m\u001b[0m\u001b[0;34m\u001b[0m\u001b[0m\n\u001b[1;32m    200\u001b[0m         \"\"\"\n\u001b[0;32m--> 201\u001b[0;31m         \u001b[0mself\u001b[0m\u001b[0;34m.\u001b[0m\u001b[0mopen_spread\u001b[0m\u001b[0;34m(\u001b[0m\u001b[0mspread\u001b[0m\u001b[0;34m,\u001b[0m \u001b[0mcreate_spread\u001b[0m\u001b[0;34m)\u001b[0m\u001b[0;34m\u001b[0m\u001b[0;34m\u001b[0m\u001b[0m\n\u001b[0m\u001b[1;32m    202\u001b[0m \u001b[0;34m\u001b[0m\u001b[0m\n\u001b[1;32m    203\u001b[0m         \u001b[0;32mif\u001b[0m \u001b[0msheet\u001b[0m \u001b[0;32mis\u001b[0m \u001b[0;32mnot\u001b[0m \u001b[0;32mNone\u001b[0m\u001b[0;34m:\u001b[0m\u001b[0;34m\u001b[0m\u001b[0;34m\u001b[0m\u001b[0m\n",
            "\u001b[0;32m/usr/local/lib/python3.6/dist-packages/gspread_pandas/spread.py\u001b[0m in \u001b[0;36mopen_spread\u001b[0;34m(self, spread, create)\u001b[0m\n\u001b[1;32m    249\u001b[0m         \u001b[0;31m# \"During handling of the above exception, another exception occurred\"\u001b[0m\u001b[0;34m\u001b[0m\u001b[0;34m\u001b[0m\u001b[0;34m\u001b[0m\u001b[0m\n\u001b[1;32m    250\u001b[0m         \u001b[0;32mif\u001b[0m \u001b[0;34m\"new_error\"\u001b[0m \u001b[0;32min\u001b[0m \u001b[0mlocals\u001b[0m\u001b[0;34m(\u001b[0m\u001b[0;34m)\u001b[0m \u001b[0;32mand\u001b[0m \u001b[0misinstance\u001b[0m\u001b[0;34m(\u001b[0m\u001b[0mnew_error\u001b[0m\u001b[0;34m,\u001b[0m \u001b[0mException\u001b[0m\u001b[0;34m)\u001b[0m\u001b[0;34m:\u001b[0m\u001b[0;34m\u001b[0m\u001b[0;34m\u001b[0m\u001b[0m\n\u001b[0;32m--> 251\u001b[0;31m             \u001b[0;32mraise\u001b[0m \u001b[0mnew_error\u001b[0m\u001b[0;34m\u001b[0m\u001b[0;34m\u001b[0m\u001b[0m\n\u001b[0m\u001b[1;32m    252\u001b[0m \u001b[0;34m\u001b[0m\u001b[0m\n\u001b[1;32m    253\u001b[0m     \u001b[0;32mdef\u001b[0m \u001b[0mopen_sheet\u001b[0m\u001b[0;34m(\u001b[0m\u001b[0mself\u001b[0m\u001b[0;34m,\u001b[0m \u001b[0msheet\u001b[0m\u001b[0;34m,\u001b[0m \u001b[0mcreate\u001b[0m\u001b[0;34m=\u001b[0m\u001b[0;32mFalse\u001b[0m\u001b[0;34m)\u001b[0m\u001b[0;34m:\u001b[0m\u001b[0;34m\u001b[0m\u001b[0;34m\u001b[0m\u001b[0m\n",
            "\u001b[0;32m/usr/local/lib/python3.6/dist-packages/gspread_pandas/spread.py\u001b[0m in \u001b[0;36mopen_spread\u001b[0;34m(self, spread, create)\u001b[0m\n\u001b[1;32m    232\u001b[0m         \u001b[0;32mtry\u001b[0m\u001b[0;34m:\u001b[0m\u001b[0;34m\u001b[0m\u001b[0;34m\u001b[0m\u001b[0m\n\u001b[1;32m    233\u001b[0m             \u001b[0mself\u001b[0m\u001b[0;34m.\u001b[0m\u001b[0mspread\u001b[0m \u001b[0;34m=\u001b[0m \u001b[0mopen_func\u001b[0m\u001b[0;34m(\u001b[0m\u001b[0mspread\u001b[0m\u001b[0;34m)\u001b[0m\u001b[0;34m\u001b[0m\u001b[0;34m\u001b[0m\u001b[0m\n\u001b[0;32m--> 234\u001b[0;31m             \u001b[0mself\u001b[0m\u001b[0;34m.\u001b[0m\u001b[0mrefresh_spread_metadata\u001b[0m\u001b[0;34m(\u001b[0m\u001b[0;34m)\u001b[0m\u001b[0;34m\u001b[0m\u001b[0;34m\u001b[0m\u001b[0m\n\u001b[0m\u001b[1;32m    235\u001b[0m         \u001b[0;32mexcept\u001b[0m \u001b[0;34m(\u001b[0m\u001b[0mSpreadsheetNotFound\u001b[0m\u001b[0;34m,\u001b[0m \u001b[0mNoValidUrlKeyFound\u001b[0m\u001b[0;34m,\u001b[0m \u001b[0mAPIError\u001b[0m\u001b[0;34m)\u001b[0m \u001b[0;32mas\u001b[0m \u001b[0merror\u001b[0m\u001b[0;34m:\u001b[0m\u001b[0;34m\u001b[0m\u001b[0;34m\u001b[0m\u001b[0m\n\u001b[1;32m    236\u001b[0m             \u001b[0;32mif\u001b[0m \u001b[0mcreate\u001b[0m\u001b[0;34m:\u001b[0m\u001b[0;34m\u001b[0m\u001b[0;34m\u001b[0m\u001b[0m\n",
            "\u001b[0;32m/usr/local/lib/python3.6/dist-packages/gspread_pandas/spread.py\u001b[0m in \u001b[0;36mrefresh_spread_metadata\u001b[0;34m(self)\u001b[0m\n\u001b[1;32m    166\u001b[0m     \u001b[0;32mdef\u001b[0m \u001b[0mrefresh_spread_metadata\u001b[0m\u001b[0;34m(\u001b[0m\u001b[0mself\u001b[0m\u001b[0;34m)\u001b[0m\u001b[0;34m:\u001b[0m\u001b[0;34m\u001b[0m\u001b[0;34m\u001b[0m\u001b[0m\n\u001b[1;32m    167\u001b[0m         \u001b[0;34m\"\"\"Refresh spreadsheet metadata.\"\"\"\u001b[0m\u001b[0;34m\u001b[0m\u001b[0;34m\u001b[0m\u001b[0m\n\u001b[0;32m--> 168\u001b[0;31m         \u001b[0mself\u001b[0m\u001b[0;34m.\u001b[0m\u001b[0m_spread_metadata\u001b[0m \u001b[0;34m=\u001b[0m \u001b[0mself\u001b[0m\u001b[0;34m.\u001b[0m\u001b[0mspread\u001b[0m\u001b[0;34m.\u001b[0m\u001b[0mfetch_sheet_metadata\u001b[0m\u001b[0;34m(\u001b[0m\u001b[0;34m)\u001b[0m\u001b[0;34m\u001b[0m\u001b[0;34m\u001b[0m\u001b[0m\n\u001b[0m\u001b[1;32m    169\u001b[0m \u001b[0;34m\u001b[0m\u001b[0m\n\u001b[1;32m    170\u001b[0m     \u001b[0;34m@\u001b[0m\u001b[0mproperty\u001b[0m\u001b[0;34m\u001b[0m\u001b[0;34m\u001b[0m\u001b[0m\n",
            "\u001b[0;32m/usr/local/lib/python3.6/dist-packages/gspread/models.py\u001b[0m in \u001b[0;36mfetch_sheet_metadata\u001b[0;34m(self)\u001b[0m\n\u001b[1;32m    121\u001b[0m         \u001b[0murl\u001b[0m \u001b[0;34m=\u001b[0m \u001b[0mSPREADSHEET_URL\u001b[0m \u001b[0;34m%\u001b[0m \u001b[0mself\u001b[0m\u001b[0;34m.\u001b[0m\u001b[0mid\u001b[0m\u001b[0;34m\u001b[0m\u001b[0;34m\u001b[0m\u001b[0m\n\u001b[1;32m    122\u001b[0m \u001b[0;34m\u001b[0m\u001b[0m\n\u001b[0;32m--> 123\u001b[0;31m         \u001b[0mr\u001b[0m \u001b[0;34m=\u001b[0m \u001b[0mself\u001b[0m\u001b[0;34m.\u001b[0m\u001b[0mclient\u001b[0m\u001b[0;34m.\u001b[0m\u001b[0mrequest\u001b[0m\u001b[0;34m(\u001b[0m\u001b[0;34m'get'\u001b[0m\u001b[0;34m,\u001b[0m \u001b[0murl\u001b[0m\u001b[0;34m,\u001b[0m \u001b[0mparams\u001b[0m\u001b[0;34m=\u001b[0m\u001b[0mparams\u001b[0m\u001b[0;34m)\u001b[0m\u001b[0;34m\u001b[0m\u001b[0;34m\u001b[0m\u001b[0m\n\u001b[0m\u001b[1;32m    124\u001b[0m \u001b[0;34m\u001b[0m\u001b[0m\n\u001b[1;32m    125\u001b[0m         \u001b[0;32mreturn\u001b[0m \u001b[0mr\u001b[0m\u001b[0;34m.\u001b[0m\u001b[0mjson\u001b[0m\u001b[0;34m(\u001b[0m\u001b[0;34m)\u001b[0m\u001b[0;34m\u001b[0m\u001b[0;34m\u001b[0m\u001b[0m\n",
            "\u001b[0;32m/usr/local/lib/python3.6/dist-packages/gspread_pandas/util.py\u001b[0m in \u001b[0;36mrequest\u001b[0;34m(*args, **kwargs)\u001b[0m\n\u001b[1;32m    304\u001b[0m \u001b[0;34m\u001b[0m\u001b[0m\n\u001b[1;32m    305\u001b[0m         \u001b[0;32mif\u001b[0m \u001b[0;34m\"error\"\u001b[0m \u001b[0;32min\u001b[0m \u001b[0mlocals\u001b[0m\u001b[0;34m(\u001b[0m\u001b[0;34m)\u001b[0m\u001b[0;34m:\u001b[0m\u001b[0;34m\u001b[0m\u001b[0;34m\u001b[0m\u001b[0m\n\u001b[0;32m--> 306\u001b[0;31m             \u001b[0;32mraise\u001b[0m \u001b[0merror\u001b[0m\u001b[0;34m\u001b[0m\u001b[0;34m\u001b[0m\u001b[0m\n\u001b[0m\u001b[1;32m    307\u001b[0m \u001b[0;34m\u001b[0m\u001b[0m\n\u001b[1;32m    308\u001b[0m     \u001b[0mclient\u001b[0m\u001b[0;34m.\u001b[0m\u001b[0mrequest\u001b[0m \u001b[0;34m=\u001b[0m \u001b[0mrequest\u001b[0m\u001b[0;34m\u001b[0m\u001b[0;34m\u001b[0m\u001b[0m\n",
            "\u001b[0;32m/usr/local/lib/python3.6/dist-packages/gspread_pandas/util.py\u001b[0m in \u001b[0;36mrequest\u001b[0;34m(*args, **kwargs)\u001b[0m\n\u001b[1;32m    293\u001b[0m     \u001b[0;32mdef\u001b[0m \u001b[0mrequest\u001b[0m\u001b[0;34m(\u001b[0m\u001b[0;34m*\u001b[0m\u001b[0margs\u001b[0m\u001b[0;34m,\u001b[0m \u001b[0;34m**\u001b[0m\u001b[0mkwargs\u001b[0m\u001b[0;34m)\u001b[0m\u001b[0;34m:\u001b[0m\u001b[0;34m\u001b[0m\u001b[0;34m\u001b[0m\u001b[0m\n\u001b[1;32m    294\u001b[0m         \u001b[0;32mtry\u001b[0m\u001b[0;34m:\u001b[0m\u001b[0;34m\u001b[0m\u001b[0;34m\u001b[0m\u001b[0m\n\u001b[0;32m--> 295\u001b[0;31m             \u001b[0;32mreturn\u001b[0m \u001b[0mClientV4\u001b[0m\u001b[0;34m.\u001b[0m\u001b[0mrequest\u001b[0m\u001b[0;34m(\u001b[0m\u001b[0mclient\u001b[0m\u001b[0;34m,\u001b[0m \u001b[0;34m*\u001b[0m\u001b[0margs\u001b[0m\u001b[0;34m,\u001b[0m \u001b[0;34m**\u001b[0m\u001b[0mkwargs\u001b[0m\u001b[0;34m)\u001b[0m\u001b[0;34m\u001b[0m\u001b[0;34m\u001b[0m\u001b[0m\n\u001b[0m\u001b[1;32m    296\u001b[0m         \u001b[0;32mexcept\u001b[0m \u001b[0mAPIError\u001b[0m \u001b[0;32mas\u001b[0m \u001b[0me\u001b[0m\u001b[0;34m:\u001b[0m\u001b[0;34m\u001b[0m\u001b[0;34m\u001b[0m\u001b[0m\n\u001b[1;32m    297\u001b[0m             \u001b[0merror\u001b[0m \u001b[0;34m=\u001b[0m \u001b[0mstr\u001b[0m\u001b[0;34m(\u001b[0m\u001b[0me\u001b[0m\u001b[0;34m)\u001b[0m\u001b[0;34m\u001b[0m\u001b[0;34m\u001b[0m\u001b[0m\n",
            "\u001b[0;32m/usr/local/lib/python3.6/dist-packages/gspread/client.py\u001b[0m in \u001b[0;36mrequest\u001b[0;34m(self, method, endpoint, params, data, json, files, headers)\u001b[0m\n\u001b[1;32m     77\u001b[0m             \u001b[0;32mreturn\u001b[0m \u001b[0mresponse\u001b[0m\u001b[0;34m\u001b[0m\u001b[0;34m\u001b[0m\u001b[0m\n\u001b[1;32m     78\u001b[0m         \u001b[0;32melse\u001b[0m\u001b[0;34m:\u001b[0m\u001b[0;34m\u001b[0m\u001b[0;34m\u001b[0m\u001b[0m\n\u001b[0;32m---> 79\u001b[0;31m             \u001b[0;32mraise\u001b[0m \u001b[0mAPIError\u001b[0m\u001b[0;34m(\u001b[0m\u001b[0mresponse\u001b[0m\u001b[0;34m)\u001b[0m\u001b[0;34m\u001b[0m\u001b[0;34m\u001b[0m\u001b[0m\n\u001b[0m\u001b[1;32m     80\u001b[0m \u001b[0;34m\u001b[0m\u001b[0m\n\u001b[1;32m     81\u001b[0m     \u001b[0;32mdef\u001b[0m \u001b[0mlist_spreadsheet_files\u001b[0m\u001b[0;34m(\u001b[0m\u001b[0mself\u001b[0m\u001b[0;34m)\u001b[0m\u001b[0;34m:\u001b[0m\u001b[0;34m\u001b[0m\u001b[0;34m\u001b[0m\u001b[0m\n",
            "\u001b[0;31mAPIError\u001b[0m: {\n  \"error\": {\n    \"code\": 503,\n    \"message\": \"The service is currently unavailable.\",\n    \"status\": \"UNAVAILABLE\"\n  }\n}\n"
          ]
        }
      ]
    },
    {
      "cell_type": "code",
      "metadata": {
        "id": "inElSu2NNxpm",
        "colab_type": "code",
        "colab": {
          "base_uri": "https://localhost:8080/",
          "height": 201
        },
        "outputId": "3c2894e1-1f78-45a6-f371-c914bcec7878"
      },
      "source": [
        "df_kuvailut = pd.concat([df_kuvailut1, df_kuvailut2])\n",
        "cols_to_keep = ['id', 'nimeke', 'url kokotekstiin', 'aiheet', 'kid', 'tiedostonimi']\n",
        "df_kuvailut = df_kuvailut[cols_to_keep]\n",
        "df_kuvailut.rename(columns={'id': 'did'}, inplace=True)\n",
        "df_kuvailut = df_kuvailut.mask(df_kuvailut=='', None).ffill()"
      ],
      "execution_count": 84,
      "outputs": [
        {
          "output_type": "stream",
          "text": [
            "/usr/local/lib/python3.6/dist-packages/ipykernel_launcher.py:2: FutureWarning: Sorting because non-concatenation axis is not aligned. A future version\n",
            "of pandas will change to not sort by default.\n",
            "\n",
            "To accept the future behavior, pass 'sort=False'.\n",
            "\n",
            "To retain the current behavior and silence the warning, pass 'sort=True'.\n",
            "\n",
            "  \n",
            "/usr/local/lib/python3.6/dist-packages/pandas/core/ops.py:1649: FutureWarning: elementwise comparison failed; returning scalar instead, but in the future will perform elementwise comparison\n",
            "  result = method(y)\n"
          ],
          "name": "stderr"
        }
      ]
    },
    {
      "cell_type": "code",
      "metadata": {
        "id": "2issbMKK2wZF",
        "colab_type": "code",
        "colab": {
          "base_uri": "https://localhost:8080/",
          "height": 311
        },
        "outputId": "ad6a9286-a797-4383-9539-52d11d776a7b"
      },
      "source": [
        "df_kuvailut.tiedostonimi.unique()\n"
      ],
      "execution_count": 87,
      "outputs": [
        {
          "output_type": "execute_result",
          "data": {
            "text/plain": [
              "array(['kuvailut_tieto Osma', 'kuvailut_tieto Mona',\n",
              "       'kuvailut_tieto Fennica', 'kuvailut_tieto Juho',\n",
              "       'Copy of Kuvailut K31', 'jyx_kuvailut Osma', 'jyx_kuvailut Juho',\n",
              "       'jyx_kuvailut Mona', 'jyx_kuvailut_orig',\n",
              "       'SKT4 VL Copy of Kuvailut ', 'SKT3 JM Kuvailut Copy of ',\n",
              "       ' SKT1 KL Copy of Kuvailut', 'SKT2 PM Copy of Kuvailut ',\n",
              "       'Copy of Kuvailut Fennica', 'Copy of Kuvailut K02',\n",
              "       'Copy of Kuvailut K17', 'Copy of Kuvailut K05',\n",
              "       'Copy of Kuvailut K14', 'Copy of Kuvailut K11',\n",
              "       'Copy of Kuvailut K08', 'Copy of Kuvailut K32',\n",
              "       'Copy of Kuvailut K23', 'Copy of Kuvailut K29',\n",
              "       'Copy of Kuvailut K20', 'Copy of Kuvailut K26',\n",
              "       'Copy of Kuvailut K19', 'Copy of Kuvailut K10',\n",
              "       'Copy of Kuvailut K38', 'Copy of Kuvailut K13',\n",
              "       'Copy of Kuvailut K35', 'Copy of Kuvailut K40',\n",
              "       'Copy of Kuvailut K28'], dtype=object)"
            ]
          },
          "metadata": {
            "tags": []
          },
          "execution_count": 87
        }
      ]
    },
    {
      "cell_type": "code",
      "metadata": {
        "id": "IqiKJVk-oEYy",
        "colab_type": "code",
        "outputId": "3a3b52d0-2687-43a4-d9cd-7614b3c56eab",
        "colab": {
          "base_uri": "https://localhost:8080/",
          "height": 109
        }
      },
      "source": [
        "spread = Spread('test_arviointi7', create_spread=True, create_sheet=True)\n",
        "spread.move('Test folder')\n",
        "min_num_aiheet = 2\n",
        "max_num_kuvailut = 6\n",
        "\n",
        "cnt = 0\n",
        "for did, df_dokumentti in df_kuvailut.groupby('did'):\n",
        "    spread.open_sheet(did, create=True)\n",
        "    df_pohja = pd.DataFrame() #{'did': did})\n",
        "    print(did)\n",
        "    kuvailut = [df_dokumentti_kuvailu for kid, df_dokumentti_kuvailu in df_dokumentti.groupby('kid')]\n",
        "    random.shuffle(kuvailut)\n",
        "    #df_otsake = pd.DataFrame(kuvailut[0].iloc[:2])\n",
        "    #spread.df_to_sheet(df_otsake, index=False)\n",
        "    for df_dokumentti_kuvailu in kuvailut:\n",
        "        #print(df_dokumentti_kuvailu)\n",
        "        if len(df_dokumentti_kuvailu) < min_num_aiheet:\n",
        "            continue\n",
        "        df_pohja = df_pohja.append(df_dokumentti_kuvailu)\n",
        "        #print()\n",
        "    #print(df_pohja)\n",
        "    spread.df_to_sheet(df_pohja, index=False)\n",
        "    \n",
        "    cnt += 1\n",
        "    if cnt > 4: break"
      ],
      "execution_count": 89,
      "outputs": [
        {
          "output_type": "stream",
          "text": [
            "D00\n",
            "D01\n",
            "D02\n",
            "D03\n",
            "D04\n"
          ],
          "name": "stdout"
        }
      ]
    },
    {
      "cell_type": "code",
      "metadata": {
        "id": "Sv1C7j5YKZyu",
        "colab_type": "code",
        "colab": {
          "base_uri": "https://localhost:8080/",
          "height": 32
        },
        "outputId": "1729741c-9452-40b6-ac6a-869c94ea6167"
      },
      "source": [
        "df_pohja"
      ],
      "execution_count": 78,
      "outputs": [
        {
          "output_type": "execute_result",
          "data": {
            "text/html": [
              "<div>\n",
              "<style scoped>\n",
              "    .dataframe tbody tr th:only-of-type {\n",
              "        vertical-align: middle;\n",
              "    }\n",
              "\n",
              "    .dataframe tbody tr th {\n",
              "        vertical-align: top;\n",
              "    }\n",
              "\n",
              "    .dataframe thead th {\n",
              "        text-align: right;\n",
              "    }\n",
              "</style>\n",
              "<table border=\"1\" class=\"dataframe\">\n",
              "  <thead>\n",
              "    <tr style=\"text-align: right;\">\n",
              "      <th></th>\n",
              "    </tr>\n",
              "  </thead>\n",
              "  <tbody>\n",
              "  </tbody>\n",
              "</table>\n",
              "</div>"
            ],
            "text/plain": [
              "Empty DataFrame\n",
              "Columns: []\n",
              "Index: []"
            ]
          },
          "metadata": {
            "tags": []
          },
          "execution_count": 78
        }
      ]
    },
    {
      "cell_type": "code",
      "metadata": {
        "id": "MoTck8jDdt4R",
        "colab_type": "code",
        "colab": {}
      },
      "source": [
        "df_pohja = pd.DataFrame({'col1': [1,2,4], 'col2': [100,200,400] })\n",
        "spread = Spread('test_arviointi2', create_spread=True)\n",
        "spread.open_sheet('test sheet', create=True)\n",
        "spread.df_to_sheet(df_pohja, index=False)"
      ],
      "execution_count": 0,
      "outputs": []
    },
    {
      "cell_type": "code",
      "metadata": {
        "id": "tnv3_ms6aat9",
        "colab_type": "code",
        "outputId": "733fb715-a4a4-43f3-85f9-cf1acb844206",
        "colab": {
          "base_uri": "https://localhost:8080/",
          "height": 81
        }
      },
      "source": [
        "df_dokumentti_kuvailu\n"
      ],
      "execution_count": 68,
      "outputs": [
        {
          "output_type": "execute_result",
          "data": {
            "text/html": [
              "<div>\n",
              "<style scoped>\n",
              "    .dataframe tbody tr th:only-of-type {\n",
              "        vertical-align: middle;\n",
              "    }\n",
              "\n",
              "    .dataframe tbody tr th {\n",
              "        vertical-align: top;\n",
              "    }\n",
              "\n",
              "    .dataframe thead th {\n",
              "        text-align: right;\n",
              "    }\n",
              "</style>\n",
              "<table border=\"1\" class=\"dataframe\">\n",
              "  <thead>\n",
              "    <tr style=\"text-align: right;\">\n",
              "      <th></th>\n",
              "      <th>did</th>\n",
              "      <th>nimeke</th>\n",
              "      <th>url kokotekstiin</th>\n",
              "      <th>aiheet</th>\n",
              "      <th>kid</th>\n",
              "    </tr>\n",
              "  </thead>\n",
              "  <tbody>\n",
              "    <tr>\n",
              "      <th>140</th>\n",
              "      <td>D04</td>\n",
              "      <td>Arja Heinonen: Hotellien aamiaispöydissä tarjo...</td>\n",
              "      <td>http://www.hel.fi/static/ymk/julkaisut/julkais...</td>\n",
              "      <td>pedagogiikka</td>\n",
              "      <td>20</td>\n",
              "    </tr>\n",
              "  </tbody>\n",
              "</table>\n",
              "</div>"
            ],
            "text/plain": [
              "     did                                             nimeke  ...        aiheet kid\n",
              "140  D04  Arja Heinonen: Hotellien aamiaispöydissä tarjo...  ...  pedagogiikka  20\n",
              "\n",
              "[1 rows x 5 columns]"
            ]
          },
          "metadata": {
            "tags": []
          },
          "execution_count": 68
        }
      ]
    },
    {
      "cell_type": "code",
      "metadata": {
        "id": "YyaZuuf3oHHy",
        "colab_type": "code",
        "outputId": "5c602dab-d004-4200-9642-de3f2e5fcb12",
        "colab": {
          "base_uri": "https://localhost:8080/",
          "height": 35
        }
      },
      "source": [
        "df_kuvailut3.columns\n"
      ],
      "execution_count": 0,
      "outputs": [
        {
          "output_type": "execute_result",
          "data": {
            "text/plain": [
              "Index(['id', 'nimeke', 'url kokotekstiin', 'aiheet'], dtype='object')"
            ]
          },
          "metadata": {
            "tags": []
          },
          "execution_count": 27
        }
      ]
    },
    {
      "cell_type": "code",
      "metadata": {
        "id": "xZwcpLV3pNq5",
        "colab_type": "code",
        "outputId": "a14f991e-1e2a-42a5-c404-fd7b075851d1",
        "colab": {
          "base_uri": "https://localhost:8080/",
          "height": 35
        }
      },
      "source": [
        "df_kuvailut4.columns\n"
      ],
      "execution_count": 0,
      "outputs": [
        {
          "output_type": "execute_result",
          "data": {
            "text/plain": [
              "Index(['id', 'nimeke', 'url kokotekstiin', 'aiheet'], dtype='object')"
            ]
          },
          "metadata": {
            "tags": []
          },
          "execution_count": 28
        }
      ]
    },
    {
      "cell_type": "code",
      "metadata": {
        "id": "q1vqcONR5Sgy",
        "colab_type": "code",
        "colab": {}
      },
      "source": [
        "# create a blank spreadsheet with a specified title.\n",
        "\n",
        "spreadsheet = {\n",
        "    'properties': {\n",
        "        'title': title\n",
        "    }\n",
        "}\n",
        "spreadsheet = service.spreadsheets().create(body=spreadsheet,\n",
        "                                    fields='spreadsheetId').execute()\n",
        "print('Spreadsheet ID: {0}'.format(spreadsheet.get('spreadsheetId')))\n",
        "\n",
        "\n",
        "#To write to a sheet, you will need the spreadsheet ID, the range(s) in A1 notation,\n",
        "#and the data you wish to write arranged in an appropriate request body object.\n",
        "values = [\n",
        "    [\n",
        "        # Cell values ...\n",
        "    ],\n",
        "    # Additional rows\n",
        "]\n",
        "data = [\n",
        "    {\n",
        "        'range': range_name,\n",
        "        'values': values\n",
        "    },\n",
        "    # Additional ranges to update ...\n",
        "]\n",
        "body = {\n",
        "    'valueInputOption': value_input_option,\n",
        "    'data': data\n",
        "}\n",
        "result = service.spreadsheets().values().batchUpdate(\n",
        "    spreadsheetId=spreadsheet_id, body=body).execute()\n",
        "print('{0} cells updated.'.format(result.get('totalUpdatedCells')))\n",
        "\n",
        "\n",
        "#copy sheets\n",
        "from googleapiclient import discovery\n",
        "\n",
        "# TODO: Change placeholder below to generate authentication credentials. See\n",
        "# https://developers.google.com/sheets/quickstart/python#step_3_set_up_the_sample\n",
        "#\n",
        "# Authorize using one of the following scopes:\n",
        "#     'https://www.googleapis.com/auth/drive'\n",
        "#     'https://www.googleapis.com/auth/drive.file'\n",
        "#     'https://www.googleapis.com/auth/spreadsheets'\n",
        "credentials = None\n",
        "\n",
        "service = discovery.build('sheets', 'v4', credentials=credentials)\n",
        "\n",
        "# The ID of the spreadsheet containing the sheet to copy.\n",
        "spreadsheet_id = 'my-spreadsheet-id'  # TODO: Update placeholder value.\n",
        "\n",
        "# The ID of the sheet to copy.\n",
        "sheet_id = 0  # TODO: Update placeholder value.\n",
        "\n",
        "copy_sheet_to_another_spreadsheet_request_body = {\n",
        "    # The ID of the spreadsheet to copy the sheet to.\n",
        "    'destination_spreadsheet_id': '',  # TODO: Update placeholder value.\n",
        "\n",
        "    # TODO: Add desired entries to the request body.\n",
        "}\n",
        "\n",
        "request = service.spreadsheets().sheets().copyTo(spreadsheetId=spreadsheet_id, sheetId=sheet_id, body=copy_sheet_to_another_spreadsheet_request_body)\n",
        "response = request.execute()\n",
        "\n",
        "# TODO: Change code below to process the `response` dict:\n"
      ],
      "execution_count": 0,
      "outputs": []
    },
    {
      "cell_type": "code",
      "metadata": {
        "id": "A0jIMcWmrZnD",
        "colab_type": "code",
        "colab": {}
      },
      "source": [
        "#using gspread\n",
        "scope = [\n",
        "    'https://spreadsheets.google.com/feeds',\n",
        "    'https://www.googleapis.com/auth/drive'\n",
        "]\n",
        "\n",
        "# making spreadsheets\n",
        "create(title)\n",
        "\n",
        "t == \"\"\n",
        "for i in range(50):\n",
        "  t == t+str(i)\n",
        "  create()\n",
        "\n"
      ],
      "execution_count": 0,
      "outputs": []
    },
    {
      "cell_type": "code",
      "metadata": {
        "id": "71AeQrxorZHJ",
        "colab_type": "code",
        "colab": {}
      },
      "source": [
        ""
      ],
      "execution_count": 0,
      "outputs": []
    }
  ]
}