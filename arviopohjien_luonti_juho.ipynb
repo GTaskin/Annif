{
  "nbformat": 4,
  "nbformat_minor": 0,
  "metadata": {
    "colab": {
      "name": "arviopohjien_luonti_juho.ipynb",
      "provenance": [],
      "collapsed_sections": [],
      "include_colab_link": true
    },
    "kernelspec": {
      "name": "python3",
      "display_name": "Python 3"
    }
  },
  "cells": [
    {
      "cell_type": "markdown",
      "metadata": {
        "id": "view-in-github",
        "colab_type": "text"
      },
      "source": [
        "<a href=\"https://colab.research.google.com/github/NatLibFi/Annif/blob/kvp2019-workshop/arviopohjien_luonti_juho.ipynb\" target=\"_parent\"><img src=\"https://colab.research.google.com/assets/colab-badge.svg\" alt=\"Open In Colab\"/></a>"
      ]
    },
    {
      "cell_type": "code",
      "metadata": {
        "id": "uzbbqCiOwOW2",
        "colab_type": "code",
        "outputId": "8280d00d-b433-4fa4-d70f-fb37b30b7a57",
        "colab": {
          "base_uri": "https://localhost:8080/",
          "height": 476
        }
      },
      "source": [
        "! pip install gspread-pandas"
      ],
      "execution_count": 0,
      "outputs": [
        {
          "output_type": "stream",
          "text": [
            "Collecting gspread-pandas\n",
            "  Downloading https://files.pythonhosted.org/packages/e7/9f/2d2240473b006b21977238d0bc88699fb15fd520a2ed52f799b30ea2adbf/gspread_pandas-2.1.3-py2.py3-none-any.whl\n",
            "Requirement already satisfied: google-auth-oauthlib in /usr/local/lib/python3.6/dist-packages (from gspread-pandas) (0.4.1)\n",
            "Requirement already satisfied: future in /usr/local/lib/python3.6/dist-packages (from gspread-pandas) (0.16.0)\n",
            "Requirement already satisfied: gspread>=3.0.0 in /usr/local/lib/python3.6/dist-packages (from gspread-pandas) (3.0.1)\n",
            "Requirement already satisfied: decorator in /usr/local/lib/python3.6/dist-packages (from gspread-pandas) (4.4.0)\n",
            "Requirement already satisfied: google-auth in /usr/local/lib/python3.6/dist-packages (from gspread-pandas) (1.4.2)\n",
            "Requirement already satisfied: pandas>=0.20.0 in /usr/local/lib/python3.6/dist-packages (from gspread-pandas) (0.24.2)\n",
            "Requirement already satisfied: requests-oauthlib>=0.7.0 in /usr/local/lib/python3.6/dist-packages (from google-auth-oauthlib->gspread-pandas) (1.2.0)\n",
            "Requirement already satisfied: requests>=2.2.1 in /usr/local/lib/python3.6/dist-packages (from gspread>=3.0.0->gspread-pandas) (2.21.0)\n",
            "Requirement already satisfied: six>=1.9.0 in /usr/local/lib/python3.6/dist-packages (from google-auth->gspread-pandas) (1.12.0)\n",
            "Requirement already satisfied: rsa>=3.1.4 in /usr/local/lib/python3.6/dist-packages (from google-auth->gspread-pandas) (4.0)\n",
            "Requirement already satisfied: pyasn1-modules>=0.2.1 in /usr/local/lib/python3.6/dist-packages (from google-auth->gspread-pandas) (0.2.6)\n",
            "Requirement already satisfied: cachetools>=2.0.0 in /usr/local/lib/python3.6/dist-packages (from google-auth->gspread-pandas) (3.1.1)\n",
            "Requirement already satisfied: pytz>=2011k in /usr/local/lib/python3.6/dist-packages (from pandas>=0.20.0->gspread-pandas) (2018.9)\n",
            "Requirement already satisfied: python-dateutil>=2.5.0 in /usr/local/lib/python3.6/dist-packages (from pandas>=0.20.0->gspread-pandas) (2.5.3)\n",
            "Requirement already satisfied: numpy>=1.12.0 in /usr/local/lib/python3.6/dist-packages (from pandas>=0.20.0->gspread-pandas) (1.16.5)\n",
            "Requirement already satisfied: oauthlib>=3.0.0 in /usr/local/lib/python3.6/dist-packages (from requests-oauthlib>=0.7.0->google-auth-oauthlib->gspread-pandas) (3.1.0)\n",
            "Requirement already satisfied: certifi>=2017.4.17 in /usr/local/lib/python3.6/dist-packages (from requests>=2.2.1->gspread>=3.0.0->gspread-pandas) (2019.9.11)\n",
            "Requirement already satisfied: urllib3<1.25,>=1.21.1 in /usr/local/lib/python3.6/dist-packages (from requests>=2.2.1->gspread>=3.0.0->gspread-pandas) (1.24.3)\n",
            "Requirement already satisfied: idna<2.9,>=2.5 in /usr/local/lib/python3.6/dist-packages (from requests>=2.2.1->gspread>=3.0.0->gspread-pandas) (2.8)\n",
            "Requirement already satisfied: chardet<3.1.0,>=3.0.2 in /usr/local/lib/python3.6/dist-packages (from requests>=2.2.1->gspread>=3.0.0->gspread-pandas) (3.0.4)\n",
            "Requirement already satisfied: pyasn1>=0.1.3 in /usr/local/lib/python3.6/dist-packages (from rsa>=3.1.4->google-auth->gspread-pandas) (0.4.7)\n",
            "Installing collected packages: gspread-pandas\n",
            "Successfully installed gspread-pandas-2.1.3\n"
          ],
          "name": "stdout"
        }
      ]
    },
    {
      "cell_type": "code",
      "metadata": {
        "id": "ccHXoGc8wQaI",
        "colab_type": "code",
        "colab": {}
      },
      "source": [
        "! mkdir -p  /root/.config/gspread_pandas/\n",
        "! echo '{\"installed\":{\"client_id\":\"257572009167-uai362klp88kr3hluabtoujf2hnd7fr6.apps.googleusercontent.com\",\"project_id\":\"formal-archive-254810\",\"auth_uri\":\"https://accounts.google.com/o/oauth2/auth\",\"token_uri\":\"https://oauth2.googleapis.com/token\",\"auth_provider_x509_cert_url\":\"https://www.googleapis.com/oauth2/v1/certs\",\"client_secret\":\"x554t-fVXmFDrENKrXu8GuKy\",\"redirect_uris\":[\"urn:ietf:wg:oauth:2.0:oob\",\"http://localhost\"]}}' > /root/.config/gspread_pandas/google_secret.json"
      ],
      "execution_count": 0,
      "outputs": []
    },
    {
      "cell_type": "code",
      "metadata": {
        "id": "B3y_qT1vwZ2f",
        "colab_type": "code",
        "colab": {}
      },
      "source": [
        "import pandas as pd\n",
        "import random\n",
        "from gspread_pandas import Spread, Client"
      ],
      "execution_count": 0,
      "outputs": []
    },
    {
      "cell_type": "code",
      "metadata": {
        "id": "3sDThQdvapBH",
        "colab_type": "code",
        "outputId": "7fdee43f-458c-45e7-b4b3-dc74a49311e8",
        "colab": {
          "base_uri": "https://localhost:8080/",
          "height": 1000
        }
      },
      "source": [
        "# Fetch kuvailut\n",
        "\n",
        "client = Client()\n",
        "spreads = client.find_spreadsheet_files_in_folders('Dokumenttien kuvailut')\n",
        "\n",
        "df_kuvailut1 = pd.DataFrame()\n",
        "df_kuvailut2 = pd.DataFrame()\n",
        "\n",
        "for kuvailu_id, spread in enumerate(spreads['Dokumenttien kuvailut']):\n",
        "  print(spread['name'])\n",
        "  # Tietokirjat:\n",
        "  if spread['name'].startswith(\"kuvailut_tieto\"):\n",
        "      df_sheet = Spread(spread['id'], sheet=0).sheet_to_df(index=None)\n",
        "      df_sheet['kid'] = kuvailu_id\n",
        "      df_sheet['tiedostonimi'] = spread['name']\n",
        "      df_sheet.rename(columns={'isbn': 'url kokotekstiin'}, inplace=True)\n",
        "      df_kuvailut1 = df_kuvailut1.append(df_sheet) #[cols_to_keep])\n",
        "  else:\n",
        "      df_sheet = Spread(spread['id'], sheet=0).sheet_to_df(index=None)\n",
        "      df_sheet['kid'] = kuvailu_id\n",
        "      df_sheet['tiedostonimi'] = spread['name']\n",
        "      df_sheet.columns = df_sheet.columns.str.lower()\n",
        "      df_kuvailut2 = df_kuvailut2.append(df_sheet) #[cols_to_keep])    \n",
        "  "
      ],
      "execution_count": 178,
      "outputs": [
        {
          "output_type": "stream",
          "text": [
            "Copy of Kuvailut Fennica\n",
            "jyx_kuvailut Mona\n",
            "kuvailut_tieto Osma\n",
            "Copy of Kuvailut K07\n",
            "Copy of Kuvailut K16\n",
            "Copy of Kuvailut K31\n",
            "kuvailut_tieto Mona\n",
            "kuvailut_tieto Fennica\n",
            "jyx_kuvailut Osma\n",
            "kuvailut_tieto Juho\n",
            "jyx_kuvailut Juho\n",
            "jyx_kuvailut_orig\n"
          ],
          "name": "stdout"
        },
        {
          "output_type": "stream",
          "text": [
            "/usr/local/lib/python3.6/dist-packages/pandas/core/frame.py:6692: FutureWarning: Sorting because non-concatenation axis is not aligned. A future version\n",
            "of pandas will change to not sort by default.\n",
            "\n",
            "To accept the future behavior, pass 'sort=False'.\n",
            "\n",
            "To retain the current behavior and silence the warning, pass 'sort=True'.\n",
            "\n",
            "  sort=sort)\n"
          ],
          "name": "stderr"
        },
        {
          "output_type": "stream",
          "text": [
            "SKT4 VL Copy of Kuvailut \n",
            "SKT3 JM Kuvailut Copy of \n",
            " SKT1 KL Copy of Kuvailut\n",
            "SKT2 PM Copy of Kuvailut \n",
            "Copy of Kuvailut K02\n",
            "Copy of Kuvailut K17\n",
            "Copy of Kuvailut K05\n",
            "Copy of Kuvailut K14\n",
            "Copy of Kuvailut K11\n",
            "Copy of Kuvailut K08\n",
            "Copy of Kuvailut K32\n",
            "Copy of Kuvailut K23\n",
            "Copy of Kuvailut K29\n",
            "Copy of Kuvailut K20\n",
            "Copy of Kuvailut K26\n",
            "Copy of Kuvailut K19\n",
            "Copy of Kuvailut K10\n",
            "Copy of Kuvailut K38\n",
            "Copy of Kuvailut K13\n",
            "Copy of Kuvailut K35\n",
            "Copy of Kuvailut K40\n",
            "Copy of Kuvailut K28\n",
            "Copy of Kuvailut K25\n",
            "Copy of Kuvailut K37\n",
            "Copy of Kuvailut K22\n",
            "Copy of Kuvailut K18\n",
            "Copy of Kuvailut K06\n",
            "Copy of Kuvailut K12\n",
            "Copy of Kuvailut K03\n",
            "Copy of Kuvailut K09\n",
            "Copy of Kuvailut K33\n",
            "Copy of Kuvailut K39\n",
            "Copy of Kuvailut K21\n",
            "Copy of Kuvailut K36\n",
            "Copy of Kuvailut K04\n",
            "Copy of Kuvailut K01\n",
            "Copy of Kuvailut K34\n",
            "Copy of Kuvailut K24\n",
            "Copy of Kuvailut K15\n",
            "Copy of Kuvailut K30\n",
            "Copy of Kuvailut K27\n"
          ],
          "name": "stdout"
        }
      ]
    },
    {
      "cell_type": "code",
      "metadata": {
        "id": "inElSu2NNxpm",
        "colab_type": "code",
        "outputId": "d887e767-2fc8-4ac6-fcfa-9323a7a7031c",
        "colab": {
          "base_uri": "https://localhost:8080/",
          "height": 164
        }
      },
      "source": [
        "# Preprocess 1\n",
        "\n",
        "df_kuvailut = pd.concat([df_kuvailut1, df_kuvailut2])\n",
        "cols_to_keep = ['id', 'nimeke', 'url kokotekstiin', 'aiheet', 'kid', 'tiedostonimi']\n",
        "df_kuvailut = df_kuvailut[cols_to_keep]\n",
        "df_kuvailut.rename(columns={'id': 'did'}, inplace=True)\n",
        "df_kuvailut[['did', 'nimeke', 'url kokotekstiin']] = df_kuvailut[['did', 'nimeke', 'url kokotekstiin']].mask(df_kuvailut[['did', 'nimeke', 'url kokotekstiin']]=='', None).ffill()\n"
      ],
      "execution_count": 179,
      "outputs": [
        {
          "output_type": "stream",
          "text": [
            "/usr/local/lib/python3.6/dist-packages/ipykernel_launcher.py:2: FutureWarning: Sorting because non-concatenation axis is not aligned. A future version\n",
            "of pandas will change to not sort by default.\n",
            "\n",
            "To accept the future behavior, pass 'sort=False'.\n",
            "\n",
            "To retain the current behavior and silence the warning, pass 'sort=True'.\n",
            "\n",
            "  \n"
          ],
          "name": "stderr"
        }
      ]
    },
    {
      "cell_type": "code",
      "metadata": {
        "id": "2issbMKK2wZF",
        "colab_type": "code",
        "colab": {}
      },
      "source": [
        "# Set types of index source method\n",
        "ihminen = ['kuvailut_tieto Mona', 'jyx_kuvailut Mona', 'Copy of Kuvailut K']\n",
        "annif_avusteiset = ['kuvailut_tieto Osma', 'kuvailut_tieto Juho', 'jyx_kuvailut_orig']\n",
        "#annif = ['']\n",
        "fennica = ['kuvailut_tieto Fennica', 'Copy of Kuvailut Fennica']\n",
        "\n",
        "df_kuvailut['tyyppi'] = df_kuvailut['tiedostonimi'].apply(lambda x: 'annif_avusteinen' if x in annif_avusteiset\n",
        "                                                                  else ('fennica' if x in fennica else 'ihminen'\n",
        "                                                                  ))\n",
        "\n",
        "df_kuvailut = df_kuvailut[df_kuvailut.did != 'D00']  # Poista esimerkkikuvailu"
      ],
      "execution_count": 0,
      "outputs": []
    },
    {
      "cell_type": "code",
      "metadata": {
        "id": "Sm9eYcMtl6rx",
        "colab_type": "code",
        "colab": {}
      },
      "source": [
        "# Create header and footer to insert around kuvailu \n",
        "\n",
        "df_alaosa0 = pd.DataFrame({'did': [''], 'nimeke': [''], 'url kokotekstiin': [''], 'aiheet': [''], 'kid': ['']})\n",
        "df_alaosa1 = pd.DataFrame({'did': [''], 'nimeke': [''], 'url kokotekstiin': [''], 'aiheet': ['arvosana'], 'kid': ['']})\n",
        "df_alaosa2 = pd.DataFrame({'did': ['']*4, 'nimeke': ['']*4, 'url kokotekstiin': ['Kuvailu on kattava', 'Käytetyt asiasanat ovat sisällön kannalta merkityksellisiä', 'Kuvailu on laadukas', 'Vapaa kenttä'], 'aiheet': ['']*4, 'kid': ['']*4})\n",
        "\n",
        "df_alaosa = pd.concat([df_alaosa0, df_alaosa1, df_alaosa2, df_alaosa0, df_alaosa0])\n",
        "\n",
        "df_ylaosa = pd.DataFrame({'did': [''], 'kid': [''], 'nimeke': [''], 'url kokotekstiin': [''], 'aiheet': ['aiheet'], 'poistettavat': ['poista aihe merkitsemällä x']})\n"
      ],
      "execution_count": 0,
      "outputs": []
    },
    {
      "cell_type": "code",
      "metadata": {
        "id": "IqiKJVk-oEYy",
        "colab_type": "code",
        "outputId": "c945df3f-f226-49d4-ef10-43d280179193",
        "colab": {
          "base_uri": "https://localhost:8080/",
          "height": 458
        }
      },
      "source": [
        "# Create files and sheets\n",
        "\n",
        "min_num_aiheet = 1\n",
        "max_num_ihmiskuvailut = 3\n",
        "num_arvioija = 2\n",
        "num_sheets = 10\n",
        "\n",
        "include_types = ['fennica', 'annif_avusteinen']\n",
        "columns = ['did', 'kid', 'nimeke', 'url kokotekstiin', 'aiheet'] #, 'tiedostonimi']\n",
        "\n",
        "dokumentit = [(did, df_dokumentti) for did, df_dokumentti in df_kuvailut.groupby('did')]\n",
        "\n",
        "for arvioija_ind in range(num_arvioija):\n",
        "    print('arvioija_ind: ', arvioija_ind)\n",
        "    spread = Spread('arvioija_' + str(arvioija_ind) , create_spread=True)\n",
        "    spread.move('Test folder')\n",
        "    random.shuffle(dokumentit)\n",
        "\n",
        "    cnt_sheet = 0\n",
        "    for did, df_dokumentti in dokumentit:\n",
        "        spread.open_sheet(did, create=True)\n",
        "        df_pohja = pd.DataFrame(columns=columns)\n",
        "        print('dockument_id: ', did)\n",
        "        kuvailut = [df_dokumentti_kuvailu \n",
        "                    for _, df_dokumentti_kuvailu \n",
        "                    in df_dokumentti.groupby('kid')\n",
        "                    if df_dokumentti_kuvailu.tyyppi.iloc[0] in include_types\n",
        "                    and len(df_dokumentti_kuvailu.aiheet[df_dokumentti_kuvailu.aiheet != '']) >= min_num_aiheet\n",
        "                    ]\n",
        "        ihmiskuvailut = [df_dokumentti_kuvailu \n",
        "                    for _, df_dokumentti_kuvailu \n",
        "                    in df_dokumentti.groupby('kid')\n",
        "                    if df_dokumentti_kuvailu.tyyppi.iloc[0] == 'ihminen'\n",
        "                    and len(df_dokumentti_kuvailu.aiheet[df_dokumentti_kuvailu.aiheet != '']) >= min_num_aiheet\n",
        "                    ]\n",
        "        random.shuffle(ihmiskuvailut)\n",
        "        ihmiskuvailut = ihmiskuvailut[:max_num_ihmiskuvailut]\n",
        "        kuvailut.extend(ihmiskuvailut)\n",
        "        random.shuffle(kuvailut)\n",
        "        \n",
        "        #df_otsake = pd.DataFrame(kuvailut[0].iloc[:2])\n",
        "        #spread.df_to_sheet(df_otsake, index=False)\n",
        "        \n",
        "        for df_dokumentti_kuvailu in kuvailut:\n",
        "            df_pohja = df_pohja.append(df_ylaosa.append(df_dokumentti_kuvailu[columns], sort=False).append(df_alaosa, sort=False).fillna(''), sort=False)\n",
        "\n",
        "        spread.df_to_sheet(df_pohja, index=False, headers=False)        \n",
        "        cnt_sheet += 1\n",
        "        if cnt_sheet > num_sheets:\n",
        "            break\n"
      ],
      "execution_count": 185,
      "outputs": [
        {
          "output_type": "stream",
          "text": [
            "arvioija_ind:  0\n",
            "dockument_id:  SKT10\n",
            "dockument_id:  D07\n",
            "dockument_id:  SKT17\n",
            "dockument_id:  D09\n",
            "dockument_id:  SKT40\n",
            "dockument_id:  SKT08\n",
            "dockument_id:  TI03\n",
            "dockument_id:  SKT41\n",
            "dockument_id:  SKT36\n",
            "dockument_id:  SKT38\n",
            "dockument_id:  TI10\n",
            "arvioija_ind:  1\n",
            "dockument_id:  TI06\n",
            "dockument_id:  D10\n",
            "dockument_id:  SKT47\n",
            "dockument_id:  D17\n",
            "dockument_id:  JYX05\n",
            "dockument_id:  SKT43\n",
            "dockument_id:  SKT05\n",
            "dockument_id:  JYX06\n",
            "dockument_id:  SKT41\n",
            "dockument_id:  SKT42\n",
            "dockument_id:  SKT44\n"
          ],
          "name": "stdout"
        }
      ]
    },
    {
      "cell_type": "code",
      "metadata": {
        "id": "Sv1C7j5YKZyu",
        "colab_type": "code",
        "outputId": "390cdaa8-4129-4564-dd0b-99da1107c06b",
        "colab": {
          "base_uri": "https://localhost:8080/",
          "height": 35
        }
      },
      "source": [
        " "
      ],
      "execution_count": 148,
      "outputs": [
        {
          "output_type": "execute_result",
          "data": {
            "text/plain": [
              "0"
            ]
          },
          "metadata": {
            "tags": []
          },
          "execution_count": 148
        }
      ]
    },
    {
      "cell_type": "code",
      "metadata": {
        "id": "q1vqcONR5Sgy",
        "colab_type": "code",
        "colab": {}
      },
      "source": [
        "# create a blank spreadsheet with a specified title.\n",
        "\n",
        "spreadsheet = {\n",
        "    'properties': {\n",
        "        'title': title\n",
        "    }\n",
        "}\n",
        "spreadsheet = service.spreadsheets().create(body=spreadsheet,\n",
        "                                    fields='spreadsheetId').execute()\n",
        "print('Spreadsheet ID: {0}'.format(spreadsheet.get('spreadsheetId')))\n",
        "\n",
        "\n",
        "#To write to a sheet, you will need the spreadsheet ID, the range(s) in A1 notation,\n",
        "#and the data you wish to write arranged in an appropriate request body object.\n",
        "values = [\n",
        "    [\n",
        "        # Cell values ...\n",
        "    ],\n",
        "    # Additional rows\n",
        "]\n",
        "data = [\n",
        "    {\n",
        "        'range': range_name,\n",
        "        'values': values\n",
        "    },\n",
        "    # Additional ranges to update ...\n",
        "]\n",
        "body = {\n",
        "    'valueInputOption': value_input_option,\n",
        "    'data': data\n",
        "}\n",
        "result = service.spreadsheets().values().batchUpdate(\n",
        "    spreadsheetId=spreadsheet_id, body=body).execute()\n",
        "print('{0} cells updated.'.format(result.get('totalUpdatedCells')))\n",
        "\n",
        "\n",
        "#copy sheets\n",
        "from googleapiclient import discovery\n",
        "\n",
        "# TODO: Change placeholder below to generate authentication credentials. See\n",
        "# https://developers.google.com/sheets/quickstart/python#step_3_set_up_the_sample\n",
        "#\n",
        "# Authorize using one of the following scopes:\n",
        "#     'https://www.googleapis.com/auth/drive'\n",
        "#     'https://www.googleapis.com/auth/drive.file'\n",
        "#     'https://www.googleapis.com/auth/spreadsheets'\n",
        "credentials = None\n",
        "\n",
        "service = discovery.build('sheets', 'v4', credentials=credentials)\n",
        "\n",
        "# The ID of the spreadsheet containing the sheet to copy.\n",
        "spreadsheet_id = 'my-spreadsheet-id'  # TODO: Update placeholder value.\n",
        "\n",
        "# The ID of the sheet to copy.\n",
        "sheet_id = 0  # TODO: Update placeholder value.\n",
        "\n",
        "copy_sheet_to_another_spreadsheet_request_body = {\n",
        "    # The ID of the spreadsheet to copy the sheet to.\n",
        "    'destination_spreadsheet_id': '',  # TODO: Update placeholder value.\n",
        "\n",
        "    # TODO: Add desired entries to the request body.\n",
        "}\n",
        "\n",
        "request = service.spreadsheets().sheets().copyTo(spreadsheetId=spreadsheet_id, sheetId=sheet_id, body=copy_sheet_to_another_spreadsheet_request_body)\n",
        "response = request.execute()\n",
        "\n",
        "# TODO: Change code below to process the `response` dict:\n"
      ],
      "execution_count": 0,
      "outputs": []
    },
    {
      "cell_type": "code",
      "metadata": {
        "id": "A0jIMcWmrZnD",
        "colab_type": "code",
        "colab": {}
      },
      "source": [
        "#using gspread\n",
        "scope = [\n",
        "    'https://spreadsheets.google.com/feeds',\n",
        "    'https://www.googleapis.com/auth/drive'\n",
        "]\n",
        "\n",
        "# making spreadsheets\n",
        "create(title)\n",
        "\n",
        "t == \"\"\n",
        "for i in range(50):\n",
        "  t == t+str(i)\n",
        "  create()\n",
        "\n"
      ],
      "execution_count": 0,
      "outputs": []
    },
    {
      "cell_type": "code",
      "metadata": {
        "id": "71AeQrxorZHJ",
        "colab_type": "code",
        "colab": {}
      },
      "source": [
        ""
      ],
      "execution_count": 0,
      "outputs": []
    }
  ]
}