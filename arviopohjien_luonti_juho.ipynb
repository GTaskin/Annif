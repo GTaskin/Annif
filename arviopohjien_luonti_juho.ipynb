{
  "nbformat": 4,
  "nbformat_minor": 0,
  "metadata": {
    "colab": {
      "name": "arviopohjien_luonti_juho.ipynb",
      "provenance": [],
      "collapsed_sections": [],
      "include_colab_link": true
    },
    "kernelspec": {
      "name": "python3",
      "display_name": "Python 3"
    }
  },
  "cells": [
    {
      "cell_type": "markdown",
      "metadata": {
        "id": "view-in-github",
        "colab_type": "text"
      },
      "source": [
        "<a href=\"https://colab.research.google.com/github/NatLibFi/Annif/blob/kvp2019-workshop/arviopohjien_luonti_juho.ipynb\" target=\"_parent\"><img src=\"https://colab.research.google.com/assets/colab-badge.svg\" alt=\"Open In Colab\"/></a>"
      ]
    },
    {
      "cell_type": "code",
      "metadata": {
        "id": "uzbbqCiOwOW2",
        "colab_type": "code",
        "outputId": "8280d00d-b433-4fa4-d70f-fb37b30b7a57",
        "colab": {
          "base_uri": "https://localhost:8080/",
          "height": 476
        }
      },
      "source": [
        "! pip install gspread-pandas"
      ],
      "execution_count": 0,
      "outputs": [
        {
          "output_type": "stream",
          "text": [
            "Collecting gspread-pandas\n",
            "  Downloading https://files.pythonhosted.org/packages/e7/9f/2d2240473b006b21977238d0bc88699fb15fd520a2ed52f799b30ea2adbf/gspread_pandas-2.1.3-py2.py3-none-any.whl\n",
            "Requirement already satisfied: google-auth-oauthlib in /usr/local/lib/python3.6/dist-packages (from gspread-pandas) (0.4.1)\n",
            "Requirement already satisfied: future in /usr/local/lib/python3.6/dist-packages (from gspread-pandas) (0.16.0)\n",
            "Requirement already satisfied: gspread>=3.0.0 in /usr/local/lib/python3.6/dist-packages (from gspread-pandas) (3.0.1)\n",
            "Requirement already satisfied: decorator in /usr/local/lib/python3.6/dist-packages (from gspread-pandas) (4.4.0)\n",
            "Requirement already satisfied: google-auth in /usr/local/lib/python3.6/dist-packages (from gspread-pandas) (1.4.2)\n",
            "Requirement already satisfied: pandas>=0.20.0 in /usr/local/lib/python3.6/dist-packages (from gspread-pandas) (0.24.2)\n",
            "Requirement already satisfied: requests-oauthlib>=0.7.0 in /usr/local/lib/python3.6/dist-packages (from google-auth-oauthlib->gspread-pandas) (1.2.0)\n",
            "Requirement already satisfied: requests>=2.2.1 in /usr/local/lib/python3.6/dist-packages (from gspread>=3.0.0->gspread-pandas) (2.21.0)\n",
            "Requirement already satisfied: six>=1.9.0 in /usr/local/lib/python3.6/dist-packages (from google-auth->gspread-pandas) (1.12.0)\n",
            "Requirement already satisfied: rsa>=3.1.4 in /usr/local/lib/python3.6/dist-packages (from google-auth->gspread-pandas) (4.0)\n",
            "Requirement already satisfied: pyasn1-modules>=0.2.1 in /usr/local/lib/python3.6/dist-packages (from google-auth->gspread-pandas) (0.2.6)\n",
            "Requirement already satisfied: cachetools>=2.0.0 in /usr/local/lib/python3.6/dist-packages (from google-auth->gspread-pandas) (3.1.1)\n",
            "Requirement already satisfied: pytz>=2011k in /usr/local/lib/python3.6/dist-packages (from pandas>=0.20.0->gspread-pandas) (2018.9)\n",
            "Requirement already satisfied: python-dateutil>=2.5.0 in /usr/local/lib/python3.6/dist-packages (from pandas>=0.20.0->gspread-pandas) (2.5.3)\n",
            "Requirement already satisfied: numpy>=1.12.0 in /usr/local/lib/python3.6/dist-packages (from pandas>=0.20.0->gspread-pandas) (1.16.5)\n",
            "Requirement already satisfied: oauthlib>=3.0.0 in /usr/local/lib/python3.6/dist-packages (from requests-oauthlib>=0.7.0->google-auth-oauthlib->gspread-pandas) (3.1.0)\n",
            "Requirement already satisfied: certifi>=2017.4.17 in /usr/local/lib/python3.6/dist-packages (from requests>=2.2.1->gspread>=3.0.0->gspread-pandas) (2019.9.11)\n",
            "Requirement already satisfied: urllib3<1.25,>=1.21.1 in /usr/local/lib/python3.6/dist-packages (from requests>=2.2.1->gspread>=3.0.0->gspread-pandas) (1.24.3)\n",
            "Requirement already satisfied: idna<2.9,>=2.5 in /usr/local/lib/python3.6/dist-packages (from requests>=2.2.1->gspread>=3.0.0->gspread-pandas) (2.8)\n",
            "Requirement already satisfied: chardet<3.1.0,>=3.0.2 in /usr/local/lib/python3.6/dist-packages (from requests>=2.2.1->gspread>=3.0.0->gspread-pandas) (3.0.4)\n",
            "Requirement already satisfied: pyasn1>=0.1.3 in /usr/local/lib/python3.6/dist-packages (from rsa>=3.1.4->google-auth->gspread-pandas) (0.4.7)\n",
            "Installing collected packages: gspread-pandas\n",
            "Successfully installed gspread-pandas-2.1.3\n"
          ],
          "name": "stdout"
        }
      ]
    },
    {
      "cell_type": "code",
      "metadata": {
        "id": "ccHXoGc8wQaI",
        "colab_type": "code",
        "colab": {}
      },
      "source": [
        "! mkdir -p  /root/.config/gspread_pandas/\n",
        "! echo '{\"installed\":{\"client_id\":\"257572009167-uai362klp88kr3hluabtoujf2hnd7fr6.apps.googleusercontent.com\",\"project_id\":\"formal-archive-254810\",\"auth_uri\":\"https://accounts.google.com/o/oauth2/auth\",\"token_uri\":\"https://oauth2.googleapis.com/token\",\"auth_provider_x509_cert_url\":\"https://www.googleapis.com/oauth2/v1/certs\",\"client_secret\":\"x554t-fVXmFDrENKrXu8GuKy\",\"redirect_uris\":[\"urn:ietf:wg:oauth:2.0:oob\",\"http://localhost\"]}}' > /root/.config/gspread_pandas/google_secret.json"
      ],
      "execution_count": 0,
      "outputs": []
    },
    {
      "cell_type": "code",
      "metadata": {
        "id": "B3y_qT1vwZ2f",
        "colab_type": "code",
        "colab": {}
      },
      "source": [
        "import pandas as pd\n",
        "import random\n",
        "from gspread_pandas import Spread, Client"
      ],
      "execution_count": 0,
      "outputs": []
    },
    {
      "cell_type": "code",
      "metadata": {
        "id": "3sDThQdvapBH",
        "colab_type": "code",
        "outputId": "f16e9650-d447-48c4-92a8-210e7d5d9cad",
        "colab": {
          "base_uri": "https://localhost:8080/",
          "height": 1000
        }
      },
      "source": [
        "client = Client()\n",
        "spreads = client.find_spreadsheet_files_in_folders('Dokumenttien kuvailut')\n",
        "\n",
        "df_kuvailut1 = pd.DataFrame()\n",
        "df_kuvailut2 = pd.DataFrame()\n",
        "\n",
        "#kuvailu_id = 0\n",
        "#cols_to_keep = ['id', 'nimeke', 'url kokotekstiin', 'aiheet', 'kid', 'tiedostonimi']\n",
        "\n",
        "for kuvailu_id, spread in enumerate(spreads['Dokumenttien kuvailut']):\n",
        "  print(spread)\n",
        "  # Tietokirjat:\n",
        "  if spread['name'].startswith(\"kuvailut_tieto\"):\n",
        "      df_sheet = Spread(spread['id'], sheet=0).sheet_to_df(index=None)\n",
        "      df_sheet['kid'] = kuvailu_id\n",
        "      df_sheet['tiedostonimi'] = spread['name']\n",
        "      df_sheet.rename(columns={'isbn': 'url kokotekstiin'}, inplace=True)\n",
        "      df_kuvailut1 = df_kuvailut1.append(df_sheet) #[cols_to_keep])\n",
        "  else:\n",
        "      df_sheet = Spread(spread['id'], sheet=0).sheet_to_df(index=None)\n",
        "      df_sheet['kid'] = kuvailu_id\n",
        "      df_sheet['tiedostonimi'] = spread['name']\n",
        "      df_sheet.columns = df_sheet.columns.str.lower()\n",
        "      df_kuvailut2 = df_kuvailut2.append(df_sheet) #[cols_to_keep])    \n",
        "  #kuvailu_id += 1\n",
        "  #if kuvailu_id > 10: \n",
        "  #  break"
      ],
      "execution_count": 0,
      "outputs": [
        {
          "output_type": "stream",
          "text": [
            "{'id': '118wERQi6W_K6OCawjhxbDC2QtWmexL7uV6kDrtv7X9w', 'name': 'Copy of Kuvailut K16', 'path': '/'}\n",
            "{'id': '118wERQi6W_K6OCawjhxbDC2QtWmexL7uV6kDrtv7X9w', 'name': 'Copy of Kuvailut K16', 'path': '/'}\n",
            "Index(['id', 'nimeke', 'url kokotekstiin', 'aiheet', 'kid', 'tiedostonimi'], dtype='object')\n",
            "{'id': '1agJ885Wj2Q1XgEiVgb_V2BVLbjVNhk0EyyFAmO1sEVI', 'name': 'kuvailut_tieto Osma', 'path': '/'}\n",
            "Index(['id', 'nimeke', 'url kokotekstiin', 'aiheet', 'kid', 'tiedostonimi'], dtype='object')\n",
            "{'id': '1C9K8zR3iMJyIxaq8dVRJmH5mWhuWqmhX32KCQZsmOIE', 'name': 'Copy of Kuvailut K31', 'path': '/'}\n",
            "{'id': '1C9K8zR3iMJyIxaq8dVRJmH5mWhuWqmhX32KCQZsmOIE', 'name': 'Copy of Kuvailut K31', 'path': '/'}\n",
            "Index(['id', 'nimeke', 'url kokotekstiin', 'aiheet', 'kid', 'tiedostonimi'], dtype='object')\n",
            "{'id': '1VTUr0Jf6juzq60RzfoC6EytMBveHNbOAxAMXu7AJik8', 'name': 'kuvailut_tieto Mona', 'path': '/'}\n",
            "Index(['id', 'nimeke', 'url kokotekstiin', 'aiheet', 'kid', 'tiedostonimi'], dtype='object')\n",
            "{'id': '1rAcq6aVROxabfSJTwWk0-E8gnhigKLSjhH7Sua_vA_E', 'name': 'kuvailut_tieto Fennica', 'path': '/'}\n",
            "Index(['id', 'nimeke', 'url kokotekstiin', 'aiheet', 'kid', 'tiedostonimi'], dtype='object')\n",
            "{'id': '1FnGNyuDkJ-5MazzCQ2u5FQC_0ZL7Q634RsKo0XHxXwU', 'name': 'jyx_kuvailut Osma', 'path': '/'}\n",
            "{'id': '1FnGNyuDkJ-5MazzCQ2u5FQC_0ZL7Q634RsKo0XHxXwU', 'name': 'jyx_kuvailut Osma', 'path': '/'}\n",
            "Index(['id', 'nimeke', 'url kokotekstiin', 'aiheet', 'kid', 'tiedostonimi'], dtype='object')\n",
            "{'id': '1UBqhyh_MYhs2Ff5PK9jxsoEI9ptKvyEwYj2LoYEYFRY', 'name': 'kuvailut_tieto Juho', 'path': '/'}\n",
            "Index(['id', 'nimeke', 'url kokotekstiin', 'aiheet', 'kid', 'tiedostonimi'], dtype='object')\n",
            "{'id': '1Tt0BWLBDePCaptQGy60CPsmQDhdR41Ji0uAbGhPkZnM', 'name': 'jyx_kuvailut Juho', 'path': '/'}\n",
            "{'id': '1Tt0BWLBDePCaptQGy60CPsmQDhdR41Ji0uAbGhPkZnM', 'name': 'jyx_kuvailut Juho', 'path': '/'}\n",
            "Index(['id', 'nimeke', 'url kokotekstiin', 'aiheet', 'kid', 'tiedostonimi'], dtype='object')\n",
            "{'id': '1kWeqCTs4klgUqMTm6stna4bYTa9meZEBzR0N6-gLV5c', 'name': 'jyx_kuvailut Mona', 'path': '/'}\n",
            "{'id': '1kWeqCTs4klgUqMTm6stna4bYTa9meZEBzR0N6-gLV5c', 'name': 'jyx_kuvailut Mona', 'path': '/'}\n",
            "Index(['id', 'nimeke', 'url kokotekstiin', 'aiheet', 'kid', 'tiedostonimi'], dtype='object')\n",
            "{'id': '1ag-r8VKbzL63iut_oMpXnUqM_X3-XmeUrOZQbyHiDdo', 'name': 'jyx_kuvailut_orig', 'path': '/'}\n",
            "{'id': '1ag-r8VKbzL63iut_oMpXnUqM_X3-XmeUrOZQbyHiDdo', 'name': 'jyx_kuvailut_orig', 'path': '/'}\n",
            "Index(['id', 'nimeke', 'url kokotekstiin', 'aiheet',\n",
            "       'aiheet: dc.subject.other (ei ysossa)',\n",
            "       'vastaava tai lähes vastaava yso', 'kid', 'tiedostonimi'],\n",
            "      dtype='object')\n",
            "{'id': '1eF1P_xfRFXjSzJ71zi1_aqEzlouyqfKmxCYEPKYXi5k', 'name': 'SKT4 VL Copy of Kuvailut ', 'path': '/'}\n"
          ],
          "name": "stdout"
        },
        {
          "output_type": "stream",
          "text": [
            "/usr/local/lib/python3.6/dist-packages/pandas/core/frame.py:6692: FutureWarning: Sorting because non-concatenation axis is not aligned. A future version\n",
            "of pandas will change to not sort by default.\n",
            "\n",
            "To accept the future behavior, pass 'sort=False'.\n",
            "\n",
            "To retain the current behavior and silence the warning, pass 'sort=True'.\n",
            "\n",
            "  sort=sort)\n"
          ],
          "name": "stderr"
        },
        {
          "output_type": "stream",
          "text": [
            "{'id': '1eF1P_xfRFXjSzJ71zi1_aqEzlouyqfKmxCYEPKYXi5k', 'name': 'SKT4 VL Copy of Kuvailut ', 'path': '/'}\n",
            "Index(['id', 'nimeke', 'url kokotekstiin', 'aiheet', 'yso-paikat aiheina',\n",
            "       'yhteisöt aiheina', 'henkilöt aiheina', 'kid', 'tiedostonimi'],\n",
            "      dtype='object')\n",
            "{'id': '1V09_YiPfIPLQd0edJ1sr8i9Ap1gdXJx8ynYOF8SD8zU', 'name': 'SKT3 JM Kuvailut Copy of ', 'path': '/'}\n",
            "{'id': '1V09_YiPfIPLQd0edJ1sr8i9Ap1gdXJx8ynYOF8SD8zU', 'name': 'SKT3 JM Kuvailut Copy of ', 'path': '/'}\n",
            "Index(['id', 'nimeke', 'url kokotekstiin', 'aiheet', 'yso-paikat aiheina',\n",
            "       'yhteisöt aiheina', 'henkilöt aiheina', 'kid', 'tiedostonimi'],\n",
            "      dtype='object')\n",
            "{'id': '19InLOfKZQE-O7_lFjKDCmf9xNnOGQLQVzgXGlnjjVIA', 'name': ' SKT1 KL Copy of Kuvailut', 'path': '/'}\n",
            "{'id': '19InLOfKZQE-O7_lFjKDCmf9xNnOGQLQVzgXGlnjjVIA', 'name': ' SKT1 KL Copy of Kuvailut', 'path': '/'}\n",
            "Index(['id', 'nimeke', 'url kokotekstiin', 'aiheet', 'yso-paikat aiheina',\n",
            "       'yhteisöt aiheina', 'henkilöt aiheina', 'kid', 'tiedostonimi'],\n",
            "      dtype='object')\n",
            "{'id': '1HoV2mpTqRY9iFXvOT8aQPe0Tw_3E5pZTDl-RzGzGa98', 'name': 'SKT2 PM Copy of Kuvailut ', 'path': '/'}\n",
            "{'id': '1HoV2mpTqRY9iFXvOT8aQPe0Tw_3E5pZTDl-RzGzGa98', 'name': 'SKT2 PM Copy of Kuvailut ', 'path': '/'}\n",
            "Index(['id', 'nimeke', 'url kokotekstiin', 'aiheet', 'yso-paikat aiheina',\n",
            "       'yhteisöt aiheina', 'henkilöt aiheina', 'paikat, ei yso',\n",
            "       'yhteisöt, ei yso', 'kid', 'tiedostonimi'],\n",
            "      dtype='object')\n",
            "{'id': '1YWecQyMlreLKNH-4e1wHLGVzWmkuZyV1RZnP96mqeJU', 'name': 'Copy of Kuvailut Fennica', 'path': '/'}\n",
            "{'id': '1YWecQyMlreLKNH-4e1wHLGVzWmkuZyV1RZnP96mqeJU', 'name': 'Copy of Kuvailut Fennica', 'path': '/'}\n",
            "Index(['id', 'nimeke', 'url kokotekstiin', 'aiheet', 'kid', 'tiedostonimi'], dtype='object')\n",
            "{'id': '12Nq-Bn7QTdTE7uih4LMb2lXw7J7W3ww-Abx9p5VXd1s', 'name': 'Copy of Kuvailut K02', 'path': '/'}\n",
            "{'id': '12Nq-Bn7QTdTE7uih4LMb2lXw7J7W3ww-Abx9p5VXd1s', 'name': 'Copy of Kuvailut K02', 'path': '/'}\n",
            "Index(['id', 'nimeke', 'url kokotekstiin', 'aiheet', 'kid', 'tiedostonimi'], dtype='object')\n",
            "{'id': '1kKfJT9-trzMsBZdESwEYmw6Ztj4TtgtCv31zk3fqIno', 'name': 'Copy of Kuvailut K17', 'path': '/'}\n",
            "{'id': '1kKfJT9-trzMsBZdESwEYmw6Ztj4TtgtCv31zk3fqIno', 'name': 'Copy of Kuvailut K17', 'path': '/'}\n",
            "Index(['id', 'nimeke', 'url kokotekstiin', 'aiheet', 'kid', 'tiedostonimi'], dtype='object')\n",
            "{'id': '1hZrWVAO-w72Q43NtDRmTNKBocZ1zGTNO_-Bn07dkhK0', 'name': 'Copy of Kuvailut K05', 'path': '/'}\n",
            "{'id': '1hZrWVAO-w72Q43NtDRmTNKBocZ1zGTNO_-Bn07dkhK0', 'name': 'Copy of Kuvailut K05', 'path': '/'}\n",
            "Index(['id', 'nimeke', 'url kokotekstiin', 'aiheet', 'kid', 'tiedostonimi'], dtype='object')\n",
            "{'id': '16A5uFilo0cxK97tSBHlDLi-ujUh8ay9PQ__U6g_P1t4', 'name': 'Copy of Kuvailut K14', 'path': '/'}\n",
            "{'id': '16A5uFilo0cxK97tSBHlDLi-ujUh8ay9PQ__U6g_P1t4', 'name': 'Copy of Kuvailut K14', 'path': '/'}\n",
            "Index(['id', 'nimeke', 'url kokotekstiin', 'aiheet', 'kid', 'tiedostonimi'], dtype='object')\n",
            "{'id': '1BTqoU4Hb27Io5CY-TdYA6AaBuRFOSU9vdvJV_KaqSy0', 'name': 'Copy of Kuvailut K11', 'path': '/'}\n",
            "{'id': '1BTqoU4Hb27Io5CY-TdYA6AaBuRFOSU9vdvJV_KaqSy0', 'name': 'Copy of Kuvailut K11', 'path': '/'}\n",
            "Index(['id', 'nimeke', 'url kokotekstiin', 'aiheet', 'kid', 'tiedostonimi'], dtype='object')\n",
            "{'id': '1c8nLQimeFBgrmGHzwMN0dxqkQDY8LnpuxcxXEedlGZc', 'name': 'Copy of Kuvailut K08', 'path': '/'}\n",
            "{'id': '1c8nLQimeFBgrmGHzwMN0dxqkQDY8LnpuxcxXEedlGZc', 'name': 'Copy of Kuvailut K08', 'path': '/'}\n",
            "Index(['id', 'nimeke', 'url kokotekstiin', 'aiheet', 'kid', 'tiedostonimi'], dtype='object')\n",
            "{'id': '1o3zp7igLKqoXA_bUkbNZzCMAk94cvgn_Kd9ecZ8rj7Q', 'name': 'Copy of Kuvailut K32', 'path': '/'}\n",
            "{'id': '1o3zp7igLKqoXA_bUkbNZzCMAk94cvgn_Kd9ecZ8rj7Q', 'name': 'Copy of Kuvailut K32', 'path': '/'}\n",
            "Index(['id', 'nimeke', 'url kokotekstiin', 'aiheet', 'kid', 'tiedostonimi'], dtype='object')\n",
            "{'id': '1-NCRQtf2BNLV9HlxP3juPYvnUR8nBeesPwHdW0y0yVA', 'name': 'Copy of Kuvailut K23', 'path': '/'}\n",
            "{'id': '1-NCRQtf2BNLV9HlxP3juPYvnUR8nBeesPwHdW0y0yVA', 'name': 'Copy of Kuvailut K23', 'path': '/'}\n",
            "Index(['id', 'nimeke', 'url kokotekstiin', 'aiheet', 'kid', 'tiedostonimi'], dtype='object')\n",
            "{'id': '1BgOhbzsrifJLNkwYTF8L7LB02WnziTidLabsCR3PfQ0', 'name': 'Copy of Kuvailut K29', 'path': '/'}\n",
            "{'id': '1BgOhbzsrifJLNkwYTF8L7LB02WnziTidLabsCR3PfQ0', 'name': 'Copy of Kuvailut K29', 'path': '/'}\n",
            "Index(['id', 'nimeke', 'url kokotekstiin', 'aiheet', 'kid', 'tiedostonimi'], dtype='object')\n",
            "{'id': '1gpbv5-BA970KWcuFd-XwGt5r5ZCqesaWTZjx3VBvsFo', 'name': 'Copy of Kuvailut K20', 'path': '/'}\n",
            "{'id': '1gpbv5-BA970KWcuFd-XwGt5r5ZCqesaWTZjx3VBvsFo', 'name': 'Copy of Kuvailut K20', 'path': '/'}\n",
            "Index(['id', 'nimeke', 'url kokotekstiin', 'aiheet', 'kid', 'tiedostonimi'], dtype='object')\n",
            "{'id': '1b_omDfWqiRnkXV-J5qJcfTvFuwPokuc_fb3DdBSA-6c', 'name': 'Copy of Kuvailut K26', 'path': '/'}\n",
            "{'id': '1b_omDfWqiRnkXV-J5qJcfTvFuwPokuc_fb3DdBSA-6c', 'name': 'Copy of Kuvailut K26', 'path': '/'}\n",
            "Index(['id', 'nimeke', 'url kokotekstiin', 'aiheet', 'kid', 'tiedostonimi'], dtype='object')\n",
            "{'id': '1YVYbRIEtUed-dZrZo4_XVJQM24laQToKpwcL-X7NKnU', 'name': 'Copy of Kuvailut K19', 'path': '/'}\n",
            "{'id': '1YVYbRIEtUed-dZrZo4_XVJQM24laQToKpwcL-X7NKnU', 'name': 'Copy of Kuvailut K19', 'path': '/'}\n",
            "Index(['id', 'nimeke', 'url kokotekstiin', 'aiheet', 'kid', 'tiedostonimi'], dtype='object')\n",
            "{'id': '1rfrVBrLiTogbqACPcvRJm87Tvqpyx2YHkFyDzQkfih0', 'name': 'Copy of Kuvailut K10', 'path': '/'}\n",
            "{'id': '1rfrVBrLiTogbqACPcvRJm87Tvqpyx2YHkFyDzQkfih0', 'name': 'Copy of Kuvailut K10', 'path': '/'}\n",
            "Index(['id', 'nimeke', 'url kokotekstiin', 'aiheet', 'kid', 'tiedostonimi'], dtype='object')\n",
            "{'id': '1jKOXjdupL-xC4N6tt5Gtw3EobEe3xW0AxTRFzPIcTdQ', 'name': 'Copy of Kuvailut K38', 'path': '/'}\n",
            "{'id': '1jKOXjdupL-xC4N6tt5Gtw3EobEe3xW0AxTRFzPIcTdQ', 'name': 'Copy of Kuvailut K38', 'path': '/'}\n",
            "Index(['id', 'nimeke', 'url kokotekstiin', 'aiheet', 'kid', 'tiedostonimi'], dtype='object')\n",
            "{'id': '1oNM7HTbSeeGb8yn-o78FWf4UI-Dm_mAIZQt0HCmi54Q', 'name': 'Copy of Kuvailut K13', 'path': '/'}\n",
            "{'id': '1oNM7HTbSeeGb8yn-o78FWf4UI-Dm_mAIZQt0HCmi54Q', 'name': 'Copy of Kuvailut K13', 'path': '/'}\n",
            "Index(['id', 'nimeke', 'url kokotekstiin', 'aiheet', '', 'kid',\n",
            "       'tiedostonimi'],\n",
            "      dtype='object')\n",
            "{'id': '1fDMaRjmeQAGgcU84H2EdMHRz9nkYngtf4lDJePjrOeg', 'name': 'Copy of Kuvailut K35', 'path': '/'}\n",
            "{'id': '1fDMaRjmeQAGgcU84H2EdMHRz9nkYngtf4lDJePjrOeg', 'name': 'Copy of Kuvailut K35', 'path': '/'}\n",
            "Index(['id', 'nimeke', 'url kokotekstiin', 'aiheet', 'kid', 'tiedostonimi'], dtype='object')\n",
            "{'id': '1VJuMHaRKeQTX1lJ7KxP0pow4TpBz3iiM_Tsrb6VPqV8', 'name': 'Copy of Kuvailut K40', 'path': '/'}\n",
            "{'id': '1VJuMHaRKeQTX1lJ7KxP0pow4TpBz3iiM_Tsrb6VPqV8', 'name': 'Copy of Kuvailut K40', 'path': '/'}\n",
            "Index(['id', 'nimeke', 'url kokotekstiin', 'aiheet', 'kid', 'tiedostonimi'], dtype='object')\n",
            "{'id': '1u7bblXj6mp8McM4Ld4vLKZ3IjllRAX9bFXyWNLGSTxw', 'name': 'Copy of Kuvailut K28', 'path': '/'}\n",
            "{'id': '1u7bblXj6mp8McM4Ld4vLKZ3IjllRAX9bFXyWNLGSTxw', 'name': 'Copy of Kuvailut K28', 'path': '/'}\n",
            "Index(['id', 'nimeke', 'url kokotekstiin', 'aiheet', 'kid', 'tiedostonimi'], dtype='object')\n",
            "{'id': '1PJ-pgc0WUPL5MpRjE7LE6xXeFtKCQv1fTbwIVGvksqQ', 'name': 'Copy of Kuvailut K25', 'path': '/'}\n",
            "{'id': '1PJ-pgc0WUPL5MpRjE7LE6xXeFtKCQv1fTbwIVGvksqQ', 'name': 'Copy of Kuvailut K25', 'path': '/'}\n",
            "Index(['id', 'nimeke', 'url kokotekstiin', 'aiheet', 'kid', 'tiedostonimi'], dtype='object')\n",
            "{'id': '1Lv0xkeWz7VDDKh7cg5FJe6Llb0k2c5r_He1gbXb-gC8', 'name': 'Copy of Kuvailut K37', 'path': '/'}\n",
            "{'id': '1Lv0xkeWz7VDDKh7cg5FJe6Llb0k2c5r_He1gbXb-gC8', 'name': 'Copy of Kuvailut K37', 'path': '/'}\n",
            "Index(['id', 'nimeke', 'url kokotekstiin', 'aiheet', 'kid', 'tiedostonimi'], dtype='object')\n",
            "{'id': '1TCebYj4AHqMxjlB8JEutEehD0X4wJuUZSRFHbrWLEfQ', 'name': 'Copy of Kuvailut K22', 'path': '/'}\n",
            "{'id': '1TCebYj4AHqMxjlB8JEutEehD0X4wJuUZSRFHbrWLEfQ', 'name': 'Copy of Kuvailut K22', 'path': '/'}\n",
            "Index(['id', 'nimeke', 'url kokotekstiin', 'aiheet', 'kid', 'tiedostonimi'], dtype='object')\n",
            "{'id': '1ksUPBcqRz3ejovgodvRAtuoPleMY2ki6Nq8iGeLHLZU', 'name': 'Copy of Kuvailut K18', 'path': '/'}\n",
            "{'id': '1ksUPBcqRz3ejovgodvRAtuoPleMY2ki6Nq8iGeLHLZU', 'name': 'Copy of Kuvailut K18', 'path': '/'}\n",
            "Index(['id', 'nimeke', 'url kokotekstiin', 'aiheet', 'kid', 'tiedostonimi'], dtype='object')\n",
            "{'id': '1J9tW0egRp3SSmZVQkxtwxfg77iuh6DR7GPLutHPqqkc', 'name': 'Copy of Kuvailut K06', 'path': '/'}\n",
            "{'id': '1J9tW0egRp3SSmZVQkxtwxfg77iuh6DR7GPLutHPqqkc', 'name': 'Copy of Kuvailut K06', 'path': '/'}\n",
            "Index(['id', 'nimeke', 'url kokotekstiin', 'aiheet', 'kid', 'tiedostonimi'], dtype='object')\n",
            "{'id': '1fBYarvnSE9bw32nTkgLag8g4xn_ZsClH9QwhX8rQKSo', 'name': 'Copy of Kuvailut K12', 'path': '/'}\n",
            "{'id': '1fBYarvnSE9bw32nTkgLag8g4xn_ZsClH9QwhX8rQKSo', 'name': 'Copy of Kuvailut K12', 'path': '/'}\n",
            "Index(['id', 'nimeke', 'url kokotekstiin', 'aiheet', 'kid', 'tiedostonimi'], dtype='object')\n",
            "{'id': '1M9uMGBD-BKxPPe4uJVJ7BMX00wzYwYCiP-ztHgQKC38', 'name': 'Copy of Kuvailut K03', 'path': '/'}\n",
            "{'id': '1M9uMGBD-BKxPPe4uJVJ7BMX00wzYwYCiP-ztHgQKC38', 'name': 'Copy of Kuvailut K03', 'path': '/'}\n",
            "Index(['id', 'nimeke', 'url kokotekstiin', 'aiheet', 'kid', 'tiedostonimi'], dtype='object')\n",
            "{'id': '1nq6yj4bMnJRzQlf3Ab0aLkjtAn4fuQIqw8S6-rlZSUI', 'name': 'Copy of Kuvailut K09', 'path': '/'}\n",
            "{'id': '1nq6yj4bMnJRzQlf3Ab0aLkjtAn4fuQIqw8S6-rlZSUI', 'name': 'Copy of Kuvailut K09', 'path': '/'}\n",
            "Index(['id', 'nimeke', 'url kokotekstiin', 'aiheet', 'kid', 'tiedostonimi'], dtype='object')\n",
            "{'id': '1t08hYQqSf0d3kjsW2nm-7kUzUl6oIHU5yTq9zdhcUZU', 'name': 'Copy of Kuvailut K33', 'path': '/'}\n",
            "{'id': '1t08hYQqSf0d3kjsW2nm-7kUzUl6oIHU5yTq9zdhcUZU', 'name': 'Copy of Kuvailut K33', 'path': '/'}\n",
            "Index(['id', 'nimeke', 'url kokotekstiin', 'aiheet', 'kid', 'tiedostonimi'], dtype='object')\n",
            "{'id': '1aQWrIsfDW77MjYPGXhNM_NeHQp21ZMXLR-dNtYrOLGo', 'name': 'Copy of Kuvailut K39', 'path': '/'}\n",
            "{'id': '1aQWrIsfDW77MjYPGXhNM_NeHQp21ZMXLR-dNtYrOLGo', 'name': 'Copy of Kuvailut K39', 'path': '/'}\n",
            "Index(['id', 'nimeke', 'url kokotekstiin', 'aiheet', 'kid', 'tiedostonimi'], dtype='object')\n",
            "{'id': '1Ppiv5Ihfs-ekRQ7KW8tyLIMnKK9WjH1v_dYm9As8kkI', 'name': 'Copy of Kuvailut K21', 'path': '/'}\n",
            "{'id': '1Ppiv5Ihfs-ekRQ7KW8tyLIMnKK9WjH1v_dYm9As8kkI', 'name': 'Copy of Kuvailut K21', 'path': '/'}\n",
            "Index(['id', 'nimeke', 'url kokotekstiin', 'aiheet', 'kid', 'tiedostonimi'], dtype='object')\n",
            "{'id': '1BWcxQPT9tQLtRllAr5puFFoivybWhvD81xbw4qPyeZ4', 'name': 'Copy of Kuvailut K36', 'path': '/'}\n",
            "{'id': '1BWcxQPT9tQLtRllAr5puFFoivybWhvD81xbw4qPyeZ4', 'name': 'Copy of Kuvailut K36', 'path': '/'}\n",
            "Index(['id', 'nimeke', 'url kokotekstiin', 'aiheet', 'kid', 'tiedostonimi'], dtype='object')\n",
            "{'id': '191r6anrgDPydHyNFqKqj73eZOOjFQJqs-yM4yqTt-PI', 'name': 'Copy of Kuvailut K04', 'path': '/'}\n",
            "{'id': '191r6anrgDPydHyNFqKqj73eZOOjFQJqs-yM4yqTt-PI', 'name': 'Copy of Kuvailut K04', 'path': '/'}\n",
            "Index(['id', 'nimeke', 'url kokotekstiin', 'aiheet', 'kid', 'tiedostonimi'], dtype='object')\n",
            "{'id': '1fXCiIgFdlZY60HLOEwjd85ziUoMhJCGYj6qyk-bLnGk', 'name': 'Copy of Kuvailut K01', 'path': '/'}\n",
            "{'id': '1fXCiIgFdlZY60HLOEwjd85ziUoMhJCGYj6qyk-bLnGk', 'name': 'Copy of Kuvailut K01', 'path': '/'}\n",
            "Index(['id', 'nimeke', 'url kokotekstiin', 'aiheet', 'kid', 'tiedostonimi'], dtype='object')\n",
            "{'id': '1Nn8yOloa2olauIPg1lXNPSBGCXWCzvfQ4q2HxBiSZIY', 'name': 'Copy of Kuvailut K34', 'path': '/'}\n",
            "{'id': '1Nn8yOloa2olauIPg1lXNPSBGCXWCzvfQ4q2HxBiSZIY', 'name': 'Copy of Kuvailut K34', 'path': '/'}\n",
            "Index(['id', 'nimeke', 'url kokotekstiin', 'aiheet', 'kid', 'tiedostonimi'], dtype='object')\n",
            "{'id': '1y6RoNQ7zwO3_8sLlTct-lLzMNNTFJheyCaGmmU9BrxU', 'name': 'Copy of Kuvailut K07', 'path': '/'}\n",
            "{'id': '1y6RoNQ7zwO3_8sLlTct-lLzMNNTFJheyCaGmmU9BrxU', 'name': 'Copy of Kuvailut K07', 'path': '/'}\n",
            "Index(['id', 'nimeke', 'url kokotekstiin', 'aiheet', 'kid', 'tiedostonimi'], dtype='object')\n",
            "{'id': '1nclN-7xLIonDXWHXSnJ6Y1VkSq_WXjGlDxNCSxiaLkU', 'name': 'Copy of Kuvailut K24', 'path': '/'}\n",
            "{'id': '1nclN-7xLIonDXWHXSnJ6Y1VkSq_WXjGlDxNCSxiaLkU', 'name': 'Copy of Kuvailut K24', 'path': '/'}\n",
            "Index(['id', 'nimeke', 'url kokotekstiin', 'aiheet', 'kid', 'tiedostonimi'], dtype='object')\n",
            "{'id': '1vL495FEIiaf4aDopxMgUM2lO_8r-braGglrcn0J-CLE', 'name': 'Copy of Kuvailut K15', 'path': '/'}\n",
            "{'id': '1vL495FEIiaf4aDopxMgUM2lO_8r-braGglrcn0J-CLE', 'name': 'Copy of Kuvailut K15', 'path': '/'}\n",
            "Index(['id', 'nimeke', 'url kokotekstiin', 'aiheet', 'kid', 'tiedostonimi'], dtype='object')\n",
            "{'id': '17hLlaBYs1wMdpA_UbppjcFULQYkuyxhIl1ftb745b74', 'name': 'Copy of Kuvailut K30', 'path': '/'}\n",
            "{'id': '17hLlaBYs1wMdpA_UbppjcFULQYkuyxhIl1ftb745b74', 'name': 'Copy of Kuvailut K30', 'path': '/'}\n",
            "Index(['id', 'nimeke', 'url kokotekstiin', 'aiheet', 'kid', 'tiedostonimi'], dtype='object')\n",
            "{'id': '14L4F9aVTp9TvcI-zoXbX--CScvzq5Ng69GcBuOrDzQQ', 'name': 'Copy of Kuvailut K27', 'path': '/'}\n",
            "{'id': '14L4F9aVTp9TvcI-zoXbX--CScvzq5Ng69GcBuOrDzQQ', 'name': 'Copy of Kuvailut K27', 'path': '/'}\n",
            "Index(['id', 'nimeke', 'url kokotekstiin', 'aiheet', 'kid', 'tiedostonimi'], dtype='object')\n"
          ],
          "name": "stdout"
        }
      ]
    },
    {
      "cell_type": "code",
      "metadata": {
        "id": "dfkI8kYlBWff",
        "colab_type": "code",
        "outputId": "4874903f-0440-4961-ae73-0efc3cde1ab2",
        "colab": {
          "base_uri": "https://localhost:8080/",
          "height": 90
        }
      },
      "source": [
        "print(df_sheet.columns)\n",
        "print(df_kuvailut2.columns)"
      ],
      "execution_count": 0,
      "outputs": [
        {
          "output_type": "stream",
          "text": [
            "Index(['id', 'nimeke', 'url kokotekstiin', 'aiheet', 'kid', 'tiedostonimi'], dtype='object')\n",
            "Index(['id', 'nimeke', 'url kokotekstiin', 'aiheet', '', '', '', '', 'kid',\n",
            "       'tiedostonimi'],\n",
            "      dtype='object')\n"
          ],
          "name": "stdout"
        }
      ]
    },
    {
      "cell_type": "code",
      "metadata": {
        "id": "inElSu2NNxpm",
        "colab_type": "code",
        "outputId": "ac07b104-a044-4898-d1a8-f9551510abe6",
        "colab": {
          "base_uri": "https://localhost:8080/",
          "height": 164
        }
      },
      "source": [
        "df_kuvailut = pd.concat([df_kuvailut1, df_kuvailut2])\n",
        "cols_to_keep = ['id', 'nimeke', 'url kokotekstiin', 'aiheet', 'kid', 'tiedostonimi']\n",
        "df_kuvailut = df_kuvailut[cols_to_keep]\n",
        "df_kuvailut.rename(columns={'id': 'did'}, inplace=True)\n",
        "df_kuvailut[['did', 'nimeke', 'url kokotekstiin']] = df_kuvailut[['did', 'nimeke', 'url kokotekstiin']].mask(df_kuvailut[['did', 'nimeke', 'url kokotekstiin']]=='', None).ffill()\n"
      ],
      "execution_count": 0,
      "outputs": [
        {
          "output_type": "stream",
          "text": [
            "/usr/local/lib/python3.6/dist-packages/ipykernel_launcher.py:1: FutureWarning: Sorting because non-concatenation axis is not aligned. A future version\n",
            "of pandas will change to not sort by default.\n",
            "\n",
            "To accept the future behavior, pass 'sort=False'.\n",
            "\n",
            "To retain the current behavior and silence the warning, pass 'sort=True'.\n",
            "\n",
            "  \"\"\"Entry point for launching an IPython kernel.\n"
          ],
          "name": "stderr"
        }
      ]
    },
    {
      "cell_type": "code",
      "metadata": {
        "id": "2issbMKK2wZF",
        "colab_type": "code",
        "outputId": "c1aa4d1e-e53e-4966-d345-ef88bbf7c4e9",
        "colab": {
          "base_uri": "https://localhost:8080/",
          "height": 81
        }
      },
      "source": [
        "ihminen = ['kuvailut_tieto Mona', 'jyx_kuvailut Mona', 'Copy of Kuvailut K']\n",
        "annif_avusteiset = ['kuvailut_tieto Osma', 'kuvailut_tieto Juho', 'jyx_kuvailut_orig']\n",
        "#annif = ['']\n",
        "fennica = ['kuvailut_tieto Fennica', 'Copy of Kuvailut Fennica']\n",
        "\n",
        "df_kuvailut['tyyppi'] = df_kuvailut['tiedostonimi'].apply(lambda x: 'annif_avusteinen' if x in annif_avusteiset\n",
        "                                                                  else ('fennica' if x in fennica else 'ihminen'\n",
        "                                                                  ))\n",
        "df_kuvailut[(df_kuvailut.tyyppi == 'fennica') & (df_kuvailut.did == 'D03')]"
      ],
      "execution_count": 0,
      "outputs": [
        {
          "output_type": "execute_result",
          "data": {
            "text/html": [
              "<div>\n",
              "<style scoped>\n",
              "    .dataframe tbody tr th:only-of-type {\n",
              "        vertical-align: middle;\n",
              "    }\n",
              "\n",
              "    .dataframe tbody tr th {\n",
              "        vertical-align: top;\n",
              "    }\n",
              "\n",
              "    .dataframe thead th {\n",
              "        text-align: right;\n",
              "    }\n",
              "</style>\n",
              "<table border=\"1\" class=\"dataframe\">\n",
              "  <thead>\n",
              "    <tr style=\"text-align: right;\">\n",
              "      <th></th>\n",
              "      <th>did</th>\n",
              "      <th>nimeke</th>\n",
              "      <th>url kokotekstiin</th>\n",
              "      <th>aiheet</th>\n",
              "      <th>kid</th>\n",
              "      <th>tiedostonimi</th>\n",
              "      <th>tyyppi</th>\n",
              "    </tr>\n",
              "  </thead>\n",
              "  <tbody>\n",
              "    <tr>\n",
              "      <th>30</th>\n",
              "      <td>D03</td>\n",
              "      <td>Henkilöstökertomus 2016 (Liikennevirasto)</td>\n",
              "      <td>https://www.doria.fi/bitstream/handle/10024/12...</td>\n",
              "      <td></td>\n",
              "      <td>14</td>\n",
              "      <td>Copy of Kuvailut Fennica</td>\n",
              "      <td>fennica</td>\n",
              "    </tr>\n",
              "  </tbody>\n",
              "</table>\n",
              "</div>"
            ],
            "text/plain": [
              "    did  ...   tyyppi\n",
              "30  D03  ...  fennica\n",
              "\n",
              "[1 rows x 7 columns]"
            ]
          },
          "metadata": {
            "tags": []
          },
          "execution_count": 62
        }
      ]
    },
    {
      "cell_type": "code",
      "metadata": {
        "id": "YBel1GcasVqG",
        "colab_type": "code",
        "outputId": "f76d3db6-95c8-46da-ff90-defc3c66d76c",
        "colab": {
          "base_uri": "https://localhost:8080/",
          "height": 495
        }
      },
      "source": [
        "df_kuvailut.tiedostonimi.unique()\n"
      ],
      "execution_count": 71,
      "outputs": [
        {
          "output_type": "execute_result",
          "data": {
            "text/plain": [
              "array(['kuvailut_tieto Osma', 'kuvailut_tieto Mona',\n",
              "       'kuvailut_tieto Fennica', 'kuvailut_tieto Juho',\n",
              "       'Copy of Kuvailut K16', 'Copy of Kuvailut K31',\n",
              "       'jyx_kuvailut Osma', 'jyx_kuvailut Juho', 'jyx_kuvailut Mona',\n",
              "       'jyx_kuvailut_orig', 'SKT4 VL Copy of Kuvailut ',\n",
              "       'SKT3 JM Kuvailut Copy of ', ' SKT1 KL Copy of Kuvailut',\n",
              "       'SKT2 PM Copy of Kuvailut ', 'Copy of Kuvailut Fennica',\n",
              "       'Copy of Kuvailut K02', 'Copy of Kuvailut K17',\n",
              "       'Copy of Kuvailut K05', 'Copy of Kuvailut K14',\n",
              "       'Copy of Kuvailut K11', 'Copy of Kuvailut K08',\n",
              "       'Copy of Kuvailut K32', 'Copy of Kuvailut K23',\n",
              "       'Copy of Kuvailut K29', 'Copy of Kuvailut K20',\n",
              "       'Copy of Kuvailut K26', 'Copy of Kuvailut K19',\n",
              "       'Copy of Kuvailut K10', 'Copy of Kuvailut K38',\n",
              "       'Copy of Kuvailut K13', 'Copy of Kuvailut K35',\n",
              "       'Copy of Kuvailut K40', 'Copy of Kuvailut K28',\n",
              "       'Copy of Kuvailut K25', 'Copy of Kuvailut K37',\n",
              "       'Copy of Kuvailut K22', 'Copy of Kuvailut K18',\n",
              "       'Copy of Kuvailut K06', 'Copy of Kuvailut K12',\n",
              "       'Copy of Kuvailut K03', 'Copy of Kuvailut K09',\n",
              "       'Copy of Kuvailut K33', 'Copy of Kuvailut K39',\n",
              "       'Copy of Kuvailut K21', 'Copy of Kuvailut K36',\n",
              "       'Copy of Kuvailut K04', 'Copy of Kuvailut K01',\n",
              "       'Copy of Kuvailut K34', 'Copy of Kuvailut K07',\n",
              "       'Copy of Kuvailut K24', 'Copy of Kuvailut K15',\n",
              "       'Copy of Kuvailut K30', 'Copy of Kuvailut K27'], dtype=object)"
            ]
          },
          "metadata": {
            "tags": []
          },
          "execution_count": 71
        }
      ]
    },
    {
      "cell_type": "code",
      "metadata": {
        "id": "IqiKJVk-oEYy",
        "colab_type": "code",
        "colab": {}
      },
      "source": [
        "spread = Spread('test_arviointi10', create_spread=True)\n",
        "spread.move('Test folder')\n",
        "min_num_aiheet = 2\n",
        "max_num_ihmiskuvailut = 3\n",
        "sisällytä_tyypit = ['fennica', 'annif_avusteinen']\n",
        "\n",
        "cnt = 0\n",
        "for did, df_dokumentti in df_kuvailut.groupby('did'):\n",
        "    spread.open_sheet(did, create=True)\n",
        "    df_pohja = pd.DataFrame() #{'did': did})\n",
        "    print(did)\n",
        "    kuvailut = [df_dokumentti_kuvailu \n",
        "                for _, df_dokumentti_kuvailu \n",
        "                in df_dokumentti.groupby('kid')\n",
        "                if df_dokumentti_kuvailu.tyyppi.iloc[0] in sisällytä_tyypit\n",
        "                ]\n",
        "    ihmiskuvailut = [df_dokumentti_kuvailu \n",
        "                for _, df_dokumentti_kuvailu \n",
        "                in df_dokumentti.groupby('kid')\n",
        "                if df_dokumentti_kuvailu.tyyppi.iloc[0] == 'ihminen'\n",
        "                ]\n",
        "    random.shuffle(ihmiskuvailut)\n",
        "    ihmiskuvailut = ihmiskuvailut[:max_num_ihmiskuvailut]\n",
        "    print(ihmiskuvailut)\n",
        "    kuvailut.extend(ihmiskuvailut)\n",
        "    random.shuffle(kuvailut)\n",
        "    \n",
        "    #df_otsake = pd.DataFrame(kuvailut[0].iloc[:2])\n",
        "    #spread.df_to_sheet(df_otsake, index=False)\n",
        "    df_alaosa = pd.DataFrame({''})\n",
        "    for df_dokumentti_kuvailu in kuvailut:\n",
        "        #print(df_dokumentti_kuvailu)\n",
        "        if len(df_dokumentti_kuvailu) < min_num_aiheet:\n",
        "            continue\n",
        "        \n",
        "        df_dokumentti_kuvailu = df_dokumentti_kuvailu[[]].append({''})\n",
        "        df_pohja = df_pohja.append(df_dokumentti_kuvailu)\n",
        "        #print()\n",
        "    #print(df_pohja)\n",
        "    spread.df_to_sheet(df_pohja, index=False)\n",
        "    \n",
        "    cnt += 1\n",
        "    if cnt > 10: break"
      ],
      "execution_count": 0,
      "outputs": []
    },
    {
      "cell_type": "code",
      "metadata": {
        "id": "Sm9eYcMtl6rx",
        "colab_type": "code",
        "colab": {
          "base_uri": "https://localhost:8080/",
          "height": 269
        },
        "outputId": "59c4dbf3-b90a-4442-d115-29620d40ec38"
      },
      "source": [
        "df_alaosa0 = pd.DataFrame({'did': [''], 'nimeke': [''], 'url kokotekstiin': [''], 'aiheet': [''], 'kid': ['']})\n",
        "df_alaosa1 = pd.DataFrame({'did': [''], 'nimeke': [''], 'url kokotekstiin': [''], 'aiheet': ['arvosana'], 'kid': ['']})\n",
        "df_alaosa2 = pd.DataFrame({'did': ['']*4, 'nimeke': ['']*4, 'url kokotekstiin': ['Kuvailu on kattava', 'Käytetyt asiasanat ovat sisällön kannalta merkityksellisiä', 'Kuvailu on laadukas', 'Vapaa kenttä'], 'aiheet': ['']*4, 'kid': ['']*4})\n",
        "\n",
        "df_dokumentti_kuvailu[['did', 'nimeke', 'url kokotekstiin', 'aiheet', 'kid']].append(df_alaosa0, sort=False).append(df_alaosa1, sort=False).append(df_alaosa2, sort=False)"
      ],
      "execution_count": 92,
      "outputs": [
        {
          "output_type": "execute_result",
          "data": {
            "text/html": [
              "<div>\n",
              "<style scoped>\n",
              "    .dataframe tbody tr th:only-of-type {\n",
              "        vertical-align: middle;\n",
              "    }\n",
              "\n",
              "    .dataframe tbody tr th {\n",
              "        vertical-align: top;\n",
              "    }\n",
              "\n",
              "    .dataframe thead th {\n",
              "        text-align: right;\n",
              "    }\n",
              "</style>\n",
              "<table border=\"1\" class=\"dataframe\">\n",
              "  <thead>\n",
              "    <tr style=\"text-align: right;\">\n",
              "      <th></th>\n",
              "      <th>did</th>\n",
              "      <th>nimeke</th>\n",
              "      <th>url kokotekstiin</th>\n",
              "      <th>aiheet</th>\n",
              "      <th>kid</th>\n",
              "    </tr>\n",
              "  </thead>\n",
              "  <tbody>\n",
              "    <tr>\n",
              "      <th>91</th>\n",
              "      <td>D09</td>\n",
              "      <td>Karl Ervast: Raamatun historia kansakouluille</td>\n",
              "      <td>http://urn.fi/URN:NBN:fi-fd2016-00010356</td>\n",
              "      <td>raamatunkertomukset</td>\n",
              "      <td>14</td>\n",
              "    </tr>\n",
              "    <tr>\n",
              "      <th>0</th>\n",
              "      <td></td>\n",
              "      <td></td>\n",
              "      <td></td>\n",
              "      <td></td>\n",
              "      <td></td>\n",
              "    </tr>\n",
              "    <tr>\n",
              "      <th>0</th>\n",
              "      <td></td>\n",
              "      <td></td>\n",
              "      <td></td>\n",
              "      <td>arvosana</td>\n",
              "      <td></td>\n",
              "    </tr>\n",
              "    <tr>\n",
              "      <th>0</th>\n",
              "      <td></td>\n",
              "      <td></td>\n",
              "      <td>Kuvailu on kattava</td>\n",
              "      <td></td>\n",
              "      <td></td>\n",
              "    </tr>\n",
              "    <tr>\n",
              "      <th>1</th>\n",
              "      <td></td>\n",
              "      <td></td>\n",
              "      <td>Käytetyt asiasanat ovat sisällön kannalta merk...</td>\n",
              "      <td></td>\n",
              "      <td></td>\n",
              "    </tr>\n",
              "    <tr>\n",
              "      <th>2</th>\n",
              "      <td></td>\n",
              "      <td></td>\n",
              "      <td>Kuvailu on laadukas</td>\n",
              "      <td></td>\n",
              "      <td></td>\n",
              "    </tr>\n",
              "    <tr>\n",
              "      <th>3</th>\n",
              "      <td></td>\n",
              "      <td></td>\n",
              "      <td>Vapaa kenttä</td>\n",
              "      <td></td>\n",
              "      <td></td>\n",
              "    </tr>\n",
              "  </tbody>\n",
              "</table>\n",
              "</div>"
            ],
            "text/plain": [
              "    did                                         nimeke  ...               aiheet kid\n",
              "91  D09  Karl Ervast: Raamatun historia kansakouluille  ...  raamatunkertomukset  14\n",
              "0                                                       ...                         \n",
              "0                                                       ...             arvosana    \n",
              "0                                                       ...                         \n",
              "1                                                       ...                         \n",
              "2                                                       ...                         \n",
              "3                                                       ...                         \n",
              "\n",
              "[7 rows x 5 columns]"
            ]
          },
          "metadata": {
            "tags": []
          },
          "execution_count": 92
        }
      ]
    },
    {
      "cell_type": "code",
      "metadata": {
        "id": "Sv1C7j5YKZyu",
        "colab_type": "code",
        "outputId": "b178d4ec-08bf-4106-cff4-c656a22c5776",
        "colab": {
          "base_uri": "https://localhost:8080/",
          "height": 1000
        }
      },
      "source": [
        "kuvailut"
      ],
      "execution_count": 0,
      "outputs": [
        {
          "output_type": "execute_result",
          "data": {
            "text/plain": [
              "[    did  ...          tiedostonimi\n",
              " 20  D10  ...  Copy of Kuvailut K09\n",
              " 21  D10  ...  Copy of Kuvailut K09\n",
              " 22  D10  ...  Copy of Kuvailut K09\n",
              " 23  D10  ...  Copy of Kuvailut K09\n",
              " 24  D10  ...  Copy of Kuvailut K09\n",
              " \n",
              " [5 rows x 6 columns],     did  ...          tiedostonimi\n",
              " 30  D10  ...  Copy of Kuvailut K06\n",
              " 31  D10  ...  Copy of Kuvailut K06\n",
              " 32  D10  ...  Copy of Kuvailut K06\n",
              " 33  D10  ...  Copy of Kuvailut K06\n",
              " 34  D10  ...  Copy of Kuvailut K06\n",
              " 35  D10  ...  Copy of Kuvailut K06\n",
              " 36  D10  ...  Copy of Kuvailut K06\n",
              " \n",
              " [7 rows x 6 columns],     did  ...          tiedostonimi\n",
              " 90  D10  ...  Copy of Kuvailut K28\n",
              " 91  D10  ...  Copy of Kuvailut K28\n",
              " 92  D10  ...  Copy of Kuvailut K28\n",
              " 93  D10  ...  Copy of Kuvailut K28\n",
              " \n",
              " [4 rows x 6 columns],     did  ...          tiedostonimi\n",
              " 50  D10  ...  Copy of Kuvailut K17\n",
              " 51  D10  ...  Copy of Kuvailut K17\n",
              " 52  D10  ...  Copy of Kuvailut K17\n",
              " 53  D10  ...  Copy of Kuvailut K17\n",
              " 54  D10  ...  Copy of Kuvailut K17\n",
              " 55  D10  ...  Copy of Kuvailut K17\n",
              " 56  D10  ...  Copy of Kuvailut K17\n",
              " 57  D10  ...  Copy of Kuvailut K17\n",
              " 58  D10  ...  Copy of Kuvailut K17\n",
              " 59  D10  ...  Copy of Kuvailut K17\n",
              " \n",
              " [10 rows x 6 columns],     did  ...          tiedostonimi\n",
              " 70  D10  ...  Copy of Kuvailut K11\n",
              " 71  D10  ...  Copy of Kuvailut K11\n",
              " 72  D10  ...  Copy of Kuvailut K11\n",
              " 73  D10  ...  Copy of Kuvailut K11\n",
              " 74  D10  ...  Copy of Kuvailut K11\n",
              " 75  D10  ...  Copy of Kuvailut K11\n",
              " 76  D10  ...  Copy of Kuvailut K11\n",
              " \n",
              " [7 rows x 6 columns],     did  ...          tiedostonimi\n",
              " 10  D10  ...  Copy of Kuvailut K29\n",
              " 11  D10  ...  Copy of Kuvailut K29\n",
              " 12  D10  ...  Copy of Kuvailut K29\n",
              " 13  D10  ...  Copy of Kuvailut K29\n",
              " 14  D10  ...  Copy of Kuvailut K29\n",
              " 15  D10  ...  Copy of Kuvailut K29\n",
              " 16  D10  ...  Copy of Kuvailut K29\n",
              " 17  D10  ...  Copy of Kuvailut K29\n",
              " 18  D10  ...  Copy of Kuvailut K29\n",
              " \n",
              " [9 rows x 6 columns],     did  ...          tiedostonimi\n",
              " 10  D10  ...  Copy of Kuvailut K12\n",
              " 11  D10  ...  Copy of Kuvailut K12\n",
              " 12  D10  ...  Copy of Kuvailut K12\n",
              " 13  D10  ...  Copy of Kuvailut K12\n",
              " 14  D10  ...  Copy of Kuvailut K12\n",
              " 15  D10  ...  Copy of Kuvailut K12\n",
              " \n",
              " [6 rows x 6 columns],      did  ...              tiedostonimi\n",
              " 101  D10  ...  Copy of Kuvailut Fennica\n",
              " 102  D10  ...  Copy of Kuvailut Fennica\n",
              " 103  D10  ...  Copy of Kuvailut Fennica\n",
              " 104  D10  ...  Copy of Kuvailut Fennica\n",
              " 105  D10  ...  Copy of Kuvailut Fennica\n",
              " 106  D10  ...  Copy of Kuvailut Fennica\n",
              " 107  D10  ...  Copy of Kuvailut Fennica\n",
              " 108  D10  ...  Copy of Kuvailut Fennica\n",
              " 109  D10  ...  Copy of Kuvailut Fennica\n",
              " 110  D10  ...  Copy of Kuvailut Fennica\n",
              " 111  D10  ...  Copy of Kuvailut Fennica\n",
              " 112  D10  ...  Copy of Kuvailut Fennica\n",
              " 113  D10  ...  Copy of Kuvailut Fennica\n",
              " 114  D10  ...  Copy of Kuvailut Fennica\n",
              " 115  D10  ...  Copy of Kuvailut Fennica\n",
              " 116  D10  ...  Copy of Kuvailut Fennica\n",
              " 117  D10  ...  Copy of Kuvailut Fennica\n",
              " 118  D10  ...  Copy of Kuvailut Fennica\n",
              " 119  D10  ...  Copy of Kuvailut Fennica\n",
              " 120  D10  ...  Copy of Kuvailut Fennica\n",
              " 121  D10  ...  Copy of Kuvailut Fennica\n",
              " 122  D10  ...  Copy of Kuvailut Fennica\n",
              " 123  D10  ...  Copy of Kuvailut Fennica\n",
              " 124  D10  ...  Copy of Kuvailut Fennica\n",
              " 125  D10  ...  Copy of Kuvailut Fennica\n",
              " 126  D10  ...  Copy of Kuvailut Fennica\n",
              " \n",
              " [26 rows x 6 columns],     did  ...          tiedostonimi\n",
              " 41  D10  ...  Copy of Kuvailut K03\n",
              " 42  D10  ...  Copy of Kuvailut K03\n",
              " 43  D10  ...  Copy of Kuvailut K03\n",
              " 44  D10  ...  Copy of Kuvailut K03\n",
              " 45  D10  ...  Copy of Kuvailut K03\n",
              " \n",
              " [5 rows x 6 columns],     did  ...          tiedostonimi\n",
              " 30  D10  ...  Copy of Kuvailut K23\n",
              " 31  D10  ...  Copy of Kuvailut K23\n",
              " 32  D10  ...  Copy of Kuvailut K23\n",
              " 33  D10  ...  Copy of Kuvailut K23\n",
              " 34  D10  ...  Copy of Kuvailut K23\n",
              " 35  D10  ...  Copy of Kuvailut K23\n",
              " 36  D10  ...  Copy of Kuvailut K23\n",
              " 37  D10  ...  Copy of Kuvailut K23\n",
              " 38  D10  ...  Copy of Kuvailut K23\n",
              " \n",
              " [9 rows x 6 columns],     did  ...          tiedostonimi\n",
              " 50  D10  ...  Copy of Kuvailut K40\n",
              " 51  D10  ...  Copy of Kuvailut K40\n",
              " 52  D10  ...  Copy of Kuvailut K40\n",
              " 53  D10  ...  Copy of Kuvailut K40\n",
              " 54  D10  ...  Copy of Kuvailut K40\n",
              " \n",
              " [5 rows x 6 columns],     did  ...          tiedostonimi\n",
              " 60  D10  ...  Copy of Kuvailut K14\n",
              " 61  D10  ...  Copy of Kuvailut K14\n",
              " 62  D10  ...  Copy of Kuvailut K14\n",
              " 63  D10  ...  Copy of Kuvailut K14\n",
              " 64  D10  ...  Copy of Kuvailut K14\n",
              " 65  D10  ...  Copy of Kuvailut K14\n",
              " 66  D10  ...  Copy of Kuvailut K14\n",
              " 67  D10  ...  Copy of Kuvailut K14\n",
              " 68  D10  ...  Copy of Kuvailut K14\n",
              " 69  D10  ...  Copy of Kuvailut K14\n",
              " \n",
              " [10 rows x 6 columns]]"
            ]
          },
          "metadata": {
            "tags": []
          },
          "execution_count": 23
        }
      ]
    },
    {
      "cell_type": "code",
      "metadata": {
        "id": "MoTck8jDdt4R",
        "colab_type": "code",
        "colab": {}
      },
      "source": [
        "df_pohja = pd.DataFrame({'col1': [1,2,4], 'col2': [100,200,400] })\n",
        "spread = Spread('test_arviointi2', create_spread=True)\n",
        "spread.open_sheet('test sheet', create=True)\n",
        "spread.df_to_sheet(df_pohja, index=False)"
      ],
      "execution_count": 0,
      "outputs": []
    },
    {
      "cell_type": "code",
      "metadata": {
        "id": "tnv3_ms6aat9",
        "colab_type": "code",
        "outputId": "733fb715-a4a4-43f3-85f9-cf1acb844206",
        "colab": {
          "base_uri": "https://localhost:8080/",
          "height": 81
        }
      },
      "source": [
        "df_dokumentti_kuvailu\n"
      ],
      "execution_count": 0,
      "outputs": [
        {
          "output_type": "execute_result",
          "data": {
            "text/html": [
              "<div>\n",
              "<style scoped>\n",
              "    .dataframe tbody tr th:only-of-type {\n",
              "        vertical-align: middle;\n",
              "    }\n",
              "\n",
              "    .dataframe tbody tr th {\n",
              "        vertical-align: top;\n",
              "    }\n",
              "\n",
              "    .dataframe thead th {\n",
              "        text-align: right;\n",
              "    }\n",
              "</style>\n",
              "<table border=\"1\" class=\"dataframe\">\n",
              "  <thead>\n",
              "    <tr style=\"text-align: right;\">\n",
              "      <th></th>\n",
              "      <th>did</th>\n",
              "      <th>nimeke</th>\n",
              "      <th>url kokotekstiin</th>\n",
              "      <th>aiheet</th>\n",
              "      <th>kid</th>\n",
              "    </tr>\n",
              "  </thead>\n",
              "  <tbody>\n",
              "    <tr>\n",
              "      <th>140</th>\n",
              "      <td>D04</td>\n",
              "      <td>Arja Heinonen: Hotellien aamiaispöydissä tarjo...</td>\n",
              "      <td>http://www.hel.fi/static/ymk/julkaisut/julkais...</td>\n",
              "      <td>pedagogiikka</td>\n",
              "      <td>20</td>\n",
              "    </tr>\n",
              "  </tbody>\n",
              "</table>\n",
              "</div>"
            ],
            "text/plain": [
              "     did                                             nimeke  ...        aiheet kid\n",
              "140  D04  Arja Heinonen: Hotellien aamiaispöydissä tarjo...  ...  pedagogiikka  20\n",
              "\n",
              "[1 rows x 5 columns]"
            ]
          },
          "metadata": {
            "tags": []
          },
          "execution_count": 68
        }
      ]
    },
    {
      "cell_type": "code",
      "metadata": {
        "id": "YyaZuuf3oHHy",
        "colab_type": "code",
        "outputId": "b4f69f61-65c1-449b-deb8-01d4314871bf",
        "colab": {
          "base_uri": "https://localhost:8080/",
          "height": 658
        }
      },
      "source": [
        "[df_dokumentti_kuvailu.tiedostonimi.iloc[0]\n",
        "                for kid, df_dokumentti_kuvailu \n",
        "                in df_dokumentti.groupby('kid')]"
      ],
      "execution_count": 0,
      "outputs": [
        {
          "output_type": "execute_result",
          "data": {
            "text/plain": [
              "['Copy of Kuvailut K31',\n",
              " 'Copy of Kuvailut Fennica',\n",
              " 'Copy of Kuvailut K02',\n",
              " 'Copy of Kuvailut K17',\n",
              " 'Copy of Kuvailut K05',\n",
              " 'Copy of Kuvailut K14',\n",
              " 'Copy of Kuvailut K11',\n",
              " 'Copy of Kuvailut K08',\n",
              " 'Copy of Kuvailut K32',\n",
              " 'Copy of Kuvailut K23',\n",
              " 'Copy of Kuvailut K29',\n",
              " 'Copy of Kuvailut K20',\n",
              " 'Copy of Kuvailut K26',\n",
              " 'Copy of Kuvailut K19',\n",
              " 'Copy of Kuvailut K10',\n",
              " 'Copy of Kuvailut K38',\n",
              " 'Copy of Kuvailut K13',\n",
              " 'Copy of Kuvailut K35',\n",
              " 'Copy of Kuvailut K40',\n",
              " 'Copy of Kuvailut K28',\n",
              " 'Copy of Kuvailut K25',\n",
              " 'Copy of Kuvailut K37',\n",
              " 'Copy of Kuvailut K22',\n",
              " 'Copy of Kuvailut K18',\n",
              " 'Copy of Kuvailut K06',\n",
              " 'Copy of Kuvailut K12',\n",
              " 'Copy of Kuvailut K03',\n",
              " 'Copy of Kuvailut K09',\n",
              " 'Copy of Kuvailut K33',\n",
              " 'Copy of Kuvailut K39',\n",
              " 'Copy of Kuvailut K21',\n",
              " 'Copy of Kuvailut K36',\n",
              " 'Copy of Kuvailut K04',\n",
              " 'Copy of Kuvailut K01',\n",
              " 'Copy of Kuvailut K34']"
            ]
          },
          "metadata": {
            "tags": []
          },
          "execution_count": 19
        }
      ]
    },
    {
      "cell_type": "code",
      "metadata": {
        "id": "xZwcpLV3pNq5",
        "colab_type": "code",
        "outputId": "73d89934-56fe-4713-f480-96655671f5a4",
        "colab": {
          "base_uri": "https://localhost:8080/",
          "height": 35
        }
      },
      "source": [
        "len(kuvailut)"
      ],
      "execution_count": 0,
      "outputs": [
        {
          "output_type": "execute_result",
          "data": {
            "text/plain": [
              "12"
            ]
          },
          "metadata": {
            "tags": []
          },
          "execution_count": 20
        }
      ]
    },
    {
      "cell_type": "code",
      "metadata": {
        "id": "q1vqcONR5Sgy",
        "colab_type": "code",
        "colab": {}
      },
      "source": [
        "# create a blank spreadsheet with a specified title.\n",
        "\n",
        "spreadsheet = {\n",
        "    'properties': {\n",
        "        'title': title\n",
        "    }\n",
        "}\n",
        "spreadsheet = service.spreadsheets().create(body=spreadsheet,\n",
        "                                    fields='spreadsheetId').execute()\n",
        "print('Spreadsheet ID: {0}'.format(spreadsheet.get('spreadsheetId')))\n",
        "\n",
        "\n",
        "#To write to a sheet, you will need the spreadsheet ID, the range(s) in A1 notation,\n",
        "#and the data you wish to write arranged in an appropriate request body object.\n",
        "values = [\n",
        "    [\n",
        "        # Cell values ...\n",
        "    ],\n",
        "    # Additional rows\n",
        "]\n",
        "data = [\n",
        "    {\n",
        "        'range': range_name,\n",
        "        'values': values\n",
        "    },\n",
        "    # Additional ranges to update ...\n",
        "]\n",
        "body = {\n",
        "    'valueInputOption': value_input_option,\n",
        "    'data': data\n",
        "}\n",
        "result = service.spreadsheets().values().batchUpdate(\n",
        "    spreadsheetId=spreadsheet_id, body=body).execute()\n",
        "print('{0} cells updated.'.format(result.get('totalUpdatedCells')))\n",
        "\n",
        "\n",
        "#copy sheets\n",
        "from googleapiclient import discovery\n",
        "\n",
        "# TODO: Change placeholder below to generate authentication credentials. See\n",
        "# https://developers.google.com/sheets/quickstart/python#step_3_set_up_the_sample\n",
        "#\n",
        "# Authorize using one of the following scopes:\n",
        "#     'https://www.googleapis.com/auth/drive'\n",
        "#     'https://www.googleapis.com/auth/drive.file'\n",
        "#     'https://www.googleapis.com/auth/spreadsheets'\n",
        "credentials = None\n",
        "\n",
        "service = discovery.build('sheets', 'v4', credentials=credentials)\n",
        "\n",
        "# The ID of the spreadsheet containing the sheet to copy.\n",
        "spreadsheet_id = 'my-spreadsheet-id'  # TODO: Update placeholder value.\n",
        "\n",
        "# The ID of the sheet to copy.\n",
        "sheet_id = 0  # TODO: Update placeholder value.\n",
        "\n",
        "copy_sheet_to_another_spreadsheet_request_body = {\n",
        "    # The ID of the spreadsheet to copy the sheet to.\n",
        "    'destination_spreadsheet_id': '',  # TODO: Update placeholder value.\n",
        "\n",
        "    # TODO: Add desired entries to the request body.\n",
        "}\n",
        "\n",
        "request = service.spreadsheets().sheets().copyTo(spreadsheetId=spreadsheet_id, sheetId=sheet_id, body=copy_sheet_to_another_spreadsheet_request_body)\n",
        "response = request.execute()\n",
        "\n",
        "# TODO: Change code below to process the `response` dict:\n"
      ],
      "execution_count": 0,
      "outputs": []
    },
    {
      "cell_type": "code",
      "metadata": {
        "id": "A0jIMcWmrZnD",
        "colab_type": "code",
        "colab": {}
      },
      "source": [
        "#using gspread\n",
        "scope = [\n",
        "    'https://spreadsheets.google.com/feeds',\n",
        "    'https://www.googleapis.com/auth/drive'\n",
        "]\n",
        "\n",
        "# making spreadsheets\n",
        "create(title)\n",
        "\n",
        "t == \"\"\n",
        "for i in range(50):\n",
        "  t == t+str(i)\n",
        "  create()\n",
        "\n"
      ],
      "execution_count": 0,
      "outputs": []
    },
    {
      "cell_type": "code",
      "metadata": {
        "id": "71AeQrxorZHJ",
        "colab_type": "code",
        "colab": {}
      },
      "source": [
        ""
      ],
      "execution_count": 0,
      "outputs": []
    }
  ]
}