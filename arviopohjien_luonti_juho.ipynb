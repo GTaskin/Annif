{
  "nbformat": 4,
  "nbformat_minor": 0,
  "metadata": {
    "colab": {
      "name": "arviopohjien_luonti_juho.ipynb",
      "provenance": [],
      "collapsed_sections": [],
      "include_colab_link": true
    },
    "kernelspec": {
      "name": "python3",
      "display_name": "Python 3"
    }
  },
  "cells": [
    {
      "cell_type": "markdown",
      "metadata": {
        "id": "view-in-github",
        "colab_type": "text"
      },
      "source": [
        "<a href=\"https://colab.research.google.com/github/NatLibFi/Annif/blob/kvp2019-workshop/arviopohjien_luonti_juho.ipynb\" target=\"_parent\"><img src=\"https://colab.research.google.com/assets/colab-badge.svg\" alt=\"Open In Colab\"/></a>"
      ]
    },
    {
      "cell_type": "code",
      "metadata": {
        "id": "uzbbqCiOwOW2",
        "colab_type": "code",
        "outputId": "b45d3e0d-c406-42de-97b1-2ef009e41fad",
        "colab": {
          "base_uri": "https://localhost:8080/",
          "height": 495
        }
      },
      "source": [
        "! pip install gspread-pandas gspread-formatting"
      ],
      "execution_count": 0,
      "outputs": [
        {
          "output_type": "stream",
          "text": [
            "Requirement already satisfied: gspread-pandas in /usr/local/lib/python3.6/dist-packages (2.1.3)\n",
            "Collecting gspread-formatting\n",
            "  Downloading https://files.pythonhosted.org/packages/a0/c0/eeda413d0ca4355227705d59126075abd127aec2b5e85b16e0b03f56616f/gspread_formatting-0.0.7-py2.py3-none-any.whl\n",
            "Requirement already satisfied: gspread>=3.0.0 in /usr/local/lib/python3.6/dist-packages (from gspread-pandas) (3.0.1)\n",
            "Requirement already satisfied: future in /usr/local/lib/python3.6/dist-packages (from gspread-pandas) (0.16.0)\n",
            "Requirement already satisfied: google-auth in /usr/local/lib/python3.6/dist-packages (from gspread-pandas) (1.4.2)\n",
            "Requirement already satisfied: pandas>=0.20.0 in /usr/local/lib/python3.6/dist-packages (from gspread-pandas) (0.24.2)\n",
            "Requirement already satisfied: google-auth-oauthlib in /usr/local/lib/python3.6/dist-packages (from gspread-pandas) (0.4.1)\n",
            "Requirement already satisfied: decorator in /usr/local/lib/python3.6/dist-packages (from gspread-pandas) (4.4.0)\n",
            "Requirement already satisfied: requests>=2.2.1 in /usr/local/lib/python3.6/dist-packages (from gspread>=3.0.0->gspread-pandas) (2.21.0)\n",
            "Requirement already satisfied: pyasn1-modules>=0.2.1 in /usr/local/lib/python3.6/dist-packages (from google-auth->gspread-pandas) (0.2.6)\n",
            "Requirement already satisfied: six>=1.9.0 in /usr/local/lib/python3.6/dist-packages (from google-auth->gspread-pandas) (1.12.0)\n",
            "Requirement already satisfied: cachetools>=2.0.0 in /usr/local/lib/python3.6/dist-packages (from google-auth->gspread-pandas) (3.1.1)\n",
            "Requirement already satisfied: rsa>=3.1.4 in /usr/local/lib/python3.6/dist-packages (from google-auth->gspread-pandas) (4.0)\n",
            "Requirement already satisfied: numpy>=1.12.0 in /usr/local/lib/python3.6/dist-packages (from pandas>=0.20.0->gspread-pandas) (1.16.5)\n",
            "Requirement already satisfied: python-dateutil>=2.5.0 in /usr/local/lib/python3.6/dist-packages (from pandas>=0.20.0->gspread-pandas) (2.5.3)\n",
            "Requirement already satisfied: pytz>=2011k in /usr/local/lib/python3.6/dist-packages (from pandas>=0.20.0->gspread-pandas) (2018.9)\n",
            "Requirement already satisfied: requests-oauthlib>=0.7.0 in /usr/local/lib/python3.6/dist-packages (from google-auth-oauthlib->gspread-pandas) (1.2.0)\n",
            "Requirement already satisfied: urllib3<1.25,>=1.21.1 in /usr/local/lib/python3.6/dist-packages (from requests>=2.2.1->gspread>=3.0.0->gspread-pandas) (1.24.3)\n",
            "Requirement already satisfied: idna<2.9,>=2.5 in /usr/local/lib/python3.6/dist-packages (from requests>=2.2.1->gspread>=3.0.0->gspread-pandas) (2.8)\n",
            "Requirement already satisfied: chardet<3.1.0,>=3.0.2 in /usr/local/lib/python3.6/dist-packages (from requests>=2.2.1->gspread>=3.0.0->gspread-pandas) (3.0.4)\n",
            "Requirement already satisfied: certifi>=2017.4.17 in /usr/local/lib/python3.6/dist-packages (from requests>=2.2.1->gspread>=3.0.0->gspread-pandas) (2019.9.11)\n",
            "Requirement already satisfied: pyasn1<0.5.0,>=0.4.6 in /usr/local/lib/python3.6/dist-packages (from pyasn1-modules>=0.2.1->google-auth->gspread-pandas) (0.4.7)\n",
            "Requirement already satisfied: oauthlib>=3.0.0 in /usr/local/lib/python3.6/dist-packages (from requests-oauthlib>=0.7.0->google-auth-oauthlib->gspread-pandas) (3.1.0)\n",
            "Installing collected packages: gspread-formatting\n",
            "Successfully installed gspread-formatting-0.0.7\n"
          ],
          "name": "stdout"
        }
      ]
    },
    {
      "cell_type": "code",
      "metadata": {
        "id": "ccHXoGc8wQaI",
        "colab_type": "code",
        "colab": {}
      },
      "source": [
        "! mkdir -p  /root/.config/gspread_pandas/\n",
        "! echo '{\"installed\":{\"client_id\":\"257572009167-uai362klp88kr3hluabtoujf2hnd7fr6.apps.googleusercontent.com\",\"project_id\":\"formal-archive-254810\",\"auth_uri\":\"https://accounts.google.com/o/oauth2/auth\",\"token_uri\":\"https://oauth2.googleapis.com/token\",\"auth_provider_x509_cert_url\":\"https://www.googleapis.com/oauth2/v1/certs\",\"client_secret\":\"x554t-fVXmFDrENKrXu8GuKy\",\"redirect_uris\":[\"urn:ietf:wg:oauth:2.0:oob\",\"http://localhost\"]}}' > /root/.config/gspread_pandas/google_secret.json"
      ],
      "execution_count": 0,
      "outputs": []
    },
    {
      "cell_type": "code",
      "metadata": {
        "id": "B3y_qT1vwZ2f",
        "colab_type": "code",
        "colab": {}
      },
      "source": [
        "import pandas as pd\n",
        "import random\n",
        "from gspread_pandas import Spread, Client\n",
        "from gspread_formatting import cellFormat, format_cell_range, set_frozen, color, textFormat"
      ],
      "execution_count": 0,
      "outputs": []
    },
    {
      "cell_type": "code",
      "metadata": {
        "id": "3sDThQdvapBH",
        "colab_type": "code",
        "outputId": "7c882f81-175a-4c9e-afee-bcdcd899f9cf",
        "colab": {
          "base_uri": "https://localhost:8080/",
          "height": 1000
        }
      },
      "source": [
        "# Fetch kuvailut\n",
        "\n",
        "client = Client()\n",
        "spreads = client.find_spreadsheet_files_in_folders('Dokumenttien kuvailut')\n",
        "\n",
        "df_kuvailut1 = pd.DataFrame()\n",
        "df_kuvailut2 = pd.DataFrame()\n",
        "\n",
        "for kuvailu_id, spread in enumerate(spreads['Dokumenttien kuvailut']):\n",
        "  print(spread['name'])\n",
        "  # Tietokirjat:\n",
        "  if spread['name'].startswith(\"kuvailut_tieto\"):\n",
        "      df_sheet = Spread(spread['id'], sheet=0).sheet_to_df(index=None)\n",
        "      df_sheet['kid'] = kuvailu_id\n",
        "      df_sheet['tiedostonimi'] = spread['name']\n",
        "      df_sheet.rename(columns={'isbn': 'url kokotekstiin'}, inplace=True)\n",
        "      df_kuvailut1 = df_kuvailut1.append(df_sheet) #[cols_to_keep])\n",
        "  else:\n",
        "      df_sheet = Spread(spread['id'], sheet=0).sheet_to_df(index=None)\n",
        "      df_sheet['kid'] = kuvailu_id\n",
        "      df_sheet['tiedostonimi'] = spread['name']\n",
        "      df_sheet.columns = df_sheet.columns.str.lower()\n",
        "      df_kuvailut2 = df_kuvailut2.append(df_sheet) #[cols_to_keep])    \n",
        "  "
      ],
      "execution_count": 0,
      "outputs": [
        {
          "output_type": "stream",
          "text": [
            "Please visit this URL to authorize this application: https://accounts.google.com/o/oauth2/auth?response_type=code&client_id=257572009167-uai362klp88kr3hluabtoujf2hnd7fr6.apps.googleusercontent.com&redirect_uri=urn%3Aietf%3Awg%3Aoauth%3A2.0%3Aoob&scope=openid+https%3A%2F%2Fwww.googleapis.com%2Fauth%2Fdrive+https%3A%2F%2Fwww.googleapis.com%2Fauth%2Fuserinfo.email+https%3A%2F%2Fwww.googleapis.com%2Fauth%2Fspreadsheets&state=rtNRNsv2zeKB11GrQ7mlar8SQCxnYN&prompt=consent&access_type=offline\n",
            "Enter the authorization code: 4/sAGDIcC78w75EJq-czSd38iAr87pI65ofYJArBZh09fbteWJCKfcrQU\n",
            "jyx_kuvailut Mona\n",
            "jyx_kuvailut Osma\n",
            "jyx_kuvailut Juho\n",
            "jyx_kuvailut_orig\n"
          ],
          "name": "stdout"
        },
        {
          "output_type": "stream",
          "text": [
            "/usr/local/lib/python3.6/dist-packages/pandas/core/frame.py:6692: FutureWarning: Sorting because non-concatenation axis is not aligned. A future version\n",
            "of pandas will change to not sort by default.\n",
            "\n",
            "To accept the future behavior, pass 'sort=False'.\n",
            "\n",
            "To retain the current behavior and silence the warning, pass 'sort=True'.\n",
            "\n",
            "  sort=sort)\n"
          ],
          "name": "stderr"
        },
        {
          "output_type": "stream",
          "text": [
            "Copy of Kuvailut Fennica\n",
            "kuvailut_tieto Osma\n",
            "Copy of Kuvailut K07\n",
            "Copy of Kuvailut K16\n",
            "Copy of Kuvailut K31\n",
            "kuvailut_tieto Mona\n",
            "kuvailut_tieto Fennica\n",
            "kuvailut_tieto Juho\n",
            "SKT4 VL Copy of Kuvailut \n",
            "SKT3 JM Kuvailut Copy of \n",
            " SKT1 KL Copy of Kuvailut\n",
            "SKT2 PM Copy of Kuvailut \n",
            "Copy of Kuvailut K02\n",
            "Copy of Kuvailut K17\n",
            "Copy of Kuvailut K05\n",
            "Copy of Kuvailut K14\n",
            "Copy of Kuvailut K11\n",
            "Copy of Kuvailut K08\n",
            "Copy of Kuvailut K32\n",
            "Copy of Kuvailut K23\n",
            "Copy of Kuvailut K29\n",
            "Copy of Kuvailut K20\n",
            "Copy of Kuvailut K26\n",
            "Copy of Kuvailut K19\n",
            "Copy of Kuvailut K10\n",
            "Copy of Kuvailut K38\n",
            "Copy of Kuvailut K13\n",
            "Copy of Kuvailut K35\n",
            "Copy of Kuvailut K40\n",
            "Copy of Kuvailut K28\n",
            "Copy of Kuvailut K25\n",
            "Copy of Kuvailut K37\n",
            "Copy of Kuvailut K22\n",
            "Copy of Kuvailut K18\n",
            "Copy of Kuvailut K06\n",
            "Copy of Kuvailut K12\n",
            "Copy of Kuvailut K03\n",
            "Copy of Kuvailut K09\n",
            "Copy of Kuvailut K33\n",
            "Copy of Kuvailut K39\n",
            "Copy of Kuvailut K21\n",
            "Copy of Kuvailut K36\n",
            "Copy of Kuvailut K04\n",
            "Copy of Kuvailut K01\n",
            "Copy of Kuvailut K34\n",
            "Copy of Kuvailut K24\n",
            "Copy of Kuvailut K15\n",
            "Copy of Kuvailut K30\n",
            "Copy of Kuvailut K27\n"
          ],
          "name": "stdout"
        }
      ]
    },
    {
      "cell_type": "code",
      "metadata": {
        "id": "inElSu2NNxpm",
        "colab_type": "code",
        "outputId": "9ba41486-bf8f-45e4-d07a-1903d4162593",
        "colab": {
          "base_uri": "https://localhost:8080/",
          "height": 164
        }
      },
      "source": [
        "# Preprocess 1\n",
        "\n",
        "df_kuvailut = pd.concat([df_kuvailut1, df_kuvailut2])\n",
        "cols_to_keep = ['id', 'nimeke', 'url kokotekstiin', 'aiheet', 'kid', 'tiedostonimi']\n",
        "df_kuvailut = df_kuvailut[cols_to_keep]\n",
        "df_kuvailut.rename(columns={'id': 'did'}, inplace=True)\n",
        "df_kuvailut[['did', 'nimeke', 'url kokotekstiin']] = df_kuvailut[['did', 'nimeke', 'url kokotekstiin']].mask(df_kuvailut[['did', 'nimeke', 'url kokotekstiin']]=='', None).ffill()\n"
      ],
      "execution_count": 70,
      "outputs": [
        {
          "output_type": "stream",
          "text": [
            "/usr/local/lib/python3.6/dist-packages/ipykernel_launcher.py:2: FutureWarning: Sorting because non-concatenation axis is not aligned. A future version\n",
            "of pandas will change to not sort by default.\n",
            "\n",
            "To accept the future behavior, pass 'sort=False'.\n",
            "\n",
            "To retain the current behavior and silence the warning, pass 'sort=True'.\n",
            "\n",
            "  \n"
          ],
          "name": "stderr"
        }
      ]
    },
    {
      "cell_type": "code",
      "metadata": {
        "id": "2issbMKK2wZF",
        "colab_type": "code",
        "outputId": "aa26f157-5ce5-466d-c94b-4ef30f2ceda2",
        "colab": {
          "base_uri": "https://localhost:8080/",
          "height": 206
        }
      },
      "source": [
        "# Set types of index source method\n",
        "ihminen = ['kuvailut_tieto Mona', 'jyx_kuvailut Mona', 'Copy of Kuvailut K']\n",
        "annif_avusteiset = ['kuvailut_tieto Osma', 'kuvailut_tieto Juho', 'jyx_kuvailut_orig']\n",
        "#annif = ['']\n",
        "fennica = ['kuvailut_tieto Fennica', 'Copy of Kuvailut Fennica']\n",
        "\n",
        "df_kuvailut['tyyppi'] = df_kuvailut['tiedostonimi'].apply(lambda x: 'annif_avusteinen' if x in annif_avusteiset\n",
        "                                                                  else ('fennica' if x in fennica else 'ihminen'\n",
        "                                                                  ))\n",
        "\n",
        "df_kuvailut = df_kuvailut[df_kuvailut.did != 'D00']  # Poista esimerkkikuvailu\n",
        "\n",
        "df_kuvailut.head()"
      ],
      "execution_count": 71,
      "outputs": [
        {
          "output_type": "execute_result",
          "data": {
            "text/html": [
              "<div>\n",
              "<style scoped>\n",
              "    .dataframe tbody tr th:only-of-type {\n",
              "        vertical-align: middle;\n",
              "    }\n",
              "\n",
              "    .dataframe tbody tr th {\n",
              "        vertical-align: top;\n",
              "    }\n",
              "\n",
              "    .dataframe thead th {\n",
              "        text-align: right;\n",
              "    }\n",
              "</style>\n",
              "<table border=\"1\" class=\"dataframe\">\n",
              "  <thead>\n",
              "    <tr style=\"text-align: right;\">\n",
              "      <th></th>\n",
              "      <th>did</th>\n",
              "      <th>nimeke</th>\n",
              "      <th>url kokotekstiin</th>\n",
              "      <th>aiheet</th>\n",
              "      <th>kid</th>\n",
              "      <th>tiedostonimi</th>\n",
              "      <th>tyyppi</th>\n",
              "    </tr>\n",
              "  </thead>\n",
              "  <tbody>\n",
              "    <tr>\n",
              "      <th>0</th>\n",
              "      <td>TI01</td>\n",
              "      <td>Mahtava moka : uskalla, opi ja menesty</td>\n",
              "      <td>9789521433085</td>\n",
              "      <td>virheet</td>\n",
              "      <td>5</td>\n",
              "      <td>kuvailut_tieto Osma</td>\n",
              "      <td>annif_avusteinen</td>\n",
              "    </tr>\n",
              "    <tr>\n",
              "      <th>1</th>\n",
              "      <td>TI01</td>\n",
              "      <td>Mahtava moka : uskalla, opi ja menesty</td>\n",
              "      <td>9789521433085</td>\n",
              "      <td>epäonnistuminen</td>\n",
              "      <td>5</td>\n",
              "      <td>kuvailut_tieto Osma</td>\n",
              "      <td>annif_avusteinen</td>\n",
              "    </tr>\n",
              "    <tr>\n",
              "      <th>2</th>\n",
              "      <td>TI01</td>\n",
              "      <td>Mahtava moka : uskalla, opi ja menesty</td>\n",
              "      <td>9789521433085</td>\n",
              "      <td>johtaminen</td>\n",
              "      <td>5</td>\n",
              "      <td>kuvailut_tieto Osma</td>\n",
              "      <td>annif_avusteinen</td>\n",
              "    </tr>\n",
              "    <tr>\n",
              "      <th>3</th>\n",
              "      <td>TI01</td>\n",
              "      <td>Mahtava moka : uskalla, opi ja menesty</td>\n",
              "      <td>9789521433085</td>\n",
              "      <td>pelko</td>\n",
              "      <td>5</td>\n",
              "      <td>kuvailut_tieto Osma</td>\n",
              "      <td>annif_avusteinen</td>\n",
              "    </tr>\n",
              "    <tr>\n",
              "      <th>4</th>\n",
              "      <td>TI01</td>\n",
              "      <td>Mahtava moka : uskalla, opi ja menesty</td>\n",
              "      <td>9789521433085</td>\n",
              "      <td>esimiehet</td>\n",
              "      <td>5</td>\n",
              "      <td>kuvailut_tieto Osma</td>\n",
              "      <td>annif_avusteinen</td>\n",
              "    </tr>\n",
              "  </tbody>\n",
              "</table>\n",
              "</div>"
            ],
            "text/plain": [
              "    did  ...            tyyppi\n",
              "0  TI01  ...  annif_avusteinen\n",
              "1  TI01  ...  annif_avusteinen\n",
              "2  TI01  ...  annif_avusteinen\n",
              "3  TI01  ...  annif_avusteinen\n",
              "4  TI01  ...  annif_avusteinen\n",
              "\n",
              "[5 rows x 7 columns]"
            ]
          },
          "metadata": {
            "tags": []
          },
          "execution_count": 71
        }
      ]
    },
    {
      "cell_type": "code",
      "metadata": {
        "id": "Sm9eYcMtl6rx",
        "colab_type": "code",
        "outputId": "fea0345d-0235-42f9-db43-4194ebf2aa17",
        "colab": {
          "base_uri": "https://localhost:8080/",
          "height": 511
        }
      },
      "source": [
        "# Create header and footer to insert around kuvailu \n",
        "\n",
        "df_ylaosa = pd.DataFrame({'did': [''], 'kid': [''], 'aiheet': ['aiheet'], 'poistettavat': ['poista = x'], 'empty1': [''], 'empty2': ['']})\n",
        "\n",
        "df_alaosa0 = pd.DataFrame({'did': [''], 'aiheet': [''], 'kid': ['']})\n",
        "df_alaosa1 = pd.DataFrame({'did': [''], 'empty2': ['arvosana'], 'kid': ['']})\n",
        "df_alaosa2 = pd.DataFrame({'did': ['']*4, 'empty1': ['Kuvailu on kattava', 'Käytetyt asiasanat ovat sisällön kannalta merkityksellisiä', 'Kuvailu on laadukas', 'Vapaa kenttä'], 'kid': ['']*4})\n",
        "df_alaosa = pd.concat([df_alaosa0, df_alaosa1, df_alaosa2, df_alaosa0, df_alaosa0])\n",
        "\n",
        "\n",
        "display(df_ylaosa)\n",
        "display(df_alaosa)\n",
        "\n",
        "# Formatting\n",
        "fmt = cellFormat(\n",
        "    horizontalAlignment='RIGHT'\n",
        "    )\n",
        "fmt_header = cellFormat(\n",
        "    backgroundColor=color(144/256., 238/256., 144/256.),\n",
        "    textFormat=textFormat(bold=True) #, foregroundColor=color(1, 0, 1)),\n",
        "    )\n"
      ],
      "execution_count": 102,
      "outputs": [
        {
          "output_type": "stream",
          "text": [
            "/usr/local/lib/python3.6/dist-packages/ipykernel_launcher.py:7: FutureWarning: Sorting because non-concatenation axis is not aligned. A future version\n",
            "of pandas will change to not sort by default.\n",
            "\n",
            "To accept the future behavior, pass 'sort=False'.\n",
            "\n",
            "To retain the current behavior and silence the warning, pass 'sort=True'.\n",
            "\n",
            "  import sys\n"
          ],
          "name": "stderr"
        },
        {
          "output_type": "display_data",
          "data": {
            "text/html": [
              "<div>\n",
              "<style scoped>\n",
              "    .dataframe tbody tr th:only-of-type {\n",
              "        vertical-align: middle;\n",
              "    }\n",
              "\n",
              "    .dataframe tbody tr th {\n",
              "        vertical-align: top;\n",
              "    }\n",
              "\n",
              "    .dataframe thead th {\n",
              "        text-align: right;\n",
              "    }\n",
              "</style>\n",
              "<table border=\"1\" class=\"dataframe\">\n",
              "  <thead>\n",
              "    <tr style=\"text-align: right;\">\n",
              "      <th></th>\n",
              "      <th>did</th>\n",
              "      <th>kid</th>\n",
              "      <th>aiheet</th>\n",
              "      <th>poistettavat</th>\n",
              "      <th>empty1</th>\n",
              "      <th>empty2</th>\n",
              "    </tr>\n",
              "  </thead>\n",
              "  <tbody>\n",
              "    <tr>\n",
              "      <th>0</th>\n",
              "      <td></td>\n",
              "      <td></td>\n",
              "      <td>aiheet</td>\n",
              "      <td>poista = x</td>\n",
              "      <td></td>\n",
              "      <td></td>\n",
              "    </tr>\n",
              "  </tbody>\n",
              "</table>\n",
              "</div>"
            ],
            "text/plain": [
              "  did kid  aiheet poistettavat empty1 empty2\n",
              "0          aiheet   poista = x              "
            ]
          },
          "metadata": {
            "tags": []
          }
        },
        {
          "output_type": "display_data",
          "data": {
            "text/html": [
              "<div>\n",
              "<style scoped>\n",
              "    .dataframe tbody tr th:only-of-type {\n",
              "        vertical-align: middle;\n",
              "    }\n",
              "\n",
              "    .dataframe tbody tr th {\n",
              "        vertical-align: top;\n",
              "    }\n",
              "\n",
              "    .dataframe thead th {\n",
              "        text-align: right;\n",
              "    }\n",
              "</style>\n",
              "<table border=\"1\" class=\"dataframe\">\n",
              "  <thead>\n",
              "    <tr style=\"text-align: right;\">\n",
              "      <th></th>\n",
              "      <th>aiheet</th>\n",
              "      <th>did</th>\n",
              "      <th>empty1</th>\n",
              "      <th>empty2</th>\n",
              "      <th>kid</th>\n",
              "    </tr>\n",
              "  </thead>\n",
              "  <tbody>\n",
              "    <tr>\n",
              "      <th>0</th>\n",
              "      <td></td>\n",
              "      <td></td>\n",
              "      <td>NaN</td>\n",
              "      <td>NaN</td>\n",
              "      <td></td>\n",
              "    </tr>\n",
              "    <tr>\n",
              "      <th>0</th>\n",
              "      <td>NaN</td>\n",
              "      <td></td>\n",
              "      <td>NaN</td>\n",
              "      <td>arvosana</td>\n",
              "      <td></td>\n",
              "    </tr>\n",
              "    <tr>\n",
              "      <th>0</th>\n",
              "      <td>NaN</td>\n",
              "      <td></td>\n",
              "      <td>Kuvailu on kattava</td>\n",
              "      <td>NaN</td>\n",
              "      <td></td>\n",
              "    </tr>\n",
              "    <tr>\n",
              "      <th>1</th>\n",
              "      <td>NaN</td>\n",
              "      <td></td>\n",
              "      <td>Käytetyt asiasanat ovat sisällön kannalta merk...</td>\n",
              "      <td>NaN</td>\n",
              "      <td></td>\n",
              "    </tr>\n",
              "    <tr>\n",
              "      <th>2</th>\n",
              "      <td>NaN</td>\n",
              "      <td></td>\n",
              "      <td>Kuvailu on laadukas</td>\n",
              "      <td>NaN</td>\n",
              "      <td></td>\n",
              "    </tr>\n",
              "    <tr>\n",
              "      <th>3</th>\n",
              "      <td>NaN</td>\n",
              "      <td></td>\n",
              "      <td>Vapaa kenttä</td>\n",
              "      <td>NaN</td>\n",
              "      <td></td>\n",
              "    </tr>\n",
              "    <tr>\n",
              "      <th>0</th>\n",
              "      <td></td>\n",
              "      <td></td>\n",
              "      <td>NaN</td>\n",
              "      <td>NaN</td>\n",
              "      <td></td>\n",
              "    </tr>\n",
              "    <tr>\n",
              "      <th>0</th>\n",
              "      <td></td>\n",
              "      <td></td>\n",
              "      <td>NaN</td>\n",
              "      <td>NaN</td>\n",
              "      <td></td>\n",
              "    </tr>\n",
              "  </tbody>\n",
              "</table>\n",
              "</div>"
            ],
            "text/plain": [
              "  aiheet did                                             empty1    empty2 kid\n",
              "0                                                           NaN       NaN    \n",
              "0    NaN                                                    NaN  arvosana    \n",
              "0    NaN                                     Kuvailu on kattava       NaN    \n",
              "1    NaN      Käytetyt asiasanat ovat sisällön kannalta merk...       NaN    \n",
              "2    NaN                                    Kuvailu on laadukas       NaN    \n",
              "3    NaN                                           Vapaa kenttä       NaN    \n",
              "0                                                           NaN       NaN    \n",
              "0                                                           NaN       NaN    "
            ]
          },
          "metadata": {
            "tags": []
          }
        }
      ]
    },
    {
      "cell_type": "code",
      "metadata": {
        "id": "IqiKJVk-oEYy",
        "colab_type": "code",
        "outputId": "6b658ad6-4dc2-4dba-f96b-d4b0351b8ee5",
        "colab": {
          "base_uri": "https://localhost:8080/",
          "height": 127
        }
      },
      "source": [
        "# Create files and sheets\n",
        "\n",
        "min_num_aiheet = 1\n",
        "max_num_ihmiskuvailut = 3\n",
        "num_arvioija = 2\n",
        "num_sheets = 2\n",
        "\n",
        "include_types = ['fennica', 'annif_avusteinen']\n",
        "columns = ['did', 'kid', 'aiheet'] #, 'tiedostonimi']\n",
        "\n",
        "dokumentit = [(did, df_dokumentti) for did, df_dokumentti in df_kuvailut.groupby('did')]\n",
        "\n",
        "for arvioija_ind in range(num_arvioija):\n",
        "    print('arvioija_ind: ', arvioija_ind)\n",
        "    spread = Spread('arvioija_' + str(arvioija_ind) , create_spread=True)\n",
        "    spread.move('Test folder')\n",
        "    #random.shuffle(dokumentit)\n",
        "\n",
        "    cnt_sheet = 0\n",
        "    for did, df_dokumentti in dokumentit:\n",
        "        spread.open_sheet(did, create=True)\n",
        "        df_pohja = pd.DataFrame(columns=columns)\n",
        "        print('document_id: ', did)\n",
        "        kuvailut = [df_dokumentti_kuvailu \n",
        "                    for _, df_dokumentti_kuvailu \n",
        "                    in df_dokumentti.groupby('kid')\n",
        "                    if df_dokumentti_kuvailu.tyyppi.iloc[0] in include_types\n",
        "                    and len(df_dokumentti_kuvailu.aiheet[df_dokumentti_kuvailu.aiheet != '']) >= min_num_aiheet\n",
        "                    ]\n",
        "        ihmiskuvailut = [df_dokumentti_kuvailu \n",
        "                    for _, df_dokumentti_kuvailu \n",
        "                    in df_dokumentti.groupby('kid')\n",
        "                    if df_dokumentti_kuvailu.tyyppi.iloc[0] == 'ihminen'\n",
        "                    and len(df_dokumentti_kuvailu.aiheet[df_dokumentti_kuvailu.aiheet != '']) >= min_num_aiheet\n",
        "                    ]\n",
        "        random.shuffle(ihmiskuvailut)\n",
        "        ihmiskuvailut = ihmiskuvailut[:max_num_ihmiskuvailut]\n",
        "        kuvailut.extend(ihmiskuvailut)\n",
        "        random.shuffle(kuvailut)\n",
        "        \n",
        "        df_header = df_dokumentti.iloc[0][['did', 'nimeke', 'url kokotekstiin']].to_frame()\n",
        "        spread.df_to_sheet(df_header, headers=False, index=False)\n",
        "\n",
        "        for df_dokumentti_kuvailu in kuvailut:\n",
        "            df_pohja = df_pohja.append(df_ylaosa.append(df_dokumentti_kuvailu[columns], sort=False).append(df_alaosa, sort=False).fillna(''), sort=False)\n",
        "\n",
        "        spread.df_to_sheet(df_pohja, index=False, headers=False, start=(4, 1))\n",
        "        format_cell_range(spread.sheet, 'D1:D' + str(len(df_pohja)), fmt)\n",
        "        set_frozen(spread.sheet, rows=3)\n",
        "        format_cell_range(spread.sheet, 'A1:F3', fmt_header)\n",
        "        \n",
        "        cnt_sheet += 1\n",
        "        if cnt_sheet >= num_sheets:\n",
        "            break\n",
        "    dokumentit = dokumentit[1:] + [dokumentit[0]]  # Rotate order from front to back\n"
      ],
      "execution_count": 103,
      "outputs": [
        {
          "output_type": "stream",
          "text": [
            "arvioija_ind:  0\n",
            "document_id:  D01\n",
            "document_id:  D02\n",
            "arvioija_ind:  1\n",
            "document_id:  D02\n",
            "document_id:  D03\n"
          ],
          "name": "stdout"
        }
      ]
    },
    {
      "cell_type": "code",
      "metadata": {
        "id": "j2XoPsCzwOz3",
        "colab_type": "code",
        "outputId": "6a99edd5-983a-42ba-cf9d-5c3f9a10a3bf",
        "colab": {
          "base_uri": "https://localhost:8080/",
          "height": 143
        }
      },
      "source": [
        "#pd.DataFrame(kuvailu.iloc[0])\n",
        "df_dokumentti.iloc[0][['did', 'nimeke', 'url kokotekstiin']].to_frame()\n",
        "df_header"
      ],
      "execution_count": 0,
      "outputs": [
        {
          "output_type": "execute_result",
          "data": {
            "text/html": [
              "<div>\n",
              "<style scoped>\n",
              "    .dataframe tbody tr th:only-of-type {\n",
              "        vertical-align: middle;\n",
              "    }\n",
              "\n",
              "    .dataframe tbody tr th {\n",
              "        vertical-align: top;\n",
              "    }\n",
              "\n",
              "    .dataframe thead th {\n",
              "        text-align: right;\n",
              "    }\n",
              "</style>\n",
              "<table border=\"1\" class=\"dataframe\">\n",
              "  <thead>\n",
              "    <tr style=\"text-align: right;\">\n",
              "      <th></th>\n",
              "      <th>30</th>\n",
              "    </tr>\n",
              "  </thead>\n",
              "  <tbody>\n",
              "    <tr>\n",
              "      <th>did</th>\n",
              "      <td>D03</td>\n",
              "    </tr>\n",
              "    <tr>\n",
              "      <th>url kokotekstiin</th>\n",
              "      <td>https://www.doria.fi/bitstream/handle/10024/12...</td>\n",
              "    </tr>\n",
              "    <tr>\n",
              "      <th>nimeke</th>\n",
              "      <td>Henkilöstökertomus 2016 (Liikennevirasto)</td>\n",
              "    </tr>\n",
              "  </tbody>\n",
              "</table>\n",
              "</div>"
            ],
            "text/plain": [
              "                                                                 30\n",
              "did                                                             D03\n",
              "url kokotekstiin  https://www.doria.fi/bitstream/handle/10024/12...\n",
              "nimeke                    Henkilöstökertomus 2016 (Liikennevirasto)"
            ]
          },
          "metadata": {
            "tags": []
          },
          "execution_count": 66
        }
      ]
    },
    {
      "cell_type": "code",
      "metadata": {
        "id": "Sv1C7j5YKZyu",
        "colab_type": "code",
        "outputId": "46dc6d3d-9bc7-4d68-f1d4-464a487d73ad",
        "colab": {
          "base_uri": "https://localhost:8080/",
          "height": 129
        }
      },
      "source": [
        "# Save kuvailut data for use in analysis\n",
        "\n",
        "from google.colab import drive\n",
        "drive.mount('drive')\n",
        "\n",
        "df_kuvailut.to_csv('kuvailut.csv')\n",
        "!cp kuvailut.csv drive/My\\ Drive/"
      ],
      "execution_count": 0,
      "outputs": [
        {
          "output_type": "stream",
          "text": [
            "Go to this URL in a browser: https://accounts.google.com/o/oauth2/auth?client_id=947318989803-6bn6qk8qdgf4n4g3pfee6491hc0brc4i.apps.googleusercontent.com&redirect_uri=urn%3Aietf%3Awg%3Aoauth%3A2.0%3Aoob&scope=email%20https%3A%2F%2Fwww.googleapis.com%2Fauth%2Fdocs.test%20https%3A%2F%2Fwww.googleapis.com%2Fauth%2Fdrive%20https%3A%2F%2Fwww.googleapis.com%2Fauth%2Fdrive.photos.readonly%20https%3A%2F%2Fwww.googleapis.com%2Fauth%2Fpeopleapi.readonly&response_type=code\n",
            "\n",
            "Enter your authorization code:\n",
            "··········\n",
            "Mounted at drive\n"
          ],
          "name": "stdout"
        }
      ]
    },
    {
      "cell_type": "code",
      "metadata": {
        "id": "q1vqcONR5Sgy",
        "colab_type": "code",
        "colab": {}
      },
      "source": [
        "# create a blank spreadsheet with a specified title.\n",
        "\n",
        "spreadsheet = {\n",
        "    'properties': {\n",
        "        'title': title\n",
        "    }\n",
        "}\n",
        "spreadsheet = service.spreadsheets().create(body=spreadsheet,\n",
        "                                    fields='spreadsheetId').execute()\n",
        "print('Spreadsheet ID: {0}'.format(spreadsheet.get('spreadsheetId')))\n",
        "\n",
        "\n",
        "#To write to a sheet, you will need the spreadsheet ID, the range(s) in A1 notation,\n",
        "#and the data you wish to write arranged in an appropriate request body object.\n",
        "values = [\n",
        "    [\n",
        "        # Cell values ...\n",
        "    ],\n",
        "    # Additional rows\n",
        "]\n",
        "data = [\n",
        "    {\n",
        "        'range': range_name,\n",
        "        'values': values\n",
        "    },\n",
        "    # Additional ranges to update ...\n",
        "]\n",
        "body = {\n",
        "    'valueInputOption': value_input_option,\n",
        "    'data': data\n",
        "}\n",
        "result = service.spreadsheets().values().batchUpdate(\n",
        "    spreadsheetId=spreadsheet_id, body=body).execute()\n",
        "print('{0} cells updated.'.format(result.get('totalUpdatedCells')))\n",
        "\n",
        "\n",
        "#copy sheets\n",
        "from googleapiclient import discovery\n",
        "\n",
        "# TODO: Change placeholder below to generate authentication credentials. See\n",
        "# https://developers.google.com/sheets/quickstart/python#step_3_set_up_the_sample\n",
        "#\n",
        "# Authorize using one of the following scopes:\n",
        "#     'https://www.googleapis.com/auth/drive'\n",
        "#     'https://www.googleapis.com/auth/drive.file'\n",
        "#     'https://www.googleapis.com/auth/spreadsheets'\n",
        "credentials = None\n",
        "\n",
        "service = discovery.build('sheets', 'v4', credentials=credentials)\n",
        "\n",
        "# The ID of the spreadsheet containing the sheet to copy.\n",
        "spreadsheet_id = 'my-spreadsheet-id'  # TODO: Update placeholder value.\n",
        "\n",
        "# The ID of the sheet to copy.\n",
        "sheet_id = 0  # TODO: Update placeholder value.\n",
        "\n",
        "copy_sheet_to_another_spreadsheet_request_body = {\n",
        "    # The ID of the spreadsheet to copy the sheet to.\n",
        "    'destination_spreadsheet_id': '',  # TODO: Update placeholder value.\n",
        "\n",
        "    # TODO: Add desired entries to the request body.\n",
        "}\n",
        "\n",
        "request = service.spreadsheets().sheets().copyTo(spreadsheetId=spreadsheet_id, sheetId=sheet_id, body=copy_sheet_to_another_spreadsheet_request_body)\n",
        "response = request.execute()\n",
        "\n",
        "# TODO: Change code below to process the `response` dict:\n"
      ],
      "execution_count": 0,
      "outputs": []
    },
    {
      "cell_type": "code",
      "metadata": {
        "id": "A0jIMcWmrZnD",
        "colab_type": "code",
        "colab": {}
      },
      "source": [
        "#using gspread\n",
        "scope = [\n",
        "    'https://spreadsheets.google.com/feeds',\n",
        "    'https://www.googleapis.com/auth/drive'\n",
        "]\n",
        "\n",
        "# making spreadsheets\n",
        "create(title)\n",
        "\n",
        "t == \"\"\n",
        "for i in range(50):\n",
        "  t == t+str(i)\n",
        "  create()\n",
        "\n"
      ],
      "execution_count": 0,
      "outputs": []
    },
    {
      "cell_type": "code",
      "metadata": {
        "id": "71AeQrxorZHJ",
        "colab_type": "code",
        "colab": {}
      },
      "source": [
        ""
      ],
      "execution_count": 0,
      "outputs": []
    }
  ]
}